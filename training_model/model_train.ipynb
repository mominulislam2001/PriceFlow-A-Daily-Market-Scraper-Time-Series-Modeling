{
 "cells": [
  {
   "cell_type": "markdown",
   "metadata": {},
   "source": [
    "Training The Models"
   ]
  },
  {
   "cell_type": "code",
   "execution_count": 1,
   "metadata": {},
   "outputs": [
    {
     "name": "stderr",
     "output_type": "stream",
     "text": [
      "d:\\Projects\\market price\\training_model\\model.py:18: FutureWarning: DataFrame.interpolate with object dtype is deprecated and will raise in a future version. Call obj.infer_objects(copy=False) before interpolating instead.\n",
      "  pivot_df = pivot_df.interpolate(method='linear', axis=0).fillna(method='bfill').fillna(method='ffill')\n",
      "d:\\Projects\\market price\\training_model\\model.py:18: FutureWarning: DataFrame.fillna with 'method' is deprecated and will raise in a future version. Use obj.ffill() or obj.bfill() instead.\n",
      "  pivot_df = pivot_df.interpolate(method='linear', axis=0).fillna(method='bfill').fillna(method='ffill')\n"
     ]
    },
    {
     "name": "stdout",
     "output_type": "stream",
     "text": [
      "Epoch 1/10\n",
      "71/71 [==============================] - 13s 98ms/step - loss: 0.1449 - val_loss: 0.2095\n",
      "Epoch 2/10\n",
      "71/71 [==============================] - 5s 71ms/step - loss: 0.0499 - val_loss: 0.1812\n",
      "Epoch 3/10\n",
      "71/71 [==============================] - 6s 90ms/step - loss: 0.0442 - val_loss: 0.1191\n",
      "Epoch 4/10\n",
      "71/71 [==============================] - 6s 82ms/step - loss: 0.0423 - val_loss: 0.1046\n",
      "Epoch 5/10\n",
      "71/71 [==============================] - 7s 98ms/step - loss: 0.0414 - val_loss: 0.1052\n",
      "Epoch 6/10\n",
      "71/71 [==============================] - 5s 70ms/step - loss: 0.0408 - val_loss: 0.1084\n",
      "Epoch 7/10\n",
      "71/71 [==============================] - 5s 66ms/step - loss: 0.0400 - val_loss: 0.0945\n",
      "Epoch 8/10\n",
      "71/71 [==============================] - 5s 66ms/step - loss: 0.0398 - val_loss: 0.1026\n",
      "Epoch 9/10\n",
      "71/71 [==============================] - 5s 75ms/step - loss: 0.0397 - val_loss: 0.0954\n",
      "Epoch 10/10\n",
      "71/71 [==============================] - 6s 88ms/step - loss: 0.0393 - val_loss: 0.0887\n",
      "Model for beef saved to trained_models\\beef_model.h5.\n"
     ]
    },
    {
     "name": "stderr",
     "output_type": "stream",
     "text": [
      "c:\\Program Files\\Python310\\lib\\site-packages\\keras\\src\\engine\\training.py:3079: UserWarning: You are saving your model as an HDF5 file via `model.save()`. This file format is considered legacy. We recommend using instead the native Keras format, e.g. `model.save('my_model.keras')`.\n",
      "  saving_api.save_model(\n"
     ]
    },
    {
     "name": "stdout",
     "output_type": "stream",
     "text": [
      "Epoch 1/10\n",
      "69/69 [==============================] - 12s 101ms/step - loss: 0.2188 - val_loss: 0.4146\n",
      "Epoch 2/10\n",
      "69/69 [==============================] - 6s 85ms/step - loss: 0.0531 - val_loss: 0.2480\n",
      "Epoch 3/10\n",
      "69/69 [==============================] - 5s 71ms/step - loss: 0.0407 - val_loss: 0.1416\n",
      "Epoch 4/10\n",
      "69/69 [==============================] - 5s 73ms/step - loss: 0.0355 - val_loss: 0.1336\n",
      "Epoch 5/10\n",
      "69/69 [==============================] - 5s 74ms/step - loss: 0.0326 - val_loss: 0.1452\n",
      "Epoch 6/10\n",
      "69/69 [==============================] - 5s 74ms/step - loss: 0.0301 - val_loss: 0.1650\n",
      "Epoch 7/10\n",
      "69/69 [==============================] - 5s 72ms/step - loss: 0.0296 - val_loss: 0.1446\n",
      "Epoch 8/10\n",
      "69/69 [==============================] - 5s 73ms/step - loss: 0.0288 - val_loss: 0.0774\n",
      "Epoch 9/10\n",
      "69/69 [==============================] - 5s 77ms/step - loss: 0.0275 - val_loss: 0.0468\n",
      "Epoch 10/10\n",
      "69/69 [==============================] - 5s 77ms/step - loss: 0.0268 - val_loss: 0.0564\n",
      "Model for mutton (male) saved to trained_models\\mutton (male)_model.h5.\n"
     ]
    },
    {
     "name": "stderr",
     "output_type": "stream",
     "text": [
      "c:\\Program Files\\Python310\\lib\\site-packages\\keras\\src\\engine\\training.py:3079: UserWarning: You are saving your model as an HDF5 file via `model.save()`. This file format is considered legacy. We recommend using instead the native Keras format, e.g. `model.save('my_model.keras')`.\n",
      "  saving_api.save_model(\n"
     ]
    },
    {
     "name": "stdout",
     "output_type": "stream",
     "text": [
      "Epoch 1/10\n",
      "43/43 [==============================] - 14s 108ms/step - loss: 0.3462 - val_loss: 0.3306\n",
      "Epoch 2/10\n",
      "43/43 [==============================] - 5s 124ms/step - loss: 0.0623 - val_loss: 0.3542\n",
      "Epoch 3/10\n",
      "43/43 [==============================] - 5s 109ms/step - loss: 0.0339 - val_loss: 0.3220\n",
      "Epoch 4/10\n",
      "43/43 [==============================] - 5s 115ms/step - loss: 0.0277 - val_loss: 0.2813\n",
      "Epoch 5/10\n",
      "43/43 [==============================] - 5s 114ms/step - loss: 0.0257 - val_loss: 0.2408\n",
      "Epoch 6/10\n",
      "43/43 [==============================] - 5s 114ms/step - loss: 0.0223 - val_loss: 0.2103\n",
      "Epoch 7/10\n",
      "43/43 [==============================] - 5s 112ms/step - loss: 0.0196 - val_loss: 0.1559\n",
      "Epoch 8/10\n",
      "43/43 [==============================] - 5s 117ms/step - loss: 0.0193 - val_loss: 0.1920\n",
      "Epoch 9/10\n",
      "43/43 [==============================] - 5s 113ms/step - loss: 0.0175 - val_loss: 0.1652\n",
      "Epoch 10/10\n",
      "43/43 [==============================] - 5s 114ms/step - loss: 0.0172 - val_loss: 0.1589\n",
      "Model for buffalo meat saved to trained_models\\buffalo meat_model.h5.\n"
     ]
    },
    {
     "name": "stderr",
     "output_type": "stream",
     "text": [
      "c:\\Program Files\\Python310\\lib\\site-packages\\keras\\src\\engine\\training.py:3079: UserWarning: You are saving your model as an HDF5 file via `model.save()`. This file format is considered legacy. We recommend using instead the native Keras format, e.g. `model.save('my_model.keras')`.\n",
      "  saving_api.save_model(\n"
     ]
    },
    {
     "name": "stdout",
     "output_type": "stream",
     "text": [
      "Epoch 1/10\n",
      "38/38 [==============================] - 11s 152ms/step - loss: 0.2287 - val_loss: 0.4070\n",
      "Epoch 2/10\n",
      "38/38 [==============================] - 3s 86ms/step - loss: 0.0532 - val_loss: 0.4127\n",
      "Epoch 3/10\n",
      "38/38 [==============================] - 3s 83ms/step - loss: 0.0354 - val_loss: 0.4443\n",
      "Epoch 4/10\n",
      "38/38 [==============================] - 3s 82ms/step - loss: 0.0302 - val_loss: 0.3190\n",
      "Epoch 5/10\n",
      "38/38 [==============================] - 3s 80ms/step - loss: 0.0271 - val_loss: 0.3122\n",
      "Epoch 6/10\n",
      "38/38 [==============================] - 3s 82ms/step - loss: 0.0232 - val_loss: 0.2215\n",
      "Epoch 7/10\n",
      "38/38 [==============================] - 3s 81ms/step - loss: 0.0212 - val_loss: 0.2584\n",
      "Epoch 8/10\n",
      "38/38 [==============================] - 3s 82ms/step - loss: 0.0190 - val_loss: 0.2646\n",
      "Epoch 9/10\n",
      "38/38 [==============================] - 3s 85ms/step - loss: 0.0164 - val_loss: 0.1949\n",
      "Epoch 10/10\n",
      "38/38 [==============================] - 3s 81ms/step - loss: 0.0181 - val_loss: 0.1360\n",
      "Model for lamb (sheep meat) saved to trained_models\\lamb (sheep meat)_model.h5.\n"
     ]
    },
    {
     "name": "stderr",
     "output_type": "stream",
     "text": [
      "c:\\Program Files\\Python310\\lib\\site-packages\\keras\\src\\engine\\training.py:3079: UserWarning: You are saving your model as an HDF5 file via `model.save()`. This file format is considered legacy. We recommend using instead the native Keras format, e.g. `model.save('my_model.keras')`.\n",
      "  saving_api.save_model(\n"
     ]
    },
    {
     "name": "stdout",
     "output_type": "stream",
     "text": [
      "Epoch 1/10\n",
      "60/60 [==============================] - 12s 112ms/step - loss: 0.2150 - val_loss: 0.0773\n",
      "Epoch 2/10\n",
      "60/60 [==============================] - 5s 90ms/step - loss: 0.0522 - val_loss: 0.0791\n",
      "Epoch 3/10\n",
      "60/60 [==============================] - 5s 90ms/step - loss: 0.0361 - val_loss: 0.0640\n",
      "Epoch 4/10\n",
      "60/60 [==============================] - 5s 87ms/step - loss: 0.0308 - val_loss: 0.0425\n",
      "Epoch 5/10\n",
      "60/60 [==============================] - 6s 98ms/step - loss: 0.0289 - val_loss: 0.0289\n",
      "Epoch 6/10\n",
      "60/60 [==============================] - 5s 91ms/step - loss: 0.0266 - val_loss: 0.0264\n",
      "Epoch 7/10\n",
      "60/60 [==============================] - 6s 99ms/step - loss: 0.0256 - val_loss: 0.0249\n",
      "Epoch 8/10\n",
      "60/60 [==============================] - 5s 89ms/step - loss: 0.0249 - val_loss: 0.0250\n",
      "Epoch 9/10\n",
      "60/60 [==============================] - 5s 86ms/step - loss: 0.0242 - val_loss: 0.0229\n",
      "Epoch 10/10\n",
      "60/60 [==============================] - 5s 90ms/step - loss: 0.0239 - val_loss: 0.0203\n",
      "Model for mutton (female) saved to trained_models\\mutton (female)_model.h5.\n"
     ]
    },
    {
     "name": "stderr",
     "output_type": "stream",
     "text": [
      "c:\\Program Files\\Python310\\lib\\site-packages\\keras\\src\\engine\\training.py:3079: UserWarning: You are saving your model as an HDF5 file via `model.save()`. This file format is considered legacy. We recommend using instead the native Keras format, e.g. `model.save('my_model.keras')`.\n",
      "  saving_api.save_model(\n"
     ]
    },
    {
     "name": "stdout",
     "output_type": "stream",
     "text": [
      "Epoch 1/10\n",
      "16/16 [==============================] - 7s 164ms/step - loss: 0.4731 - val_loss: 0.1252\n",
      "Epoch 2/10\n",
      "16/16 [==============================] - 1s 70ms/step - loss: 0.2047 - val_loss: 0.1138\n",
      "Epoch 3/10\n",
      "16/16 [==============================] - 1s 67ms/step - loss: 0.1598 - val_loss: 0.1090\n",
      "Epoch 4/10\n",
      "16/16 [==============================] - 1s 75ms/step - loss: 0.1295 - val_loss: 0.1125\n",
      "Epoch 5/10\n",
      "16/16 [==============================] - 1s 83ms/step - loss: 0.1132 - val_loss: 0.1085\n",
      "Epoch 6/10\n",
      "16/16 [==============================] - 1s 70ms/step - loss: 0.1000 - val_loss: 0.1034\n",
      "Epoch 7/10\n",
      "16/16 [==============================] - 1s 74ms/step - loss: 0.0939 - val_loss: 0.1001\n",
      "Epoch 8/10\n",
      "16/16 [==============================] - 1s 72ms/step - loss: 0.0915 - val_loss: 0.0921\n",
      "Epoch 9/10\n",
      "16/16 [==============================] - 1s 74ms/step - loss: 0.0909 - val_loss: 0.0885\n",
      "Epoch 10/10\n",
      "16/16 [==============================] - 1s 69ms/step - loss: 0.0869 - val_loss: 0.0854\n",
      "Model for chicken saved to trained_models\\chicken_model.h5.\n"
     ]
    },
    {
     "name": "stderr",
     "output_type": "stream",
     "text": [
      "c:\\Program Files\\Python310\\lib\\site-packages\\keras\\src\\engine\\training.py:3079: UserWarning: You are saving your model as an HDF5 file via `model.save()`. This file format is considered legacy. We recommend using instead the native Keras format, e.g. `model.save('my_model.keras')`.\n",
      "  saving_api.save_model(\n"
     ]
    },
    {
     "name": "stdout",
     "output_type": "stream",
     "text": [
      "Epoch 1/10\n",
      "48/48 [==============================] - 10s 107ms/step - loss: 0.1012 - val_loss: 0.0128\n",
      "Epoch 2/10\n",
      "48/48 [==============================] - 4s 86ms/step - loss: 0.0206 - val_loss: 0.0122\n",
      "Epoch 3/10\n",
      "48/48 [==============================] - 4s 85ms/step - loss: 0.0077 - val_loss: 0.0113\n",
      "Epoch 4/10\n",
      "48/48 [==============================] - 4s 83ms/step - loss: 0.0050 - val_loss: 0.0111\n",
      "Epoch 5/10\n",
      "48/48 [==============================] - 4s 81ms/step - loss: 0.0041 - val_loss: 0.0096\n",
      "Epoch 6/10\n",
      "48/48 [==============================] - 4s 83ms/step - loss: 0.0034 - val_loss: 0.0093\n",
      "Epoch 7/10\n",
      "48/48 [==============================] - 4s 83ms/step - loss: 0.0028 - val_loss: 0.0071\n",
      "Epoch 8/10\n",
      "48/48 [==============================] - 4s 81ms/step - loss: 0.0025 - val_loss: 0.0088\n",
      "Epoch 9/10\n",
      "48/48 [==============================] - 4s 85ms/step - loss: 0.0022 - val_loss: 0.0074\n",
      "Epoch 10/10\n",
      "48/48 [==============================] - 4s 83ms/step - loss: 0.0022 - val_loss: 0.0050\n",
      "Model for broiler farm saved to trained_models\\broiler farm_model.h5.\n"
     ]
    },
    {
     "name": "stderr",
     "output_type": "stream",
     "text": [
      "c:\\Program Files\\Python310\\lib\\site-packages\\keras\\src\\engine\\training.py:3079: UserWarning: You are saving your model as an HDF5 file via `model.save()`. This file format is considered legacy. We recommend using instead the native Keras format, e.g. `model.save('my_model.keras')`.\n",
      "  saving_api.save_model(\n"
     ]
    },
    {
     "name": "stdout",
     "output_type": "stream",
     "text": [
      "Epoch 1/10\n",
      "47/47 [==============================] - 10s 101ms/step - loss: 0.5009 - val_loss: 0.4509\n",
      "Epoch 2/10\n",
      "47/47 [==============================] - 3s 70ms/step - loss: 0.1330 - val_loss: 0.5132\n",
      "Epoch 3/10\n",
      "47/47 [==============================] - 3s 68ms/step - loss: 0.0599 - val_loss: 0.4620\n",
      "Epoch 4/10\n",
      "47/47 [==============================] - 3s 69ms/step - loss: 0.0387 - val_loss: 0.4132\n",
      "Epoch 5/10\n",
      "47/47 [==============================] - 3s 71ms/step - loss: 0.0294 - val_loss: 0.3269\n",
      "Epoch 6/10\n",
      "47/47 [==============================] - 3s 73ms/step - loss: 0.0227 - val_loss: 0.2346\n",
      "Epoch 7/10\n",
      "47/47 [==============================] - 3s 69ms/step - loss: 0.0192 - val_loss: 0.1798\n",
      "Epoch 8/10\n",
      "47/47 [==============================] - 3s 68ms/step - loss: 0.0188 - val_loss: 0.1445\n",
      "Epoch 9/10\n",
      "47/47 [==============================] - 3s 67ms/step - loss: 0.0170 - val_loss: 0.1141\n",
      "Epoch 10/10\n",
      "47/47 [==============================] - 3s 68ms/step - loss: 0.0154 - val_loss: 0.1214\n",
      "Model for local saved to trained_models\\local_model.h5.\n"
     ]
    },
    {
     "name": "stderr",
     "output_type": "stream",
     "text": [
      "c:\\Program Files\\Python310\\lib\\site-packages\\keras\\src\\engine\\training.py:3079: UserWarning: You are saving your model as an HDF5 file via `model.save()`. This file format is considered legacy. We recommend using instead the native Keras format, e.g. `model.save('my_model.keras')`.\n",
      "  saving_api.save_model(\n"
     ]
    },
    {
     "name": "stdout",
     "output_type": "stream",
     "text": [
      "Epoch 1/10\n",
      "2/2 [==============================] - 6s 1s/step - loss: 4.9822 - val_loss: 0.6005\n",
      "Epoch 2/10\n",
      "2/2 [==============================] - 0s 97ms/step - loss: 1.2801 - val_loss: 0.5601\n",
      "Epoch 3/10\n",
      "2/2 [==============================] - 0s 94ms/step - loss: 0.7576 - val_loss: 0.5091\n",
      "Epoch 4/10\n",
      "2/2 [==============================] - 0s 90ms/step - loss: 0.5896 - val_loss: 0.4563\n",
      "Epoch 5/10\n",
      "2/2 [==============================] - 0s 84ms/step - loss: 0.5872 - val_loss: 0.4149\n",
      "Epoch 6/10\n",
      "2/2 [==============================] - 0s 100ms/step - loss: 0.5741 - val_loss: 0.3878\n",
      "Epoch 7/10\n",
      "2/2 [==============================] - 0s 125ms/step - loss: 0.5286 - val_loss: 0.3815\n",
      "Epoch 8/10\n",
      "2/2 [==============================] - 0s 90ms/step - loss: 0.4761 - val_loss: 0.3807\n",
      "Epoch 9/10\n",
      "2/2 [==============================] - 0s 90ms/step - loss: 0.4916 - val_loss: 0.3892\n",
      "Epoch 10/10\n",
      "2/2 [==============================] - 0s 89ms/step - loss: 0.3372 - val_loss: 0.3929\n",
      "Model for duck meat saved to trained_models\\duck meat_model.h5.\n"
     ]
    },
    {
     "name": "stderr",
     "output_type": "stream",
     "text": [
      "c:\\Program Files\\Python310\\lib\\site-packages\\keras\\src\\engine\\training.py:3079: UserWarning: You are saving your model as an HDF5 file via `model.save()`. This file format is considered legacy. We recommend using instead the native Keras format, e.g. `model.save('my_model.keras')`.\n",
      "  saving_api.save_model(\n"
     ]
    },
    {
     "name": "stdout",
     "output_type": "stream",
     "text": [
      "Epoch 1/10\n",
      "45/45 [==============================] - 9s 90ms/step - loss: 0.3258 - val_loss: 0.4213\n",
      "Epoch 2/10\n",
      "45/45 [==============================] - 3s 74ms/step - loss: 0.0772 - val_loss: 0.4413\n",
      "Epoch 3/10\n",
      "45/45 [==============================] - 3s 70ms/step - loss: 0.0478 - val_loss: 0.3382\n",
      "Epoch 4/10\n",
      "45/45 [==============================] - 3s 69ms/step - loss: 0.0414 - val_loss: 0.2994\n",
      "Epoch 5/10\n",
      "45/45 [==============================] - 3s 72ms/step - loss: 0.0378 - val_loss: 0.3002\n",
      "Epoch 6/10\n",
      "45/45 [==============================] - 3s 73ms/step - loss: 0.0301 - val_loss: 0.2144\n",
      "Epoch 7/10\n",
      "45/45 [==============================] - 3s 69ms/step - loss: 0.0285 - val_loss: 0.1521\n",
      "Epoch 8/10\n",
      "45/45 [==============================] - 3s 70ms/step - loss: 0.0256 - val_loss: 0.1397\n",
      "Epoch 9/10\n",
      "45/45 [==============================] - 3s 77ms/step - loss: 0.0266 - val_loss: 0.1099\n",
      "Epoch 10/10\n",
      "45/45 [==============================] - 4s 99ms/step - loss: 0.0241 - val_loss: 0.1233\n",
      "Model for mutton saved to trained_models\\mutton_model.h5.\n",
      "could not make\n"
     ]
    },
    {
     "name": "stderr",
     "output_type": "stream",
     "text": [
      "c:\\Program Files\\Python310\\lib\\site-packages\\keras\\src\\engine\\training.py:3079: UserWarning: You are saving your model as an HDF5 file via `model.save()`. This file format is considered legacy. We recommend using instead the native Keras format, e.g. `model.save('my_model.keras')`.\n",
      "  saving_api.save_model(\n",
      "d:\\Projects\\market price\\training_model\\model.py:18: FutureWarning: DataFrame.interpolate with object dtype is deprecated and will raise in a future version. Call obj.infer_objects(copy=False) before interpolating instead.\n",
      "  pivot_df = pivot_df.interpolate(method='linear', axis=0).fillna(method='bfill').fillna(method='ffill')\n",
      "d:\\Projects\\market price\\training_model\\model.py:18: FutureWarning: DataFrame.fillna with 'method' is deprecated and will raise in a future version. Use obj.ffill() or obj.bfill() instead.\n",
      "  pivot_df = pivot_df.interpolate(method='linear', axis=0).fillna(method='bfill').fillna(method='ffill')\n"
     ]
    },
    {
     "name": "stdout",
     "output_type": "stream",
     "text": [
      "Epoch 1/10\n",
      "48/48 [==============================] - 11s 115ms/step - loss: 0.2174 - val_loss: 0.2550\n",
      "Epoch 2/10\n",
      "48/48 [==============================] - 4s 83ms/step - loss: 0.1014 - val_loss: 0.2274\n",
      "Epoch 3/10\n",
      "48/48 [==============================] - 4s 81ms/step - loss: 0.0901 - val_loss: 0.2100\n",
      "Epoch 4/10\n",
      "48/48 [==============================] - 4s 83ms/step - loss: 0.0869 - val_loss: 0.1946\n",
      "Epoch 5/10\n",
      "48/48 [==============================] - 4s 82ms/step - loss: 0.0855 - val_loss: 0.1811\n",
      "Epoch 6/10\n",
      "48/48 [==============================] - 4s 82ms/step - loss: 0.0839 - val_loss: 0.1692\n",
      "Epoch 7/10\n",
      "48/48 [==============================] - 4s 82ms/step - loss: 0.0833 - val_loss: 0.1584\n",
      "Epoch 8/10\n",
      "48/48 [==============================] - 4s 81ms/step - loss: 0.0826 - val_loss: 0.1734\n",
      "Epoch 9/10\n",
      "48/48 [==============================] - 4s 77ms/step - loss: 0.0825 - val_loss: 0.1668\n",
      "Epoch 10/10\n",
      "48/48 [==============================] - 4s 77ms/step - loss: 0.0818 - val_loss: 0.1698\n",
      "Model for cow milk (liquid) saved to trained_models\\cow milk (liquid)_model.h5.\n"
     ]
    },
    {
     "name": "stderr",
     "output_type": "stream",
     "text": [
      "c:\\Program Files\\Python310\\lib\\site-packages\\keras\\src\\engine\\training.py:3079: UserWarning: You are saving your model as an HDF5 file via `model.save()`. This file format is considered legacy. We recommend using instead the native Keras format, e.g. `model.save('my_model.keras')`.\n",
      "  saving_api.save_model(\n"
     ]
    },
    {
     "name": "stdout",
     "output_type": "stream",
     "text": [
      "Epoch 1/10\n",
      "53/53 [==============================] - 11s 100ms/step - loss: 0.2329 - val_loss: 0.0891\n",
      "Epoch 2/10\n",
      "53/53 [==============================] - 4s 78ms/step - loss: 0.0597 - val_loss: 0.0629\n",
      "Epoch 3/10\n",
      "53/53 [==============================] - 4s 77ms/step - loss: 0.0369 - val_loss: 0.0544\n",
      "Epoch 4/10\n",
      "53/53 [==============================] - 4s 69ms/step - loss: 0.0292 - val_loss: 0.0408\n",
      "Epoch 5/10\n",
      "53/53 [==============================] - 4s 74ms/step - loss: 0.0251 - val_loss: 0.0395\n",
      "Epoch 6/10\n",
      "53/53 [==============================] - 4s 78ms/step - loss: 0.0246 - val_loss: 0.0243\n",
      "Epoch 7/10\n",
      "53/53 [==============================] - 4s 81ms/step - loss: 0.0223 - val_loss: 0.0182\n",
      "Epoch 8/10\n",
      "53/53 [==============================] - 4s 79ms/step - loss: 0.0215 - val_loss: 0.0156\n",
      "Epoch 9/10\n",
      "53/53 [==============================] - 4s 75ms/step - loss: 0.0211 - val_loss: 0.0192\n",
      "Epoch 10/10\n",
      "53/53 [==============================] - 4s 75ms/step - loss: 0.0208 - val_loss: 0.0100\n",
      "Model for dano - powdered milk saved to trained_models\\dano - powdered milk_model.h5.\n"
     ]
    },
    {
     "name": "stderr",
     "output_type": "stream",
     "text": [
      "c:\\Program Files\\Python310\\lib\\site-packages\\keras\\src\\engine\\training.py:3079: UserWarning: You are saving your model as an HDF5 file via `model.save()`. This file format is considered legacy. We recommend using instead the native Keras format, e.g. `model.save('my_model.keras')`.\n",
      "  saving_api.save_model(\n"
     ]
    },
    {
     "name": "stdout",
     "output_type": "stream",
     "text": [
      "Epoch 1/10\n",
      "43/43 [==============================] - 11s 107ms/step - loss: 0.2173 - val_loss: 0.1457\n",
      "Epoch 2/10\n",
      "43/43 [==============================] - 3s 79ms/step - loss: 0.0752 - val_loss: 0.1378\n",
      "Epoch 3/10\n",
      "43/43 [==============================] - 3s 76ms/step - loss: 0.0561 - val_loss: 0.1273\n",
      "Epoch 4/10\n",
      "43/43 [==============================] - 3s 75ms/step - loss: 0.0478 - val_loss: 0.1169\n",
      "Epoch 5/10\n",
      "43/43 [==============================] - 3s 76ms/step - loss: 0.0449 - val_loss: 0.1123\n",
      "Epoch 6/10\n",
      "43/43 [==============================] - 3s 75ms/step - loss: 0.0434 - val_loss: 0.0983\n",
      "Epoch 7/10\n",
      "43/43 [==============================] - 3s 74ms/step - loss: 0.0411 - val_loss: 0.0896\n",
      "Epoch 8/10\n",
      "43/43 [==============================] - 3s 80ms/step - loss: 0.0395 - val_loss: 0.0873\n",
      "Epoch 9/10\n",
      "43/43 [==============================] - 3s 73ms/step - loss: 0.0392 - val_loss: 0.0861\n",
      "Epoch 10/10\n",
      "43/43 [==============================] - 3s 71ms/step - loss: 0.0385 - val_loss: 0.0830\n",
      "Model for redcow - powdered milk saved to trained_models\\redcow - powdered milk_model.h5.\n"
     ]
    },
    {
     "name": "stderr",
     "output_type": "stream",
     "text": [
      "c:\\Program Files\\Python310\\lib\\site-packages\\keras\\src\\engine\\training.py:3079: UserWarning: You are saving your model as an HDF5 file via `model.save()`. This file format is considered legacy. We recommend using instead the native Keras format, e.g. `model.save('my_model.keras')`.\n",
      "  saving_api.save_model(\n"
     ]
    },
    {
     "name": "stdout",
     "output_type": "stream",
     "text": [
      "Epoch 1/10\n",
      "10/10 [==============================] - 6s 190ms/step - loss: 0.9122 - val_loss: 0.0175\n",
      "Epoch 2/10\n",
      "10/10 [==============================] - 1s 70ms/step - loss: 0.2583 - val_loss: 0.0180\n",
      "Epoch 3/10\n",
      "10/10 [==============================] - 1s 66ms/step - loss: 0.2075 - val_loss: 0.0168\n",
      "Epoch 4/10\n",
      "10/10 [==============================] - 1s 73ms/step - loss: 0.1045 - val_loss: 0.0159\n",
      "Epoch 5/10\n",
      "10/10 [==============================] - 1s 68ms/step - loss: 0.0827 - val_loss: 0.0157\n",
      "Epoch 6/10\n",
      "10/10 [==============================] - 1s 65ms/step - loss: 0.0830 - val_loss: 0.0152\n",
      "Epoch 7/10\n",
      "10/10 [==============================] - 1s 67ms/step - loss: 0.0617 - val_loss: 0.0146\n",
      "Epoch 8/10\n",
      "10/10 [==============================] - 1s 87ms/step - loss: 0.0620 - val_loss: 0.0138\n",
      "Epoch 9/10\n",
      "10/10 [==============================] - 1s 69ms/step - loss: 0.0589 - val_loss: 0.0127\n",
      "Epoch 10/10\n",
      "10/10 [==============================] - 1s 71ms/step - loss: 0.0555 - val_loss: 0.0116\n",
      "Model for condensed milk - bluecross (1 carton) saved to trained_models\\condensed milk - bluecross (1 carton)_model.h5.\n"
     ]
    },
    {
     "name": "stderr",
     "output_type": "stream",
     "text": [
      "c:\\Program Files\\Python310\\lib\\site-packages\\keras\\src\\engine\\training.py:3079: UserWarning: You are saving your model as an HDF5 file via `model.save()`. This file format is considered legacy. We recommend using instead the native Keras format, e.g. `model.save('my_model.keras')`.\n",
      "  saving_api.save_model(\n"
     ]
    },
    {
     "name": "stdout",
     "output_type": "stream",
     "text": [
      "Epoch 1/10\n",
      "53/53 [==============================] - 9s 89ms/step - loss: 0.2025 - val_loss: 0.0060\n",
      "Epoch 2/10\n",
      "53/53 [==============================] - 4s 73ms/step - loss: 0.0387 - val_loss: 0.0065\n",
      "Epoch 3/10\n",
      "53/53 [==============================] - 4s 73ms/step - loss: 0.0221 - val_loss: 0.0082\n",
      "Epoch 4/10\n",
      "53/53 [==============================] - 4s 72ms/step - loss: 0.0154 - val_loss: 0.0065\n",
      "Epoch 5/10\n",
      "53/53 [==============================] - 4s 71ms/step - loss: 0.0120 - val_loss: 0.0057\n",
      "Epoch 6/10\n",
      "53/53 [==============================] - 4s 78ms/step - loss: 0.0115 - val_loss: 0.0053\n",
      "Epoch 7/10\n",
      "53/53 [==============================] - 4s 74ms/step - loss: 0.0098 - val_loss: 0.0034\n",
      "Epoch 8/10\n",
      "53/53 [==============================] - 4s 72ms/step - loss: 0.0091 - val_loss: 0.0022\n",
      "Epoch 9/10\n",
      "53/53 [==============================] - 4s 72ms/step - loss: 0.0091 - val_loss: 0.0041\n",
      "Epoch 10/10\n",
      "53/53 [==============================] - 4s 80ms/step - loss: 0.0089 - val_loss: 0.0021\n",
      "Model for condensed milk - danish (1 carton) saved to trained_models\\condensed milk - danish (1 carton)_model.h5.\n"
     ]
    },
    {
     "name": "stderr",
     "output_type": "stream",
     "text": [
      "c:\\Program Files\\Python310\\lib\\site-packages\\keras\\src\\engine\\training.py:3079: UserWarning: You are saving your model as an HDF5 file via `model.save()`. This file format is considered legacy. We recommend using instead the native Keras format, e.g. `model.save('my_model.keras')`.\n",
      "  saving_api.save_model(\n"
     ]
    },
    {
     "name": "stdout",
     "output_type": "stream",
     "text": [
      "Epoch 1/10\n",
      "41/41 [==============================] - 9s 95ms/step - loss: 0.1832 - val_loss: 0.0049\n",
      "Epoch 2/10\n",
      "41/41 [==============================] - 3s 74ms/step - loss: 0.0350 - val_loss: 0.0044\n",
      "Epoch 3/10\n",
      "41/41 [==============================] - 3s 71ms/step - loss: 0.0268 - val_loss: 0.0038\n",
      "Epoch 4/10\n",
      "41/41 [==============================] - 3s 73ms/step - loss: 0.0210 - val_loss: 0.0037\n",
      "Epoch 5/10\n",
      "41/41 [==============================] - 3s 72ms/step - loss: 0.0185 - val_loss: 0.0041\n",
      "Epoch 6/10\n",
      "41/41 [==============================] - 3s 70ms/step - loss: 0.0164 - val_loss: 0.0040\n",
      "Epoch 7/10\n",
      "41/41 [==============================] - 3s 71ms/step - loss: 0.0156 - val_loss: 0.0055\n",
      "Epoch 8/10\n",
      "41/41 [==============================] - 3s 74ms/step - loss: 0.0144 - val_loss: 0.0083\n",
      "Epoch 9/10\n",
      "41/41 [==============================] - 3s 71ms/step - loss: 0.0143 - val_loss: 0.0073\n",
      "Epoch 10/10\n",
      "41/41 [==============================] - 3s 72ms/step - loss: 0.0137 - val_loss: 0.0054\n",
      "Model for condensed milk - goalini (1 carton) saved to trained_models\\condensed milk - goalini (1 carton)_model.h5.\n"
     ]
    },
    {
     "name": "stderr",
     "output_type": "stream",
     "text": [
      "c:\\Program Files\\Python310\\lib\\site-packages\\keras\\src\\engine\\training.py:3079: UserWarning: You are saving your model as an HDF5 file via `model.save()`. This file format is considered legacy. We recommend using instead the native Keras format, e.g. `model.save('my_model.keras')`.\n",
      "  saving_api.save_model(\n"
     ]
    },
    {
     "name": "stdout",
     "output_type": "stream",
     "text": [
      "Epoch 1/10\n",
      "12/12 [==============================] - 7s 184ms/step - loss: 0.6461 - val_loss: 0.5708\n",
      "Epoch 2/10\n",
      "12/12 [==============================] - 1s 75ms/step - loss: 0.2131 - val_loss: 0.6450\n",
      "Epoch 3/10\n",
      "12/12 [==============================] - 1s 79ms/step - loss: 0.1399 - val_loss: 0.5316\n",
      "Epoch 4/10\n",
      "12/12 [==============================] - 1s 82ms/step - loss: 0.1179 - val_loss: 0.5537\n",
      "Epoch 5/10\n",
      "12/12 [==============================] - 1s 77ms/step - loss: 0.0915 - val_loss: 0.5999\n",
      "Epoch 6/10\n",
      "12/12 [==============================] - 1s 93ms/step - loss: 0.0760 - val_loss: 0.6494\n",
      "Epoch 7/10\n",
      "12/12 [==============================] - 1s 78ms/step - loss: 0.0702 - val_loss: 0.6243\n",
      "Epoch 8/10\n",
      "12/12 [==============================] - 1s 79ms/step - loss: 0.0595 - val_loss: 0.5986\n",
      "Epoch 9/10\n",
      "12/12 [==============================] - 1s 76ms/step - loss: 0.0536 - val_loss: 0.5505\n",
      "Epoch 10/10\n",
      "12/12 [==============================] - 1s 75ms/step - loss: 0.0540 - val_loss: 0.5559\n",
      "Model for ghee (local) saved to trained_models\\ghee (local)_model.h5.\n"
     ]
    },
    {
     "name": "stderr",
     "output_type": "stream",
     "text": [
      "c:\\Program Files\\Python310\\lib\\site-packages\\keras\\src\\engine\\training.py:3079: UserWarning: You are saving your model as an HDF5 file via `model.save()`. This file format is considered legacy. We recommend using instead the native Keras format, e.g. `model.save('my_model.keras')`.\n",
      "  saving_api.save_model(\n"
     ]
    },
    {
     "name": "stdout",
     "output_type": "stream",
     "text": [
      "Epoch 1/10\n",
      "14/14 [==============================] - 7s 162ms/step - loss: 0.4177 - val_loss: 0.0589\n",
      "Epoch 2/10\n",
      "14/14 [==============================] - 1s 68ms/step - loss: 0.1080 - val_loss: 0.0600\n",
      "Epoch 3/10\n",
      "14/14 [==============================] - 1s 67ms/step - loss: 0.0662 - val_loss: 0.0536\n",
      "Epoch 4/10\n",
      "14/14 [==============================] - 1s 75ms/step - loss: 0.0584 - val_loss: 0.0519\n",
      "Epoch 5/10\n",
      "14/14 [==============================] - 1s 71ms/step - loss: 0.0406 - val_loss: 0.0447\n",
      "Epoch 6/10\n",
      "14/14 [==============================] - 1s 78ms/step - loss: 0.0374 - val_loss: 0.0391\n",
      "Epoch 7/10\n",
      "14/14 [==============================] - 1s 70ms/step - loss: 0.0327 - val_loss: 0.0365\n",
      "Epoch 8/10\n",
      "14/14 [==============================] - 1s 74ms/step - loss: 0.0336 - val_loss: 0.0344\n",
      "Epoch 9/10\n",
      "14/14 [==============================] - 1s 74ms/step - loss: 0.0281 - val_loss: 0.0320\n",
      "Epoch 10/10\n",
      "14/14 [==============================] - 1s 71ms/step - loss: 0.0266 - val_loss: 0.0290\n",
      "Model for milkvita (liquid) saved to trained_models\\milkvita (liquid)_model.h5.\n"
     ]
    },
    {
     "name": "stderr",
     "output_type": "stream",
     "text": [
      "c:\\Program Files\\Python310\\lib\\site-packages\\keras\\src\\engine\\training.py:3079: UserWarning: You are saving your model as an HDF5 file via `model.save()`. This file format is considered legacy. We recommend using instead the native Keras format, e.g. `model.save('my_model.keras')`.\n",
      "  saving_api.save_model(\n"
     ]
    },
    {
     "name": "stdout",
     "output_type": "stream",
     "text": [
      "Epoch 1/10\n",
      "20/20 [==============================] - 7s 129ms/step - loss: 0.7026 - val_loss: 0.4387\n",
      "Epoch 2/10\n",
      "20/20 [==============================] - 1s 69ms/step - loss: 0.2619 - val_loss: 0.3520\n",
      "Epoch 3/10\n",
      "20/20 [==============================] - 2s 76ms/step - loss: 0.1877 - val_loss: 0.3325\n",
      "Epoch 4/10\n",
      "20/20 [==============================] - 2s 80ms/step - loss: 0.1518 - val_loss: 0.3213\n",
      "Epoch 5/10\n",
      "20/20 [==============================] - 1s 75ms/step - loss: 0.1366 - val_loss: 0.3133\n",
      "Epoch 6/10\n",
      "20/20 [==============================] - 1s 71ms/step - loss: 0.1252 - val_loss: 0.2499\n",
      "Epoch 7/10\n",
      "20/20 [==============================] - 2s 78ms/step - loss: 0.1123 - val_loss: 0.2381\n",
      "Epoch 8/10\n",
      "20/20 [==============================] - 2s 92ms/step - loss: 0.1106 - val_loss: 0.2646\n",
      "Epoch 9/10\n",
      "20/20 [==============================] - 2s 95ms/step - loss: 0.1034 - val_loss: 0.2582\n",
      "Epoch 10/10\n",
      "20/20 [==============================] - 2s 103ms/step - loss: 0.1075 - val_loss: 0.2748\n",
      "Model for milk powder (bag) saved to trained_models\\milk powder (bag)_model.h5.\n"
     ]
    },
    {
     "name": "stderr",
     "output_type": "stream",
     "text": [
      "c:\\Program Files\\Python310\\lib\\site-packages\\keras\\src\\engine\\training.py:3079: UserWarning: You are saving your model as an HDF5 file via `model.save()`. This file format is considered legacy. We recommend using instead the native Keras format, e.g. `model.save('my_model.keras')`.\n",
      "  saving_api.save_model(\n"
     ]
    },
    {
     "name": "stdout",
     "output_type": "stream",
     "text": [
      "Epoch 1/10\n",
      "19/19 [==============================] - 8s 135ms/step - loss: 0.4351 - val_loss: 0.3007\n",
      "Epoch 2/10\n",
      "19/19 [==============================] - 1s 73ms/step - loss: 0.2078 - val_loss: 0.2968\n",
      "Epoch 3/10\n",
      "19/19 [==============================] - 2s 81ms/step - loss: 0.1528 - val_loss: 0.2663\n",
      "Epoch 4/10\n",
      "19/19 [==============================] - 2s 81ms/step - loss: 0.1201 - val_loss: 0.2428\n",
      "Epoch 5/10\n",
      "19/19 [==============================] - 1s 77ms/step - loss: 0.1222 - val_loss: 0.2126\n",
      "Epoch 6/10\n",
      "19/19 [==============================] - 1s 79ms/step - loss: 0.1092 - val_loss: 0.1876\n",
      "Epoch 7/10\n",
      "19/19 [==============================] - 2s 80ms/step - loss: 0.1084 - val_loss: 0.1708\n",
      "Epoch 8/10\n",
      "19/19 [==============================] - 2s 79ms/step - loss: 0.1056 - val_loss: 0.1625\n",
      "Epoch 9/10\n",
      "19/19 [==============================] - 1s 76ms/step - loss: 0.1047 - val_loss: 0.1521\n",
      "Epoch 10/10\n",
      "19/19 [==============================] - 2s 82ms/step - loss: 0.1011 - val_loss: 0.1487\n",
      "Model for anchor - powdered milk saved to trained_models\\anchor - powdered milk_model.h5.\n"
     ]
    },
    {
     "name": "stderr",
     "output_type": "stream",
     "text": [
      "c:\\Program Files\\Python310\\lib\\site-packages\\keras\\src\\engine\\training.py:3079: UserWarning: You are saving your model as an HDF5 file via `model.save()`. This file format is considered legacy. We recommend using instead the native Keras format, e.g. `model.save('my_model.keras')`.\n",
      "  saving_api.save_model(\n",
      "d:\\Projects\\market price\\training_model\\model.py:18: FutureWarning: DataFrame.interpolate with object dtype is deprecated and will raise in a future version. Call obj.infer_objects(copy=False) before interpolating instead.\n",
      "  pivot_df = pivot_df.interpolate(method='linear', axis=0).fillna(method='bfill').fillna(method='ffill')\n",
      "d:\\Projects\\market price\\training_model\\model.py:18: FutureWarning: DataFrame.fillna with 'method' is deprecated and will raise in a future version. Use obj.ffill() or obj.bfill() instead.\n",
      "  pivot_df = pivot_df.interpolate(method='linear', axis=0).fillna(method='bfill').fillna(method='ffill')\n"
     ]
    },
    {
     "name": "stdout",
     "output_type": "stream",
     "text": [
      "Epoch 1/10\n",
      "64/64 [==============================] - 11s 100ms/step - loss: 0.1408 - val_loss: 0.0230\n",
      "Epoch 2/10\n",
      "64/64 [==============================] - 6s 87ms/step - loss: 0.0252 - val_loss: 0.0199\n",
      "Epoch 3/10\n",
      "64/64 [==============================] - 6s 87ms/step - loss: 0.0151 - val_loss: 0.0154\n",
      "Epoch 4/10\n",
      "64/64 [==============================] - 5s 84ms/step - loss: 0.0124 - val_loss: 0.0142\n",
      "Epoch 5/10\n",
      "64/64 [==============================] - 6s 86ms/step - loss: 0.0115 - val_loss: 0.0151\n",
      "Epoch 6/10\n",
      "64/64 [==============================] - 6s 88ms/step - loss: 0.0111 - val_loss: 0.0138\n",
      "Epoch 7/10\n",
      "64/64 [==============================] - 5s 84ms/step - loss: 0.0105 - val_loss: 0.0141\n",
      "Epoch 8/10\n",
      "64/64 [==============================] - 6s 87ms/step - loss: 0.0100 - val_loss: 0.0143\n",
      "Epoch 9/10\n",
      "64/64 [==============================] - 6s 86ms/step - loss: 0.0098 - val_loss: 0.0178\n",
      "Epoch 10/10\n",
      "64/64 [==============================] - 5s 86ms/step - loss: 0.0094 - val_loss: 0.0136\n",
      "Model for oil cake - mustard saved to trained_models\\oil cake - mustard_model.h5.\n"
     ]
    },
    {
     "name": "stderr",
     "output_type": "stream",
     "text": [
      "c:\\Program Files\\Python310\\lib\\site-packages\\keras\\src\\engine\\training.py:3079: UserWarning: You are saving your model as an HDF5 file via `model.save()`. This file format is considered legacy. We recommend using instead the native Keras format, e.g. `model.save('my_model.keras')`.\n",
      "  saving_api.save_model(\n"
     ]
    },
    {
     "name": "stdout",
     "output_type": "stream",
     "text": [
      "Epoch 1/10\n",
      "5/5 [==============================] - 6s 323ms/step - loss: 0.8785 - val_loss: 0.8850\n",
      "Epoch 2/10\n",
      "5/5 [==============================] - 0s 80ms/step - loss: 0.2942 - val_loss: 0.8372\n",
      "Epoch 3/10\n",
      "5/5 [==============================] - 0s 79ms/step - loss: 0.2090 - val_loss: 0.7701\n",
      "Epoch 4/10\n",
      "5/5 [==============================] - 1s 103ms/step - loss: 0.2189 - val_loss: 0.7387\n",
      "Epoch 5/10\n",
      "5/5 [==============================] - 1s 105ms/step - loss: 0.1380 - val_loss: 0.7462\n",
      "Epoch 6/10\n",
      "5/5 [==============================] - 0s 94ms/step - loss: 0.1085 - val_loss: 0.7575\n",
      "Epoch 7/10\n",
      "5/5 [==============================] - 0s 99ms/step - loss: 0.0759 - val_loss: 0.7822\n",
      "Epoch 8/10\n",
      "5/5 [==============================] - 0s 90ms/step - loss: 0.1072 - val_loss: 0.8305\n",
      "Epoch 9/10\n",
      "5/5 [==============================] - 1s 108ms/step - loss: 0.0838 - val_loss: 0.8057\n",
      "Epoch 10/10\n",
      "5/5 [==============================] - 1s 106ms/step - loss: 0.0614 - val_loss: 0.7511\n",
      "Model for oil cake - others saved to trained_models\\oil cake - others_model.h5.\n"
     ]
    },
    {
     "name": "stderr",
     "output_type": "stream",
     "text": [
      "c:\\Program Files\\Python310\\lib\\site-packages\\keras\\src\\engine\\training.py:3079: UserWarning: You are saving your model as an HDF5 file via `model.save()`. This file format is considered legacy. We recommend using instead the native Keras format, e.g. `model.save('my_model.keras')`.\n",
      "  saving_api.save_model(\n"
     ]
    },
    {
     "name": "stdout",
     "output_type": "stream",
     "text": [
      "Epoch 1/10\n",
      "11/11 [==============================] - 7s 174ms/step - loss: 0.4133 - val_loss: 0.4157\n",
      "Epoch 2/10\n",
      "11/11 [==============================] - 1s 71ms/step - loss: 0.2141 - val_loss: 0.3988\n",
      "Epoch 3/10\n",
      "11/11 [==============================] - 1s 83ms/step - loss: 0.1418 - val_loss: 0.4380\n",
      "Epoch 4/10\n",
      "11/11 [==============================] - 1s 86ms/step - loss: 0.0810 - val_loss: 0.4028\n",
      "Epoch 5/10\n",
      "11/11 [==============================] - 1s 77ms/step - loss: 0.0742 - val_loss: 0.3681\n",
      "Epoch 6/10\n",
      "11/11 [==============================] - 1s 79ms/step - loss: 0.0553 - val_loss: 0.3707\n",
      "Epoch 7/10\n",
      "11/11 [==============================] - 1s 84ms/step - loss: 0.0557 - val_loss: 0.3772\n",
      "Epoch 8/10\n",
      "11/11 [==============================] - 1s 78ms/step - loss: 0.0475 - val_loss: 0.3936\n",
      "Epoch 9/10\n",
      "11/11 [==============================] - 1s 78ms/step - loss: 0.0382 - val_loss: 0.3873\n",
      "Epoch 10/10\n",
      "11/11 [==============================] - 1s 77ms/step - loss: 0.0405 - val_loss: 0.3664\n",
      "Model for oil cake - til (sesame) saved to trained_models\\oil cake - til (sesame)_model.h5.\n"
     ]
    },
    {
     "name": "stderr",
     "output_type": "stream",
     "text": [
      "c:\\Program Files\\Python310\\lib\\site-packages\\keras\\src\\engine\\training.py:3079: UserWarning: You are saving your model as an HDF5 file via `model.save()`. This file format is considered legacy. We recommend using instead the native Keras format, e.g. `model.save('my_model.keras')`.\n",
      "  saving_api.save_model(\n",
      "d:\\Projects\\market price\\training_model\\model.py:18: FutureWarning: DataFrame.interpolate with object dtype is deprecated and will raise in a future version. Call obj.infer_objects(copy=False) before interpolating instead.\n",
      "  pivot_df = pivot_df.interpolate(method='linear', axis=0).fillna(method='bfill').fillna(method='ffill')\n",
      "d:\\Projects\\market price\\training_model\\model.py:18: FutureWarning: DataFrame.fillna with 'method' is deprecated and will raise in a future version. Use obj.ffill() or obj.bfill() instead.\n",
      "  pivot_df = pivot_df.interpolate(method='linear', axis=0).fillna(method='bfill').fillna(method='ffill')\n"
     ]
    },
    {
     "name": "stdout",
     "output_type": "stream",
     "text": [
      "Epoch 1/10\n",
      "61/61 [==============================] - 11s 101ms/step - loss: 0.2293 - val_loss: 0.3225\n",
      "Epoch 2/10\n",
      "61/61 [==============================] - 5s 85ms/step - loss: 0.0322 - val_loss: 0.2970\n",
      "Epoch 3/10\n",
      "61/61 [==============================] - 5s 87ms/step - loss: 0.0188 - val_loss: 0.2246\n",
      "Epoch 4/10\n",
      "61/61 [==============================] - 5s 83ms/step - loss: 0.0152 - val_loss: 0.2032\n",
      "Epoch 5/10\n",
      "61/61 [==============================] - 5s 83ms/step - loss: 0.0120 - val_loss: 0.1477\n",
      "Epoch 6/10\n",
      "61/61 [==============================] - 5s 82ms/step - loss: 0.0108 - val_loss: 0.1438\n",
      "Epoch 7/10\n",
      "61/61 [==============================] - 5s 83ms/step - loss: 0.0091 - val_loss: 0.0976\n",
      "Epoch 8/10\n",
      "61/61 [==============================] - 5s 85ms/step - loss: 0.0082 - val_loss: 0.0473\n",
      "Epoch 9/10\n",
      "61/61 [==============================] - 5s 86ms/step - loss: 0.0079 - val_loss: 0.0437\n",
      "Epoch 10/10\n",
      "61/61 [==============================] - 5s 85ms/step - loss: 0.0066 - val_loss: 0.0518\n",
      "Model for ground nut saved to trained_models\\ground nut_model.h5.\n"
     ]
    },
    {
     "name": "stderr",
     "output_type": "stream",
     "text": [
      "c:\\Program Files\\Python310\\lib\\site-packages\\keras\\src\\engine\\training.py:3079: UserWarning: You are saving your model as an HDF5 file via `model.save()`. This file format is considered legacy. We recommend using instead the native Keras format, e.g. `model.save('my_model.keras')`.\n",
      "  saving_api.save_model(\n"
     ]
    },
    {
     "name": "stdout",
     "output_type": "stream",
     "text": [
      "Epoch 1/10\n",
      "64/64 [==============================] - 12s 109ms/step - loss: 0.2245 - val_loss: 0.2154\n",
      "Epoch 2/10\n",
      "64/64 [==============================] - 6s 90ms/step - loss: 0.0474 - val_loss: 0.1707\n",
      "Epoch 3/10\n",
      "64/64 [==============================] - 6s 91ms/step - loss: 0.0359 - val_loss: 0.1464\n",
      "Epoch 4/10\n",
      "64/64 [==============================] - 6s 89ms/step - loss: 0.0319 - val_loss: 0.1346\n",
      "Epoch 5/10\n",
      "64/64 [==============================] - 6s 90ms/step - loss: 0.0293 - val_loss: 0.1070\n",
      "Epoch 6/10\n",
      "64/64 [==============================] - 6s 89ms/step - loss: 0.0283 - val_loss: 0.1068\n",
      "Epoch 7/10\n",
      "64/64 [==============================] - 6s 89ms/step - loss: 0.0279 - val_loss: 0.0989\n",
      "Epoch 8/10\n",
      "64/64 [==============================] - 6s 90ms/step - loss: 0.0270 - val_loss: 0.0761\n",
      "Epoch 9/10\n",
      "64/64 [==============================] - 6s 91ms/step - loss: 0.0266 - val_loss: 0.0692\n",
      "Epoch 10/10\n",
      "64/64 [==============================] - 6s 93ms/step - loss: 0.0267 - val_loss: 0.0794\n",
      "Model for mustard saved to trained_models\\mustard_model.h5.\n"
     ]
    },
    {
     "name": "stderr",
     "output_type": "stream",
     "text": [
      "c:\\Program Files\\Python310\\lib\\site-packages\\keras\\src\\engine\\training.py:3079: UserWarning: You are saving your model as an HDF5 file via `model.save()`. This file format is considered legacy. We recommend using instead the native Keras format, e.g. `model.save('my_model.keras')`.\n",
      "  saving_api.save_model(\n"
     ]
    },
    {
     "name": "stdout",
     "output_type": "stream",
     "text": [
      "Epoch 1/10\n",
      "13/13 [==============================] - 7s 181ms/step - loss: 0.4941 - val_loss: 0.3661\n",
      "Epoch 2/10\n",
      "13/13 [==============================] - 1s 82ms/step - loss: 0.1976 - val_loss: 0.4342\n",
      "Epoch 3/10\n",
      "13/13 [==============================] - 1s 84ms/step - loss: 0.1429 - val_loss: 0.4420\n",
      "Epoch 4/10\n",
      "13/13 [==============================] - 1s 81ms/step - loss: 0.1047 - val_loss: 0.3595\n",
      "Epoch 5/10\n",
      "13/13 [==============================] - 1s 102ms/step - loss: 0.0719 - val_loss: 0.3380\n",
      "Epoch 6/10\n",
      "13/13 [==============================] - 1s 85ms/step - loss: 0.0662 - val_loss: 0.3152\n",
      "Epoch 7/10\n",
      "13/13 [==============================] - 1s 88ms/step - loss: 0.0619 - val_loss: 0.2845\n",
      "Epoch 8/10\n",
      "13/13 [==============================] - 1s 89ms/step - loss: 0.0607 - val_loss: 0.2854\n",
      "Epoch 9/10\n",
      "13/13 [==============================] - 1s 88ms/step - loss: 0.0534 - val_loss: 0.2610\n",
      "Epoch 10/10\n",
      "13/13 [==============================] - 1s 89ms/step - loss: 0.0544 - val_loss: 0.2632\n",
      "Model for til(sesame) saved to trained_models\\til(sesame)_model.h5.\n"
     ]
    },
    {
     "name": "stderr",
     "output_type": "stream",
     "text": [
      "c:\\Program Files\\Python310\\lib\\site-packages\\keras\\src\\engine\\training.py:3079: UserWarning: You are saving your model as an HDF5 file via `model.save()`. This file format is considered legacy. We recommend using instead the native Keras format, e.g. `model.save('my_model.keras')`.\n",
      "  saving_api.save_model(\n"
     ]
    },
    {
     "name": "stdout",
     "output_type": "stream",
     "text": [
      "Epoch 1/10\n",
      "4/4 [==============================] - 6s 483ms/step - loss: 0.8899 - val_loss: 0.7006\n",
      "Epoch 2/10\n",
      "4/4 [==============================] - 0s 85ms/step - loss: 0.2670 - val_loss: 0.7346\n",
      "Epoch 3/10\n",
      "4/4 [==============================] - 0s 97ms/step - loss: 0.2456 - val_loss: 0.7126\n",
      "Epoch 4/10\n",
      "4/4 [==============================] - 0s 92ms/step - loss: 0.1599 - val_loss: 0.7001\n",
      "Epoch 5/10\n",
      "4/4 [==============================] - 0s 93ms/step - loss: 0.1508 - val_loss: 0.6904\n",
      "Epoch 6/10\n",
      "4/4 [==============================] - 0s 93ms/step - loss: 0.1364 - val_loss: 0.6981\n",
      "Epoch 7/10\n",
      "4/4 [==============================] - 0s 93ms/step - loss: 0.1024 - val_loss: 0.6798\n",
      "Epoch 8/10\n",
      "4/4 [==============================] - 0s 94ms/step - loss: 0.0925 - val_loss: 0.6817\n",
      "Epoch 9/10\n",
      "4/4 [==============================] - 0s 100ms/step - loss: 0.0817 - val_loss: 0.6839\n",
      "Epoch 10/10\n",
      "4/4 [==============================] - 0s 99ms/step - loss: 0.0743 - val_loss: 0.6970\n",
      "Model for tishi saved to trained_models\\tishi_model.h5.\n"
     ]
    },
    {
     "name": "stderr",
     "output_type": "stream",
     "text": [
      "c:\\Program Files\\Python310\\lib\\site-packages\\keras\\src\\engine\\training.py:3079: UserWarning: You are saving your model as an HDF5 file via `model.save()`. This file format is considered legacy. We recommend using instead the native Keras format, e.g. `model.save('my_model.keras')`.\n",
      "  saving_api.save_model(\n"
     ]
    },
    {
     "name": "stdout",
     "output_type": "stream",
     "text": [
      "Epoch 1/10\n",
      "12/12 [==============================] - 8s 176ms/step - loss: 0.4331 - val_loss: 0.7835\n",
      "Epoch 2/10\n",
      "12/12 [==============================] - 1s 81ms/step - loss: 0.1892 - val_loss: 0.6750\n",
      "Epoch 3/10\n",
      "12/12 [==============================] - 1s 84ms/step - loss: 0.1280 - val_loss: 0.5728\n",
      "Epoch 4/10\n",
      "12/12 [==============================] - 1s 81ms/step - loss: 0.0862 - val_loss: 0.5215\n",
      "Epoch 5/10\n",
      "12/12 [==============================] - 1s 101ms/step - loss: 0.0730 - val_loss: 0.6236\n",
      "Epoch 6/10\n",
      "12/12 [==============================] - 1s 84ms/step - loss: 0.0644 - val_loss: 0.6021\n",
      "Epoch 7/10\n",
      "12/12 [==============================] - 1s 84ms/step - loss: 0.0587 - val_loss: 0.5996\n",
      "Epoch 8/10\n",
      "12/12 [==============================] - 1s 98ms/step - loss: 0.0433 - val_loss: 0.6221\n",
      "Epoch 9/10\n",
      "12/12 [==============================] - 1s 95ms/step - loss: 0.0418 - val_loss: 0.7026\n",
      "Epoch 10/10\n",
      "12/12 [==============================] - 1s 94ms/step - loss: 0.0419 - val_loss: 0.6612\n",
      "Model for soybean saved to trained_models\\soybean_model.h5.\n"
     ]
    },
    {
     "name": "stderr",
     "output_type": "stream",
     "text": [
      "c:\\Program Files\\Python310\\lib\\site-packages\\keras\\src\\engine\\training.py:3079: UserWarning: You are saving your model as an HDF5 file via `model.save()`. This file format is considered legacy. We recommend using instead the native Keras format, e.g. `model.save('my_model.keras')`.\n",
      "  saving_api.save_model(\n"
     ]
    },
    {
     "name": "stdout",
     "output_type": "stream",
     "text": [
      "Epoch 1/10\n",
      "1/1 [==============================] - 6s 6s/step - loss: 0.1355 - val_loss: 0.0012\n",
      "Epoch 2/10\n",
      "1/1 [==============================] - 0s 144ms/step - loss: 0.1228 - val_loss: 0.0014\n",
      "Epoch 3/10\n",
      "1/1 [==============================] - 0s 174ms/step - loss: 0.1126 - val_loss: 0.0015\n",
      "Epoch 4/10\n",
      "1/1 [==============================] - 0s 186ms/step - loss: 0.0676 - val_loss: 0.0014\n",
      "Epoch 5/10\n",
      "1/1 [==============================] - 0s 189ms/step - loss: 0.1128 - val_loss: 0.0012\n",
      "Epoch 6/10\n",
      "1/1 [==============================] - 0s 181ms/step - loss: 0.0502 - val_loss: 0.0011\n",
      "Epoch 7/10\n",
      "1/1 [==============================] - 0s 160ms/step - loss: 0.0732 - val_loss: 0.0011\n",
      "Epoch 8/10\n",
      "1/1 [==============================] - 0s 150ms/step - loss: 0.0379 - val_loss: 0.0011\n",
      "Epoch 9/10\n",
      "1/1 [==============================] - 0s 152ms/step - loss: 0.0669 - val_loss: 0.0010\n",
      "Epoch 10/10\n",
      "1/1 [==============================] - 0s 158ms/step - loss: 0.1015 - val_loss: 0.0010\n",
      "Model for rapeseeds saved to trained_models\\rapeseeds_model.h5.\n"
     ]
    },
    {
     "name": "stderr",
     "output_type": "stream",
     "text": [
      "c:\\Program Files\\Python310\\lib\\site-packages\\keras\\src\\engine\\training.py:3079: UserWarning: You are saving your model as an HDF5 file via `model.save()`. This file format is considered legacy. We recommend using instead the native Keras format, e.g. `model.save('my_model.keras')`.\n",
      "  saving_api.save_model(\n",
      "d:\\Projects\\market price\\training_model\\model.py:18: FutureWarning: DataFrame.interpolate with object dtype is deprecated and will raise in a future version. Call obj.infer_objects(copy=False) before interpolating instead.\n",
      "  pivot_df = pivot_df.interpolate(method='linear', axis=0).fillna(method='bfill').fillna(method='ffill')\n",
      "d:\\Projects\\market price\\training_model\\model.py:18: FutureWarning: DataFrame.fillna with 'method' is deprecated and will raise in a future version. Use obj.ffill() or obj.bfill() instead.\n",
      "  pivot_df = pivot_df.interpolate(method='linear', axis=0).fillna(method='bfill').fillna(method='ffill')\n"
     ]
    },
    {
     "name": "stdout",
     "output_type": "stream",
     "text": [
      "Epoch 1/10\n",
      "68/68 [==============================] - 13s 102ms/step - loss: 0.2754 - val_loss: 0.2548\n",
      "Epoch 2/10\n",
      "68/68 [==============================] - 6s 86ms/step - loss: 0.0948 - val_loss: 0.2491\n",
      "Epoch 3/10\n",
      "68/68 [==============================] - 6s 90ms/step - loss: 0.0835 - val_loss: 0.2363\n",
      "Epoch 4/10\n",
      "68/68 [==============================] - 6s 89ms/step - loss: 0.0779 - val_loss: 0.1978\n",
      "Epoch 5/10\n",
      "68/68 [==============================] - 5s 77ms/step - loss: 0.0761 - val_loss: 0.1928\n",
      "Epoch 6/10\n",
      "68/68 [==============================] - 5s 80ms/step - loss: 0.0744 - val_loss: 0.2061\n",
      "Epoch 7/10\n",
      "68/68 [==============================] - 5s 77ms/step - loss: 0.0736 - val_loss: 0.1956\n",
      "Epoch 8/10\n",
      "68/68 [==============================] - 5s 77ms/step - loss: 0.0731 - val_loss: 0.1735\n",
      "Epoch 9/10\n",
      "68/68 [==============================] - 5s 79ms/step - loss: 0.0729 - val_loss: 0.1632\n",
      "Epoch 10/10\n",
      "68/68 [==============================] - 6s 83ms/step - loss: 0.0719 - val_loss: 0.1599\n",
      "Model for mustard oil (local) - ordinary saved to trained_models\\mustard oil (local) - ordinary_model.h5.\n"
     ]
    },
    {
     "name": "stderr",
     "output_type": "stream",
     "text": [
      "c:\\Program Files\\Python310\\lib\\site-packages\\keras\\src\\engine\\training.py:3079: UserWarning: You are saving your model as an HDF5 file via `model.save()`. This file format is considered legacy. We recommend using instead the native Keras format, e.g. `model.save('my_model.keras')`.\n",
      "  saving_api.save_model(\n"
     ]
    },
    {
     "name": "stdout",
     "output_type": "stream",
     "text": [
      "Epoch 1/10\n",
      "73/73 [==============================] - 12s 98ms/step - loss: 0.0779 - val_loss: 0.0121\n",
      "Epoch 2/10\n",
      "73/73 [==============================] - 8s 109ms/step - loss: 0.0130 - val_loss: 0.0108\n",
      "Epoch 3/10\n",
      "73/73 [==============================] - 6s 86ms/step - loss: 0.0144 - val_loss: 0.0105\n",
      "Epoch 4/10\n",
      "73/73 [==============================] - 5s 75ms/step - loss: 0.0062 - val_loss: 0.0101\n",
      "Epoch 5/10\n",
      "73/73 [==============================] - 5s 75ms/step - loss: 0.0038 - val_loss: 0.0094\n",
      "Epoch 6/10\n",
      "73/73 [==============================] - 5s 74ms/step - loss: 0.0028 - val_loss: 0.0095\n",
      "Epoch 7/10\n",
      "73/73 [==============================] - 5s 74ms/step - loss: 0.0018 - val_loss: 0.0088\n",
      "Epoch 8/10\n",
      "73/73 [==============================] - 6s 76ms/step - loss: 0.0016 - val_loss: 0.0071\n",
      "Epoch 9/10\n",
      "73/73 [==============================] - 7s 95ms/step - loss: 0.0024 - val_loss: 0.0091\n",
      "Epoch 10/10\n",
      "73/73 [==============================] - 6s 82ms/step - loss: 0.0021 - val_loss: 0.0113\n",
      "Model for palm oil saved to trained_models\\palm oil_model.h5.\n"
     ]
    },
    {
     "name": "stderr",
     "output_type": "stream",
     "text": [
      "c:\\Program Files\\Python310\\lib\\site-packages\\keras\\src\\engine\\training.py:3079: UserWarning: You are saving your model as an HDF5 file via `model.save()`. This file format is considered legacy. We recommend using instead the native Keras format, e.g. `model.save('my_model.keras')`.\n",
      "  saving_api.save_model(\n"
     ]
    },
    {
     "name": "stdout",
     "output_type": "stream",
     "text": [
      "Epoch 1/10\n",
      "74/74 [==============================] - 10s 88ms/step - loss: 0.0195 - val_loss: 0.0220\n",
      "Epoch 2/10\n",
      "74/74 [==============================] - 6s 76ms/step - loss: 0.0038 - val_loss: 0.0221\n",
      "Epoch 3/10\n",
      "74/74 [==============================] - 6s 75ms/step - loss: 0.0040 - val_loss: 0.0216\n",
      "Epoch 4/10\n",
      "74/74 [==============================] - 5s 72ms/step - loss: 0.0013 - val_loss: 0.0213\n",
      "Epoch 5/10\n",
      "74/74 [==============================] - 5s 74ms/step - loss: 4.1818e-04 - val_loss: 0.0218\n",
      "Epoch 6/10\n",
      "74/74 [==============================] - 6s 75ms/step - loss: 3.7268e-04 - val_loss: 0.0249\n",
      "Epoch 7/10\n",
      "74/74 [==============================] - 6s 82ms/step - loss: 3.6201e-04 - val_loss: 0.0278\n",
      "Epoch 8/10\n",
      "74/74 [==============================] - 6s 76ms/step - loss: 3.1389e-04 - val_loss: 0.0357\n",
      "Epoch 9/10\n",
      "74/74 [==============================] - 6s 75ms/step - loss: 3.1716e-04 - val_loss: 0.0626\n",
      "Epoch 10/10\n",
      "74/74 [==============================] - 5s 74ms/step - loss: 3.0692e-04 - val_loss: 0.0844\n",
      "Model for soybean oil(loose) saved to trained_models\\soybean oil(loose)_model.h5.\n"
     ]
    },
    {
     "name": "stderr",
     "output_type": "stream",
     "text": [
      "c:\\Program Files\\Python310\\lib\\site-packages\\keras\\src\\engine\\training.py:3079: UserWarning: You are saving your model as an HDF5 file via `model.save()`. This file format is considered legacy. We recommend using instead the native Keras format, e.g. `model.save('my_model.keras')`.\n",
      "  saving_api.save_model(\n"
     ]
    },
    {
     "name": "stdout",
     "output_type": "stream",
     "text": [
      "Epoch 1/10\n",
      "53/53 [==============================] - 10s 102ms/step - loss: 0.2350 - val_loss: 0.3416\n",
      "Epoch 2/10\n",
      "53/53 [==============================] - 4s 79ms/step - loss: 0.0571 - val_loss: 0.3064\n",
      "Epoch 3/10\n",
      "53/53 [==============================] - 4s 78ms/step - loss: 0.0340 - val_loss: 0.2295\n",
      "Epoch 4/10\n",
      "53/53 [==============================] - 4s 75ms/step - loss: 0.0272 - val_loss: 0.1784\n",
      "Epoch 5/10\n",
      "53/53 [==============================] - 4s 73ms/step - loss: 0.0242 - val_loss: 0.1504\n",
      "Epoch 6/10\n",
      "53/53 [==============================] - 4s 74ms/step - loss: 0.0220 - val_loss: 0.1320\n",
      "Epoch 7/10\n",
      "53/53 [==============================] - 4s 74ms/step - loss: 0.0202 - val_loss: 0.1268\n",
      "Epoch 8/10\n",
      "53/53 [==============================] - 4s 76ms/step - loss: 0.0191 - val_loss: 0.0978\n",
      "Epoch 9/10\n",
      "53/53 [==============================] - 4s 79ms/step - loss: 0.0171 - val_loss: 0.0625\n",
      "Epoch 10/10\n",
      "53/53 [==============================] - 4s 74ms/step - loss: 0.0157 - val_loss: 0.0698\n",
      "Model for coconut  oil (imported) - superior quality saved to trained_models\\coconut  oil (imported) - superior quality_model.h5.\n"
     ]
    },
    {
     "name": "stderr",
     "output_type": "stream",
     "text": [
      "c:\\Program Files\\Python310\\lib\\site-packages\\keras\\src\\engine\\training.py:3079: UserWarning: You are saving your model as an HDF5 file via `model.save()`. This file format is considered legacy. We recommend using instead the native Keras format, e.g. `model.save('my_model.keras')`.\n",
      "  saving_api.save_model(\n"
     ]
    },
    {
     "name": "stdout",
     "output_type": "stream",
     "text": [
      "Epoch 1/10\n",
      "58/58 [==============================] - 10s 94ms/step - loss: 0.2142 - val_loss: 0.4367\n",
      "Epoch 2/10\n",
      "58/58 [==============================] - 5s 78ms/step - loss: 0.0543 - val_loss: 0.2686\n",
      "Epoch 3/10\n",
      "58/58 [==============================] - 4s 75ms/step - loss: 0.0283 - val_loss: 0.2280\n",
      "Epoch 4/10\n",
      "58/58 [==============================] - 5s 79ms/step - loss: 0.0198 - val_loss: 0.2176\n",
      "Epoch 5/10\n",
      "58/58 [==============================] - 4s 76ms/step - loss: 0.0174 - val_loss: 0.1874\n",
      "Epoch 6/10\n",
      "58/58 [==============================] - 4s 78ms/step - loss: 0.0146 - val_loss: 0.1829\n",
      "Epoch 7/10\n",
      "58/58 [==============================] - 4s 77ms/step - loss: 0.0135 - val_loss: 0.1452\n",
      "Epoch 8/10\n",
      "58/58 [==============================] - 4s 76ms/step - loss: 0.0122 - val_loss: 0.1372\n",
      "Epoch 9/10\n",
      "58/58 [==============================] - 4s 76ms/step - loss: 0.0113 - val_loss: 0.0896\n",
      "Epoch 10/10\n",
      "58/58 [==============================] - 4s 76ms/step - loss: 0.0105 - val_loss: 0.0825\n",
      "Model for coconut oil (imported) - ordinary saved to trained_models\\coconut oil (imported) - ordinary_model.h5.\n"
     ]
    },
    {
     "name": "stderr",
     "output_type": "stream",
     "text": [
      "c:\\Program Files\\Python310\\lib\\site-packages\\keras\\src\\engine\\training.py:3079: UserWarning: You are saving your model as an HDF5 file via `model.save()`. This file format is considered legacy. We recommend using instead the native Keras format, e.g. `model.save('my_model.keras')`.\n",
      "  saving_api.save_model(\n"
     ]
    },
    {
     "name": "stdout",
     "output_type": "stream",
     "text": [
      "Epoch 1/10\n",
      "64/64 [==============================] - 10s 91ms/step - loss: 0.2561 - val_loss: 0.1389\n",
      "Epoch 2/10\n",
      "64/64 [==============================] - 5s 77ms/step - loss: 0.0813 - val_loss: 0.1095\n",
      "Epoch 3/10\n",
      "64/64 [==============================] - 5s 80ms/step - loss: 0.0688 - val_loss: 0.0923\n",
      "Epoch 4/10\n",
      "64/64 [==============================] - 5s 79ms/step - loss: 0.0634 - val_loss: 0.0868\n",
      "Epoch 5/10\n",
      "64/64 [==============================] - 5s 85ms/step - loss: 0.0612 - val_loss: 0.0754\n",
      "Epoch 6/10\n",
      "64/64 [==============================] - 5s 82ms/step - loss: 0.0599 - val_loss: 0.0779\n",
      "Epoch 7/10\n",
      "64/64 [==============================] - 5s 80ms/step - loss: 0.0591 - val_loss: 0.0784\n",
      "Epoch 8/10\n",
      "64/64 [==============================] - 5s 74ms/step - loss: 0.0590 - val_loss: 0.0768\n",
      "Epoch 9/10\n",
      "64/64 [==============================] - 5s 75ms/step - loss: 0.0580 - val_loss: 0.0745\n",
      "Epoch 10/10\n",
      "64/64 [==============================] - 5s 74ms/step - loss: 0.0575 - val_loss: 0.0725\n",
      "Model for coconut oil (local) saved to trained_models\\coconut oil (local)_model.h5.\n"
     ]
    },
    {
     "name": "stderr",
     "output_type": "stream",
     "text": [
      "c:\\Program Files\\Python310\\lib\\site-packages\\keras\\src\\engine\\training.py:3079: UserWarning: You are saving your model as an HDF5 file via `model.save()`. This file format is considered legacy. We recommend using instead the native Keras format, e.g. `model.save('my_model.keras')`.\n",
      "  saving_api.save_model(\n"
     ]
    },
    {
     "name": "stdout",
     "output_type": "stream",
     "text": [
      "Epoch 1/10\n",
      "4/4 [==============================] - 6s 409ms/step - loss: 0.4468 - val_loss: 0.0213\n",
      "Epoch 2/10\n",
      "4/4 [==============================] - 0s 84ms/step - loss: 0.2328 - val_loss: 0.0198\n",
      "Epoch 3/10\n",
      "4/4 [==============================] - 0s 79ms/step - loss: 0.2626 - val_loss: 0.0194\n",
      "Epoch 4/10\n",
      "4/4 [==============================] - 0s 78ms/step - loss: 0.1564 - val_loss: 0.0202\n",
      "Epoch 5/10\n",
      "4/4 [==============================] - 0s 77ms/step - loss: 0.1406 - val_loss: 0.0206\n",
      "Epoch 6/10\n",
      "4/4 [==============================] - 0s 80ms/step - loss: 0.0740 - val_loss: 0.0196\n",
      "Epoch 7/10\n",
      "4/4 [==============================] - 0s 77ms/step - loss: 0.0867 - val_loss: 0.0186\n",
      "Epoch 8/10\n",
      "4/4 [==============================] - 0s 77ms/step - loss: 0.0772 - val_loss: 0.0188\n",
      "Epoch 9/10\n",
      "4/4 [==============================] - 0s 80ms/step - loss: 0.0609 - val_loss: 0.0180\n",
      "Epoch 10/10\n",
      "4/4 [==============================] - 0s 77ms/step - loss: 0.0626 - val_loss: 0.0163\n",
      "Model for ground nut oil saved to trained_models\\ground nut oil_model.h5.\n"
     ]
    },
    {
     "name": "stderr",
     "output_type": "stream",
     "text": [
      "c:\\Program Files\\Python310\\lib\\site-packages\\keras\\src\\engine\\training.py:3079: UserWarning: You are saving your model as an HDF5 file via `model.save()`. This file format is considered legacy. We recommend using instead the native Keras format, e.g. `model.save('my_model.keras')`.\n",
      "  saving_api.save_model(\n"
     ]
    },
    {
     "name": "stdout",
     "output_type": "stream",
     "text": [
      "Epoch 1/10\n",
      "66/66 [==============================] - 11s 90ms/step - loss: 0.2649 - val_loss: 0.0554\n",
      "Epoch 2/10\n",
      "66/66 [==============================] - 5s 74ms/step - loss: 0.0237 - val_loss: 0.0509\n",
      "Epoch 3/10\n",
      "66/66 [==============================] - 5s 75ms/step - loss: 0.0112 - val_loss: 0.0434\n",
      "Epoch 4/10\n",
      "66/66 [==============================] - 5s 76ms/step - loss: 0.0084 - val_loss: 0.0345\n",
      "Epoch 5/10\n",
      "66/66 [==============================] - 5s 76ms/step - loss: 0.0066 - val_loss: 0.0230\n",
      "Epoch 6/10\n",
      "66/66 [==============================] - 5s 74ms/step - loss: 0.0056 - val_loss: 0.0162\n",
      "Epoch 7/10\n",
      "66/66 [==============================] - 5s 76ms/step - loss: 0.0052 - val_loss: 0.0172\n",
      "Epoch 8/10\n",
      "66/66 [==============================] - 5s 77ms/step - loss: 0.0049 - val_loss: 0.0099\n",
      "Epoch 9/10\n",
      "66/66 [==============================] - 5s 74ms/step - loss: 0.0045 - val_loss: 0.0109\n",
      "Epoch 10/10\n",
      "66/66 [==============================] - 5s 76ms/step - loss: 0.0043 - val_loss: 0.0082\n",
      "Model for mustard oil (local) - superior quality saved to trained_models\\mustard oil (local) - superior quality_model.h5.\n"
     ]
    },
    {
     "name": "stderr",
     "output_type": "stream",
     "text": [
      "c:\\Program Files\\Python310\\lib\\site-packages\\keras\\src\\engine\\training.py:3079: UserWarning: You are saving your model as an HDF5 file via `model.save()`. This file format is considered legacy. We recommend using instead the native Keras format, e.g. `model.save('my_model.keras')`.\n",
      "  saving_api.save_model(\n"
     ]
    },
    {
     "name": "stdout",
     "output_type": "stream",
     "text": [
      "Epoch 1/10\n",
      "63/63 [==============================] - 12s 99ms/step - loss: 0.1356 - val_loss: 0.0053\n",
      "Epoch 2/10\n",
      "63/63 [==============================] - 5s 83ms/step - loss: 0.0136 - val_loss: 0.0048\n",
      "Epoch 3/10\n",
      "63/63 [==============================] - 5s 84ms/step - loss: 0.0076 - val_loss: 0.0052\n",
      "Epoch 4/10\n",
      "63/63 [==============================] - 5s 83ms/step - loss: 0.0054 - val_loss: 0.0049\n",
      "Epoch 5/10\n",
      "63/63 [==============================] - 5s 83ms/step - loss: 0.0042 - val_loss: 0.0040\n",
      "Epoch 6/10\n",
      "63/63 [==============================] - 5s 82ms/step - loss: 0.0037 - val_loss: 0.0035\n",
      "Epoch 7/10\n",
      "63/63 [==============================] - 5s 82ms/step - loss: 0.0034 - val_loss: 0.0039\n",
      "Epoch 8/10\n",
      "63/63 [==============================] - 5s 82ms/step - loss: 0.0032 - val_loss: 0.0036\n",
      "Epoch 9/10\n",
      "63/63 [==============================] - 5s 81ms/step - loss: 0.0029 - val_loss: 0.0026\n",
      "Epoch 10/10\n",
      "63/63 [==============================] - 5s 83ms/step - loss: 0.0030 - val_loss: 0.0025\n",
      "Model for vegetable ghee saved to trained_models\\vegetable ghee_model.h5.\n"
     ]
    },
    {
     "name": "stderr",
     "output_type": "stream",
     "text": [
      "c:\\Program Files\\Python310\\lib\\site-packages\\keras\\src\\engine\\training.py:3079: UserWarning: You are saving your model as an HDF5 file via `model.save()`. This file format is considered legacy. We recommend using instead the native Keras format, e.g. `model.save('my_model.keras')`.\n",
      "  saving_api.save_model(\n"
     ]
    },
    {
     "name": "stdout",
     "output_type": "stream",
     "text": [
      "Epoch 1/10\n",
      "15/15 [==============================] - 6s 159ms/step - loss: 0.3383 - val_loss: 0.3291\n",
      "Epoch 2/10\n",
      "15/15 [==============================] - 1s 80ms/step - loss: 0.1207 - val_loss: 0.3157\n",
      "Epoch 3/10\n",
      "15/15 [==============================] - 1s 82ms/step - loss: 0.0786 - val_loss: 0.3247\n",
      "Epoch 4/10\n",
      "15/15 [==============================] - 1s 81ms/step - loss: 0.0605 - val_loss: 0.3175\n",
      "Epoch 5/10\n",
      "15/15 [==============================] - 1s 99ms/step - loss: 0.0483 - val_loss: 0.3220\n",
      "Epoch 6/10\n",
      "15/15 [==============================] - 1s 83ms/step - loss: 0.0408 - val_loss: 0.3085\n",
      "Epoch 7/10\n",
      "15/15 [==============================] - 1s 81ms/step - loss: 0.0328 - val_loss: 0.2945\n",
      "Epoch 8/10\n",
      "15/15 [==============================] - 1s 79ms/step - loss: 0.0276 - val_loss: 0.2845\n",
      "Epoch 9/10\n",
      "15/15 [==============================] - 1s 87ms/step - loss: 0.0261 - val_loss: 0.2822\n",
      "Epoch 10/10\n",
      "15/15 [==============================] - 1s 83ms/step - loss: 0.0259 - val_loss: 0.2870\n",
      "Model for mustard oil (imported) saved to trained_models\\mustard oil (imported)_model.h5.\n"
     ]
    },
    {
     "name": "stderr",
     "output_type": "stream",
     "text": [
      "c:\\Program Files\\Python310\\lib\\site-packages\\keras\\src\\engine\\training.py:3079: UserWarning: You are saving your model as an HDF5 file via `model.save()`. This file format is considered legacy. We recommend using instead the native Keras format, e.g. `model.save('my_model.keras')`.\n",
      "  saving_api.save_model(\n"
     ]
    },
    {
     "name": "stdout",
     "output_type": "stream",
     "text": [
      "Epoch 1/10\n",
      "4/4 [==============================] - 6s 447ms/step - loss: 2.6053 - val_loss: 0.3267\n",
      "Epoch 2/10\n",
      "4/4 [==============================] - 0s 90ms/step - loss: 1.3171 - val_loss: 0.2077\n",
      "Epoch 3/10\n",
      "4/4 [==============================] - 0s 90ms/step - loss: 0.8889 - val_loss: 0.1537\n",
      "Epoch 4/10\n",
      "4/4 [==============================] - 0s 100ms/step - loss: 0.6747 - val_loss: 0.1306\n",
      "Epoch 5/10\n",
      "4/4 [==============================] - 0s 93ms/step - loss: 0.6336 - val_loss: 0.1176\n",
      "Epoch 6/10\n",
      "4/4 [==============================] - 0s 101ms/step - loss: 0.4538 - val_loss: 0.1077\n",
      "Epoch 7/10\n",
      "4/4 [==============================] - 0s 99ms/step - loss: 0.4488 - val_loss: 0.1053\n",
      "Epoch 8/10\n",
      "4/4 [==============================] - 0s 100ms/step - loss: 0.2977 - val_loss: 0.0978\n",
      "Epoch 9/10\n",
      "4/4 [==============================] - 0s 107ms/step - loss: 0.2802 - val_loss: 0.0958\n",
      "Epoch 10/10\n",
      "4/4 [==============================] - 0s 103ms/step - loss: 0.2531 - val_loss: 0.1045\n",
      "Model for sesame oil(till) saved to trained_models\\sesame oil(till)_model.h5.\n"
     ]
    },
    {
     "name": "stderr",
     "output_type": "stream",
     "text": [
      "c:\\Program Files\\Python310\\lib\\site-packages\\keras\\src\\engine\\training.py:3079: UserWarning: You are saving your model as an HDF5 file via `model.save()`. This file format is considered legacy. We recommend using instead the native Keras format, e.g. `model.save('my_model.keras')`.\n",
      "  saving_api.save_model(\n"
     ]
    },
    {
     "name": "stdout",
     "output_type": "stream",
     "text": [
      "Epoch 1/10\n",
      "33/33 [==============================] - 9s 122ms/step - loss: 0.3328 - val_loss: 0.5055\n",
      "Epoch 2/10\n",
      "33/33 [==============================] - 3s 84ms/step - loss: 0.1216 - val_loss: 0.4705\n",
      "Epoch 3/10\n",
      "33/33 [==============================] - 3s 85ms/step - loss: 0.0823 - val_loss: 0.4470\n",
      "Epoch 4/10\n",
      "33/33 [==============================] - 3s 88ms/step - loss: 0.0595 - val_loss: 0.4605\n",
      "Epoch 5/10\n",
      "33/33 [==============================] - 3s 82ms/step - loss: 0.0498 - val_loss: 0.3831\n",
      "Epoch 6/10\n",
      "33/33 [==============================] - 3s 80ms/step - loss: 0.0453 - val_loss: 0.3342\n",
      "Epoch 7/10\n",
      "33/33 [==============================] - 3s 82ms/step - loss: 0.0359 - val_loss: 0.3094\n",
      "Epoch 8/10\n",
      "33/33 [==============================] - 3s 82ms/step - loss: 0.0358 - val_loss: 0.3002\n",
      "Epoch 9/10\n",
      "33/33 [==============================] - 3s 84ms/step - loss: 0.0315 - val_loss: 0.2396\n",
      "Epoch 10/10\n",
      "33/33 [==============================] - 3s 80ms/step - loss: 0.0300 - val_loss: 0.2077\n",
      "Model for butter oil saved to trained_models\\butter oil_model.h5.\n"
     ]
    },
    {
     "name": "stderr",
     "output_type": "stream",
     "text": [
      "c:\\Program Files\\Python310\\lib\\site-packages\\keras\\src\\engine\\training.py:3079: UserWarning: You are saving your model as an HDF5 file via `model.save()`. This file format is considered legacy. We recommend using instead the native Keras format, e.g. `model.save('my_model.keras')`.\n",
      "  saving_api.save_model(\n"
     ]
    },
    {
     "name": "stdout",
     "output_type": "stream",
     "text": [
      "Epoch 1/10\n",
      "34/34 [==============================] - 9s 118ms/step - loss: 0.2998 - val_loss: 0.5198\n",
      "Epoch 2/10\n",
      "34/34 [==============================] - 3s 86ms/step - loss: 0.1479 - val_loss: 0.4342\n",
      "Epoch 3/10\n",
      "34/34 [==============================] - 3s 76ms/step - loss: 0.1259 - val_loss: 0.3701\n",
      "Epoch 4/10\n",
      "34/34 [==============================] - 3s 75ms/step - loss: 0.1209 - val_loss: 0.3285\n",
      "Epoch 5/10\n",
      "34/34 [==============================] - 3s 74ms/step - loss: 0.1170 - val_loss: 0.3161\n",
      "Epoch 6/10\n",
      "34/34 [==============================] - 3s 76ms/step - loss: 0.1161 - val_loss: 0.2310\n",
      "Epoch 7/10\n",
      "34/34 [==============================] - 3s 74ms/step - loss: 0.1124 - val_loss: 0.2056\n",
      "Epoch 8/10\n",
      "34/34 [==============================] - 3s 75ms/step - loss: 0.1114 - val_loss: 0.1589\n",
      "Epoch 9/10\n",
      "34/34 [==============================] - 2s 73ms/step - loss: 0.1103 - val_loss: 0.1682\n",
      "Epoch 10/10\n",
      "34/34 [==============================] - 3s 74ms/step - loss: 0.1100 - val_loss: 0.1032\n",
      "Model for sunflower saved to trained_models\\sunflower_model.h5.\n"
     ]
    },
    {
     "name": "stderr",
     "output_type": "stream",
     "text": [
      "c:\\Program Files\\Python310\\lib\\site-packages\\keras\\src\\engine\\training.py:3079: UserWarning: You are saving your model as an HDF5 file via `model.save()`. This file format is considered legacy. We recommend using instead the native Keras format, e.g. `model.save('my_model.keras')`.\n",
      "  saving_api.save_model(\n"
     ]
    },
    {
     "name": "stdout",
     "output_type": "stream",
     "text": [
      "Epoch 1/10\n",
      "2/2 [==============================] - 6s 1s/step - loss: 0.9626 - val_loss: 0.7061\n",
      "Epoch 2/10\n",
      "2/2 [==============================] - 0s 80ms/step - loss: 0.5863 - val_loss: 0.6708\n",
      "Epoch 3/10\n",
      "2/2 [==============================] - 0s 90ms/step - loss: 0.5917 - val_loss: 0.6797\n",
      "Epoch 4/10\n",
      "2/2 [==============================] - 0s 87ms/step - loss: 0.6977 - val_loss: 0.6892\n",
      "Epoch 5/10\n",
      "2/2 [==============================] - 0s 89ms/step - loss: 0.3921 - val_loss: 0.6828\n",
      "Epoch 6/10\n",
      "2/2 [==============================] - 0s 81ms/step - loss: 0.4766 - val_loss: 0.6722\n",
      "Epoch 7/10\n",
      "2/2 [==============================] - 0s 85ms/step - loss: 0.3369 - val_loss: 0.6588\n",
      "Epoch 8/10\n",
      "2/2 [==============================] - 0s 83ms/step - loss: 0.2944 - val_loss: 0.6483\n",
      "Epoch 9/10\n",
      "2/2 [==============================] - 0s 80ms/step - loss: 0.3058 - val_loss: 0.6424\n",
      "Epoch 10/10\n",
      "2/2 [==============================] - 0s 70ms/step - loss: 0.2737 - val_loss: 0.6370\n",
      "Model for soyabin oil (1 lit bottle) saved to trained_models\\soyabin oil (1 lit bottle)_model.h5.\n"
     ]
    },
    {
     "name": "stderr",
     "output_type": "stream",
     "text": [
      "c:\\Program Files\\Python310\\lib\\site-packages\\keras\\src\\engine\\training.py:3079: UserWarning: You are saving your model as an HDF5 file via `model.save()`. This file format is considered legacy. We recommend using instead the native Keras format, e.g. `model.save('my_model.keras')`.\n",
      "  saving_api.save_model(\n"
     ]
    },
    {
     "name": "stdout",
     "output_type": "stream",
     "text": [
      "Epoch 1/10\n",
      "2/2 [==============================] - 6s 967ms/step - loss: 2.1020 - val_loss: 0.6837\n",
      "Epoch 2/10\n",
      "2/2 [==============================] - 0s 74ms/step - loss: 1.1142 - val_loss: 0.5887\n",
      "Epoch 3/10\n",
      "2/2 [==============================] - 0s 70ms/step - loss: 1.3085 - val_loss: 0.5100\n",
      "Epoch 4/10\n",
      "2/2 [==============================] - 0s 62ms/step - loss: 1.1029 - val_loss: 0.4214\n",
      "Epoch 5/10\n",
      "2/2 [==============================] - 0s 61ms/step - loss: 0.8385 - val_loss: 0.3550\n",
      "Epoch 6/10\n",
      "2/2 [==============================] - 0s 60ms/step - loss: 0.8443 - val_loss: 0.3258\n",
      "Epoch 7/10\n",
      "2/2 [==============================] - 0s 73ms/step - loss: 0.8974 - val_loss: 0.3130\n",
      "Epoch 8/10\n",
      "2/2 [==============================] - 0s 68ms/step - loss: 0.5917 - val_loss: 0.3205\n",
      "Epoch 9/10\n",
      "2/2 [==============================] - 0s 70ms/step - loss: 0.4471 - val_loss: 0.3354\n",
      "Epoch 10/10\n",
      "2/2 [==============================] - 0s 80ms/step - loss: 0.7650 - val_loss: 0.3575\n",
      "Model for soyabin oil (5 liter bottle) saved to trained_models\\soyabin oil (5 liter bottle)_model.h5.\n"
     ]
    },
    {
     "name": "stderr",
     "output_type": "stream",
     "text": [
      "c:\\Program Files\\Python310\\lib\\site-packages\\keras\\src\\engine\\training.py:3079: UserWarning: You are saving your model as an HDF5 file via `model.save()`. This file format is considered legacy. We recommend using instead the native Keras format, e.g. `model.save('my_model.keras')`.\n",
      "  saving_api.save_model(\n",
      "d:\\Projects\\market price\\training_model\\model.py:18: FutureWarning: DataFrame.interpolate with object dtype is deprecated and will raise in a future version. Call obj.infer_objects(copy=False) before interpolating instead.\n",
      "  pivot_df = pivot_df.interpolate(method='linear', axis=0).fillna(method='bfill').fillna(method='ffill')\n",
      "d:\\Projects\\market price\\training_model\\model.py:18: FutureWarning: DataFrame.fillna with 'method' is deprecated and will raise in a future version. Use obj.ffill() or obj.bfill() instead.\n",
      "  pivot_df = pivot_df.interpolate(method='linear', axis=0).fillna(method='bfill').fillna(method='ffill')\n"
     ]
    },
    {
     "name": "stdout",
     "output_type": "stream",
     "text": [
      "Epoch 1/10\n",
      "68/68 [==============================] - 12s 105ms/step - loss: 0.1702 - val_loss: 0.2099\n",
      "Epoch 2/10\n",
      "68/68 [==============================] - 6s 88ms/step - loss: 0.0520 - val_loss: 0.2079\n",
      "Epoch 3/10\n",
      "68/68 [==============================] - 6s 87ms/step - loss: 0.0437 - val_loss: 0.1956\n",
      "Epoch 4/10\n",
      "68/68 [==============================] - 6s 87ms/step - loss: 0.0415 - val_loss: 0.1691\n",
      "Epoch 5/10\n",
      "68/68 [==============================] - 6s 85ms/step - loss: 0.0398 - val_loss: 0.1647\n",
      "Epoch 6/10\n",
      "68/68 [==============================] - 6s 85ms/step - loss: 0.0390 - val_loss: 0.1593\n",
      "Epoch 7/10\n",
      "68/68 [==============================] - 6s 88ms/step - loss: 0.0387 - val_loss: 0.1483\n",
      "Epoch 8/10\n",
      "68/68 [==============================] - 6s 86ms/step - loss: 0.0381 - val_loss: 0.1413\n",
      "Epoch 9/10\n",
      "68/68 [==============================] - 6s 85ms/step - loss: 0.0380 - val_loss: 0.1352\n",
      "Epoch 10/10\n",
      "68/68 [==============================] - 6s 85ms/step - loss: 0.0378 - val_loss: 0.1294\n",
      "Model for akher gur (red sugar) saved to trained_models\\akher gur (red sugar)_model.h5.\n"
     ]
    },
    {
     "name": "stderr",
     "output_type": "stream",
     "text": [
      "c:\\Program Files\\Python310\\lib\\site-packages\\keras\\src\\engine\\training.py:3079: UserWarning: You are saving your model as an HDF5 file via `model.save()`. This file format is considered legacy. We recommend using instead the native Keras format, e.g. `model.save('my_model.keras')`.\n",
      "  saving_api.save_model(\n"
     ]
    },
    {
     "name": "stdout",
     "output_type": "stream",
     "text": [
      "Epoch 1/10\n",
      "48/48 [==============================] - 10s 109ms/step - loss: 0.0816 - val_loss: 0.0447\n",
      "Epoch 2/10\n",
      "48/48 [==============================] - 4s 89ms/step - loss: 0.0241 - val_loss: 0.0388\n",
      "Epoch 3/10\n",
      "48/48 [==============================] - 4s 86ms/step - loss: 0.0190 - val_loss: 0.0353\n",
      "Epoch 4/10\n",
      "48/48 [==============================] - 4s 89ms/step - loss: 0.0178 - val_loss: 0.0313\n",
      "Epoch 5/10\n",
      "48/48 [==============================] - 4s 85ms/step - loss: 0.0170 - val_loss: 0.0307\n",
      "Epoch 6/10\n",
      "48/48 [==============================] - 4s 85ms/step - loss: 0.0164 - val_loss: 0.0285\n",
      "Epoch 7/10\n",
      "48/48 [==============================] - 4s 86ms/step - loss: 0.0162 - val_loss: 0.0271\n",
      "Epoch 8/10\n",
      "48/48 [==============================] - 4s 88ms/step - loss: 0.0156 - val_loss: 0.0276\n",
      "Epoch 9/10\n",
      "48/48 [==============================] - 4s 87ms/step - loss: 0.0156 - val_loss: 0.0292\n",
      "Epoch 10/10\n",
      "48/48 [==============================] - 4s 86ms/step - loss: 0.0154 - val_loss: 0.0274\n",
      "Model for date gur (red sugar) saved to trained_models\\date gur (red sugar)_model.h5.\n"
     ]
    },
    {
     "name": "stderr",
     "output_type": "stream",
     "text": [
      "c:\\Program Files\\Python310\\lib\\site-packages\\keras\\src\\engine\\training.py:3079: UserWarning: You are saving your model as an HDF5 file via `model.save()`. This file format is considered legacy. We recommend using instead the native Keras format, e.g. `model.save('my_model.keras')`.\n",
      "  saving_api.save_model(\n"
     ]
    },
    {
     "name": "stdout",
     "output_type": "stream",
     "text": [
      "Epoch 1/10\n",
      "72/72 [==============================] - 12s 107ms/step - loss: 0.1059 - val_loss: 0.0036\n",
      "Epoch 2/10\n",
      "72/72 [==============================] - 6s 85ms/step - loss: 0.0359 - val_loss: 0.0038\n",
      "Epoch 3/10\n",
      "72/72 [==============================] - 6s 87ms/step - loss: 0.0133 - val_loss: 0.0039\n",
      "Epoch 4/10\n",
      "72/72 [==============================] - 7s 92ms/step - loss: 0.0079 - val_loss: 9.5096e-04\n",
      "Epoch 5/10\n",
      "72/72 [==============================] - 6s 84ms/step - loss: 0.0044 - val_loss: 8.8623e-04\n",
      "Epoch 6/10\n",
      "72/72 [==============================] - 6s 85ms/step - loss: 0.0033 - val_loss: 5.6632e-04\n",
      "Epoch 7/10\n",
      "72/72 [==============================] - 6s 86ms/step - loss: 0.0028 - val_loss: 6.8673e-04\n",
      "Epoch 8/10\n",
      "72/72 [==============================] - 6s 84ms/step - loss: 0.0025 - val_loss: 6.3531e-04\n",
      "Epoch 9/10\n",
      "72/72 [==============================] - 6s 84ms/step - loss: 0.0022 - val_loss: 6.1178e-04\n",
      "Epoch 10/10\n",
      "72/72 [==============================] - 6s 83ms/step - loss: 0.0021 - val_loss: 0.0014\n",
      "Model for iodized salt (packed) saved to trained_models\\iodized salt (packed)_model.h5.\n"
     ]
    },
    {
     "name": "stderr",
     "output_type": "stream",
     "text": [
      "c:\\Program Files\\Python310\\lib\\site-packages\\keras\\src\\engine\\training.py:3079: UserWarning: You are saving your model as an HDF5 file via `model.save()`. This file format is considered legacy. We recommend using instead the native Keras format, e.g. `model.save('my_model.keras')`.\n",
      "  saving_api.save_model(\n"
     ]
    },
    {
     "name": "stdout",
     "output_type": "stream",
     "text": [
      "Epoch 1/10\n",
      "71/71 [==============================] - 12s 96ms/step - loss: 0.0672 - val_loss: 0.0217\n",
      "Epoch 2/10\n",
      "71/71 [==============================] - 6s 83ms/step - loss: 0.0069 - val_loss: 0.0207\n",
      "Epoch 3/10\n",
      "71/71 [==============================] - 6s 83ms/step - loss: 0.0029 - val_loss: 0.0199\n",
      "Epoch 4/10\n",
      "71/71 [==============================] - 6s 80ms/step - loss: 0.0021 - val_loss: 0.0192\n",
      "Epoch 5/10\n",
      "71/71 [==============================] - 6s 80ms/step - loss: 0.0016 - val_loss: 0.0187\n",
      "Epoch 6/10\n",
      "71/71 [==============================] - 6s 82ms/step - loss: 0.0014 - val_loss: 0.0183\n",
      "Epoch 7/10\n",
      "71/71 [==============================] - 6s 80ms/step - loss: 0.0013 - val_loss: 0.0172\n",
      "Epoch 8/10\n",
      "71/71 [==============================] - 6s 81ms/step - loss: 0.0011 - val_loss: 0.0169\n",
      "Epoch 9/10\n",
      "71/71 [==============================] - 6s 81ms/step - loss: 0.0011 - val_loss: 0.0161\n",
      "Epoch 10/10\n",
      "71/71 [==============================] - 6s 82ms/step - loss: 0.0010 - val_loss: 0.0155\n",
      "Model for sugar (imported) saved to trained_models\\sugar (imported)_model.h5.\n"
     ]
    },
    {
     "name": "stderr",
     "output_type": "stream",
     "text": [
      "c:\\Program Files\\Python310\\lib\\site-packages\\keras\\src\\engine\\training.py:3079: UserWarning: You are saving your model as an HDF5 file via `model.save()`. This file format is considered legacy. We recommend using instead the native Keras format, e.g. `model.save('my_model.keras')`.\n",
      "  saving_api.save_model(\n"
     ]
    },
    {
     "name": "stdout",
     "output_type": "stream",
     "text": [
      "Epoch 1/10\n",
      "22/22 [==============================] - 7s 131ms/step - loss: 0.2737 - val_loss: 0.4016\n",
      "Epoch 2/10\n",
      "22/22 [==============================] - 2s 73ms/step - loss: 0.0927 - val_loss: 0.3591\n",
      "Epoch 3/10\n",
      "22/22 [==============================] - 2s 78ms/step - loss: 0.0612 - val_loss: 0.3342\n",
      "Epoch 4/10\n",
      "22/22 [==============================] - 2s 91ms/step - loss: 0.0447 - val_loss: 0.2979\n",
      "Epoch 5/10\n",
      "22/22 [==============================] - 2s 80ms/step - loss: 0.0351 - val_loss: 0.2483\n",
      "Epoch 6/10\n",
      "22/22 [==============================] - 2s 78ms/step - loss: 0.0363 - val_loss: 0.2273\n",
      "Epoch 7/10\n",
      "22/22 [==============================] - 2s 80ms/step - loss: 0.0308 - val_loss: 0.2061\n",
      "Epoch 8/10\n",
      "22/22 [==============================] - 2s 80ms/step - loss: 0.0287 - val_loss: 0.1395\n",
      "Epoch 9/10\n",
      "22/22 [==============================] - 2s 78ms/step - loss: 0.0287 - val_loss: 0.1281\n",
      "Epoch 10/10\n",
      "22/22 [==============================] - 2s 80ms/step - loss: 0.0250 - val_loss: 0.1069\n",
      "Model for bull (3 years) saved to trained_models\\bull (3 years)_model.h5.\n"
     ]
    },
    {
     "name": "stderr",
     "output_type": "stream",
     "text": [
      "c:\\Program Files\\Python310\\lib\\site-packages\\keras\\src\\engine\\training.py:3079: UserWarning: You are saving your model as an HDF5 file via `model.save()`. This file format is considered legacy. We recommend using instead the native Keras format, e.g. `model.save('my_model.keras')`.\n",
      "  saving_api.save_model(\n"
     ]
    },
    {
     "name": "stdout",
     "output_type": "stream",
     "text": [
      "Epoch 1/10\n",
      "22/22 [==============================] - 9s 134ms/step - loss: 1.3830 - val_loss: 0.3548\n",
      "Epoch 2/10\n",
      "22/22 [==============================] - 2s 92ms/step - loss: 0.2731 - val_loss: 0.2640\n",
      "Epoch 3/10\n",
      "22/22 [==============================] - 2s 90ms/step - loss: 0.1601 - val_loss: 0.3261\n",
      "Epoch 4/10\n",
      "22/22 [==============================] - 2s 88ms/step - loss: 0.0983 - val_loss: 0.4106\n",
      "Epoch 5/10\n",
      "22/22 [==============================] - 2s 90ms/step - loss: 0.0931 - val_loss: 0.3898\n",
      "Epoch 6/10\n",
      "22/22 [==============================] - 2s 88ms/step - loss: 0.0760 - val_loss: 0.4486\n",
      "Epoch 7/10\n",
      "22/22 [==============================] - 2s 89ms/step - loss: 0.0691 - val_loss: 0.4357\n",
      "Epoch 8/10\n",
      "22/22 [==============================] - 2s 90ms/step - loss: 0.0641 - val_loss: 0.4207\n",
      "Epoch 9/10\n",
      "22/22 [==============================] - 2s 95ms/step - loss: 0.0671 - val_loss: 0.3973\n",
      "Epoch 10/10\n",
      "22/22 [==============================] - 2s 87ms/step - loss: 0.0563 - val_loss: 0.3098\n",
      "Model for bull (60 kg meat) saved to trained_models\\bull (60 kg meat)_model.h5.\n"
     ]
    },
    {
     "name": "stderr",
     "output_type": "stream",
     "text": [
      "c:\\Program Files\\Python310\\lib\\site-packages\\keras\\src\\engine\\training.py:3079: UserWarning: You are saving your model as an HDF5 file via `model.save()`. This file format is considered legacy. We recommend using instead the native Keras format, e.g. `model.save('my_model.keras')`.\n",
      "  saving_api.save_model(\n"
     ]
    },
    {
     "name": "stdout",
     "output_type": "stream",
     "text": [
      "Epoch 1/10\n",
      "4/4 [==============================] - 6s 445ms/step - loss: 0.4154 - val_loss: 0.4405\n",
      "Epoch 2/10\n",
      "4/4 [==============================] - 0s 96ms/step - loss: 0.2200 - val_loss: 0.4188\n",
      "Epoch 3/10\n",
      "4/4 [==============================] - 0s 92ms/step - loss: 0.1765 - val_loss: 0.4203\n",
      "Epoch 4/10\n",
      "4/4 [==============================] - 0s 99ms/step - loss: 0.1543 - val_loss: 0.4298\n",
      "Epoch 5/10\n",
      "4/4 [==============================] - 0s 115ms/step - loss: 0.1340 - val_loss: 0.4357\n",
      "Epoch 6/10\n",
      "4/4 [==============================] - 0s 103ms/step - loss: 0.1154 - val_loss: 0.4459\n",
      "Epoch 7/10\n",
      "4/4 [==============================] - 0s 100ms/step - loss: 0.1237 - val_loss: 0.4455\n",
      "Epoch 8/10\n",
      "4/4 [==============================] - 0s 99ms/step - loss: 0.1164 - val_loss: 0.4370\n",
      "Epoch 9/10\n",
      "4/4 [==============================] - 0s 91ms/step - loss: 0.0929 - val_loss: 0.4346\n",
      "Epoch 10/10\n",
      "4/4 [==============================] - 0s 94ms/step - loss: 0.0924 - val_loss: 0.4375\n",
      "Model for chitta gur (red sugar) saved to trained_models\\chitta gur (red sugar)_model.h5.\n"
     ]
    },
    {
     "name": "stderr",
     "output_type": "stream",
     "text": [
      "c:\\Program Files\\Python310\\lib\\site-packages\\keras\\src\\engine\\training.py:3079: UserWarning: You are saving your model as an HDF5 file via `model.save()`. This file format is considered legacy. We recommend using instead the native Keras format, e.g. `model.save('my_model.keras')`.\n",
      "  saving_api.save_model(\n"
     ]
    },
    {
     "name": "stdout",
     "output_type": "stream",
     "text": [
      "Epoch 1/10\n",
      "24/24 [==============================] - 8s 134ms/step - loss: 0.3956 - val_loss: 0.3796\n",
      "Epoch 2/10\n",
      "24/24 [==============================] - 2s 92ms/step - loss: 0.1493 - val_loss: 0.4394\n",
      "Epoch 3/10\n",
      "24/24 [==============================] - 2s 93ms/step - loss: 0.1162 - val_loss: 0.4758\n",
      "Epoch 4/10\n",
      "24/24 [==============================] - 2s 86ms/step - loss: 0.0848 - val_loss: 0.4504\n",
      "Epoch 5/10\n",
      "24/24 [==============================] - 2s 87ms/step - loss: 0.0720 - val_loss: 0.4541\n",
      "Epoch 6/10\n",
      "24/24 [==============================] - 2s 86ms/step - loss: 0.0604 - val_loss: 0.4382\n",
      "Epoch 7/10\n",
      "24/24 [==============================] - 2s 95ms/step - loss: 0.0597 - val_loss: 0.3602\n",
      "Epoch 8/10\n",
      "24/24 [==============================] - 2s 94ms/step - loss: 0.0534 - val_loss: 0.3431\n",
      "Epoch 9/10\n",
      "24/24 [==============================] - 2s 82ms/step - loss: 0.0658 - val_loss: 0.2387\n",
      "Epoch 10/10\n",
      "24/24 [==============================] - 2s 89ms/step - loss: 0.0489 - val_loss: 0.0775\n",
      "Model for cow (2 litre milk) saved to trained_models\\cow (2 litre milk)_model.h5.\n"
     ]
    },
    {
     "name": "stderr",
     "output_type": "stream",
     "text": [
      "c:\\Program Files\\Python310\\lib\\site-packages\\keras\\src\\engine\\training.py:3079: UserWarning: You are saving your model as an HDF5 file via `model.save()`. This file format is considered legacy. We recommend using instead the native Keras format, e.g. `model.save('my_model.keras')`.\n",
      "  saving_api.save_model(\n"
     ]
    },
    {
     "name": "stdout",
     "output_type": "stream",
     "text": [
      "Epoch 1/10\n",
      "55/55 [==============================] - 11s 118ms/step - loss: 0.1505 - val_loss: 0.0064\n",
      "Epoch 2/10\n",
      "55/55 [==============================] - 6s 104ms/step - loss: 0.0403 - val_loss: 0.0064\n",
      "Epoch 3/10\n",
      "55/55 [==============================] - 6s 100ms/step - loss: 0.0209 - val_loss: 0.0060\n",
      "Epoch 4/10\n",
      "55/55 [==============================] - 5s 100ms/step - loss: 0.0180 - val_loss: 0.0063\n",
      "Epoch 5/10\n",
      "55/55 [==============================] - 6s 102ms/step - loss: 0.0143 - val_loss: 0.0061\n",
      "Epoch 6/10\n",
      "55/55 [==============================] - 6s 111ms/step - loss: 0.0139 - val_loss: 0.0062\n",
      "Epoch 7/10\n",
      "55/55 [==============================] - 6s 114ms/step - loss: 0.0118 - val_loss: 0.0060\n",
      "Epoch 8/10\n",
      "55/55 [==============================] - 6s 113ms/step - loss: 0.0111 - val_loss: 0.0056\n",
      "Epoch 9/10\n",
      "55/55 [==============================] - 7s 120ms/step - loss: 0.0123 - val_loss: 0.0062\n",
      "Epoch 10/10\n",
      "55/55 [==============================] - 6s 102ms/step - loss: 0.0102 - val_loss: 0.0059\n",
      "Model for firewood - mango saved to trained_models\\firewood - mango_model.h5.\n"
     ]
    },
    {
     "name": "stderr",
     "output_type": "stream",
     "text": [
      "c:\\Program Files\\Python310\\lib\\site-packages\\keras\\src\\engine\\training.py:3079: UserWarning: You are saving your model as an HDF5 file via `model.save()`. This file format is considered legacy. We recommend using instead the native Keras format, e.g. `model.save('my_model.keras')`.\n",
      "  saving_api.save_model(\n"
     ]
    },
    {
     "name": "stdout",
     "output_type": "stream",
     "text": [
      "Epoch 1/10\n",
      "2/2 [==============================] - 8s 1s/step - loss: 0.6873 - val_loss: 0.3667\n",
      "Epoch 2/10\n",
      "2/2 [==============================] - 0s 88ms/step - loss: 1.7217 - val_loss: 0.3631\n",
      "Epoch 3/10\n",
      "2/2 [==============================] - 0s 84ms/step - loss: 0.8218 - val_loss: 0.3673\n",
      "Epoch 4/10\n",
      "2/2 [==============================] - 0s 96ms/step - loss: 0.7049 - val_loss: 0.3682\n",
      "Epoch 5/10\n",
      "2/2 [==============================] - 0s 92ms/step - loss: 0.5401 - val_loss: 0.3620\n",
      "Epoch 6/10\n",
      "2/2 [==============================] - 0s 95ms/step - loss: 0.6465 - val_loss: 0.3534\n",
      "Epoch 7/10\n",
      "2/2 [==============================] - 0s 114ms/step - loss: 0.6367 - val_loss: 0.3431\n",
      "Epoch 8/10\n",
      "2/2 [==============================] - 0s 102ms/step - loss: 0.4175 - val_loss: 0.3350\n",
      "Epoch 9/10\n",
      "2/2 [==============================] - 0s 103ms/step - loss: 0.3824 - val_loss: 0.3316\n",
      "Epoch 10/10\n",
      "2/2 [==============================] - 0s 119ms/step - loss: 0.3729 - val_loss: 0.3296\n",
      "Model for firewood - shal_gozari saved to trained_models\\firewood - shal_gozari_model.h5.\n"
     ]
    },
    {
     "name": "stderr",
     "output_type": "stream",
     "text": [
      "c:\\Program Files\\Python310\\lib\\site-packages\\keras\\src\\engine\\training.py:3079: UserWarning: You are saving your model as an HDF5 file via `model.save()`. This file format is considered legacy. We recommend using instead the native Keras format, e.g. `model.save('my_model.keras')`.\n",
      "  saving_api.save_model(\n"
     ]
    },
    {
     "name": "stdout",
     "output_type": "stream",
     "text": [
      "Epoch 1/10\n",
      "12/12 [==============================] - 7s 196ms/step - loss: 0.3746 - val_loss: 0.0064\n",
      "Epoch 2/10\n",
      "12/12 [==============================] - 1s 87ms/step - loss: 0.1971 - val_loss: 0.0065\n",
      "Epoch 3/10\n",
      "12/12 [==============================] - 1s 90ms/step - loss: 0.1130 - val_loss: 0.0070\n",
      "Epoch 4/10\n",
      "12/12 [==============================] - 1s 88ms/step - loss: 0.0863 - val_loss: 0.0069\n",
      "Epoch 5/10\n",
      "12/12 [==============================] - 1s 109ms/step - loss: 0.0824 - val_loss: 0.0075\n",
      "Epoch 6/10\n",
      "12/12 [==============================] - 1s 92ms/step - loss: 0.0610 - val_loss: 0.0071\n",
      "Epoch 7/10\n",
      "12/12 [==============================] - 1s 94ms/step - loss: 0.0562 - val_loss: 0.0066\n",
      "Epoch 8/10\n",
      "12/12 [==============================] - 1s 101ms/step - loss: 0.0577 - val_loss: 0.0064\n",
      "Epoch 9/10\n",
      "12/12 [==============================] - 1s 93ms/step - loss: 0.0516 - val_loss: 0.0066\n",
      "Epoch 10/10\n",
      "12/12 [==============================] - 1s 91ms/step - loss: 0.0493 - val_loss: 0.0063\n",
      "Model for firewood - tamarind_wood apple saved to trained_models\\firewood - tamarind_wood apple_model.h5.\n"
     ]
    },
    {
     "name": "stderr",
     "output_type": "stream",
     "text": [
      "c:\\Program Files\\Python310\\lib\\site-packages\\keras\\src\\engine\\training.py:3079: UserWarning: You are saving your model as an HDF5 file via `model.save()`. This file format is considered legacy. We recommend using instead the native Keras format, e.g. `model.save('my_model.keras')`.\n",
      "  saving_api.save_model(\n"
     ]
    },
    {
     "name": "stdout",
     "output_type": "stream",
     "text": [
      "Epoch 1/10\n",
      "21/21 [==============================] - 8s 151ms/step - loss: 0.4200 - val_loss: 0.0110\n",
      "Epoch 2/10\n",
      "21/21 [==============================] - 2s 92ms/step - loss: 0.1515 - val_loss: 0.0112\n",
      "Epoch 3/10\n",
      "21/21 [==============================] - 2s 99ms/step - loss: 0.0733 - val_loss: 0.0102\n",
      "Epoch 4/10\n",
      "21/21 [==============================] - 2s 92ms/step - loss: 0.0580 - val_loss: 0.0092\n",
      "Epoch 5/10\n",
      "21/21 [==============================] - 2s 89ms/step - loss: 0.0429 - val_loss: 0.0086\n",
      "Epoch 6/10\n",
      "21/21 [==============================] - 2s 93ms/step - loss: 0.0331 - val_loss: 0.0076\n",
      "Epoch 7/10\n",
      "21/21 [==============================] - 2s 91ms/step - loss: 0.0307 - val_loss: 0.0076\n",
      "Epoch 8/10\n",
      "21/21 [==============================] - 2s 90ms/step - loss: 0.0271 - val_loss: 0.0058\n",
      "Epoch 9/10\n",
      "21/21 [==============================] - 2s 95ms/step - loss: 0.0200 - val_loss: 0.0044\n",
      "Epoch 10/10\n",
      "21/21 [==============================] - 2s 98ms/step - loss: 0.0179 - val_loss: 0.0035\n",
      "Model for goat (female - 6 kg meat) saved to trained_models\\goat (female - 6 kg meat)_model.h5.\n"
     ]
    },
    {
     "name": "stderr",
     "output_type": "stream",
     "text": [
      "c:\\Program Files\\Python310\\lib\\site-packages\\keras\\src\\engine\\training.py:3079: UserWarning: You are saving your model as an HDF5 file via `model.save()`. This file format is considered legacy. We recommend using instead the native Keras format, e.g. `model.save('my_model.keras')`.\n",
      "  saving_api.save_model(\n"
     ]
    },
    {
     "name": "stdout",
     "output_type": "stream",
     "text": [
      "Epoch 1/10\n",
      "21/21 [==============================] - 8s 148ms/step - loss: 0.3325 - val_loss: 0.0605\n",
      "Epoch 2/10\n",
      "21/21 [==============================] - 2s 89ms/step - loss: 0.1189 - val_loss: 0.0606\n",
      "Epoch 3/10\n",
      "21/21 [==============================] - 2s 98ms/step - loss: 0.0639 - val_loss: 0.0589\n",
      "Epoch 4/10\n",
      "21/21 [==============================] - 2s 89ms/step - loss: 0.0478 - val_loss: 0.0580\n",
      "Epoch 5/10\n",
      "21/21 [==============================] - 2s 96ms/step - loss: 0.0361 - val_loss: 0.0570\n",
      "Epoch 6/10\n",
      "21/21 [==============================] - 2s 90ms/step - loss: 0.0285 - val_loss: 0.0550\n",
      "Epoch 7/10\n",
      "21/21 [==============================] - 2s 94ms/step - loss: 0.0217 - val_loss: 0.0536\n",
      "Epoch 8/10\n",
      "21/21 [==============================] - 2s 92ms/step - loss: 0.0188 - val_loss: 0.0525\n",
      "Epoch 9/10\n",
      "21/21 [==============================] - 2s 94ms/step - loss: 0.0145 - val_loss: 0.0514\n",
      "Epoch 10/10\n",
      "21/21 [==============================] - 2s 91ms/step - loss: 0.0138 - val_loss: 0.0505\n",
      "Model for goat (male - 6 kg meat) saved to trained_models\\goat (male - 6 kg meat)_model.h5.\n"
     ]
    },
    {
     "name": "stderr",
     "output_type": "stream",
     "text": [
      "c:\\Program Files\\Python310\\lib\\site-packages\\keras\\src\\engine\\training.py:3079: UserWarning: You are saving your model as an HDF5 file via `model.save()`. This file format is considered legacy. We recommend using instead the native Keras format, e.g. `model.save('my_model.keras')`.\n",
      "  saving_api.save_model(\n"
     ]
    },
    {
     "name": "stdout",
     "output_type": "stream",
     "text": [
      "Epoch 1/10\n",
      "35/35 [==============================] - 9s 120ms/step - loss: 0.4146 - val_loss: 0.3181\n",
      "Epoch 2/10\n",
      "35/35 [==============================] - 3s 94ms/step - loss: 0.1456 - val_loss: 0.3519\n",
      "Epoch 3/10\n",
      "35/35 [==============================] - 3s 87ms/step - loss: 0.1160 - val_loss: 0.3284\n",
      "Epoch 4/10\n",
      "35/35 [==============================] - 3s 88ms/step - loss: 0.0956 - val_loss: 0.2974\n",
      "Epoch 5/10\n",
      "35/35 [==============================] - 3s 85ms/step - loss: 0.0859 - val_loss: 0.2756\n",
      "Epoch 6/10\n",
      "35/35 [==============================] - 3s 89ms/step - loss: 0.0828 - val_loss: 0.2428\n",
      "Epoch 7/10\n",
      "35/35 [==============================] - 3s 90ms/step - loss: 0.0804 - val_loss: 0.2319\n",
      "Epoch 8/10\n",
      "35/35 [==============================] - 3s 98ms/step - loss: 0.0798 - val_loss: 0.2134\n",
      "Epoch 9/10\n",
      "35/35 [==============================] - 3s 90ms/step - loss: 0.0796 - val_loss: 0.2093\n",
      "Epoch 10/10\n",
      "35/35 [==============================] - 3s 90ms/step - loss: 0.0751 - val_loss: 0.1858\n",
      "Model for gold (gini) saved to trained_models\\gold (gini)_model.h5.\n"
     ]
    },
    {
     "name": "stderr",
     "output_type": "stream",
     "text": [
      "c:\\Program Files\\Python310\\lib\\site-packages\\keras\\src\\engine\\training.py:3079: UserWarning: You are saving your model as an HDF5 file via `model.save()`. This file format is considered legacy. We recommend using instead the native Keras format, e.g. `model.save('my_model.keras')`.\n",
      "  saving_api.save_model(\n"
     ]
    },
    {
     "name": "stdout",
     "output_type": "stream",
     "text": [
      "Epoch 1/10\n",
      "6/6 [==============================] - 9s 303ms/step - loss: 3.4601 - val_loss: 0.4436\n",
      "Epoch 2/10\n",
      "6/6 [==============================] - 1s 90ms/step - loss: 0.9638 - val_loss: 0.3287\n",
      "Epoch 3/10\n",
      "6/6 [==============================] - 1s 100ms/step - loss: 0.5889 - val_loss: 0.2925\n",
      "Epoch 4/10\n",
      "6/6 [==============================] - 1s 108ms/step - loss: 0.5763 - val_loss: 0.3149\n",
      "Epoch 5/10\n",
      "6/6 [==============================] - 1s 104ms/step - loss: 0.3174 - val_loss: 0.3606\n",
      "Epoch 6/10\n",
      "6/6 [==============================] - 1s 100ms/step - loss: 0.3453 - val_loss: 0.3805\n",
      "Epoch 7/10\n",
      "6/6 [==============================] - 1s 96ms/step - loss: 0.3586 - val_loss: 0.3687\n",
      "Epoch 8/10\n",
      "6/6 [==============================] - 1s 91ms/step - loss: 0.3359 - val_loss: 0.3090\n",
      "Epoch 9/10\n",
      "6/6 [==============================] - 1s 94ms/step - loss: 0.2837 - val_loss: 0.3031\n",
      "Epoch 10/10\n",
      "6/6 [==============================] - 1s 101ms/step - loss: 0.1977 - val_loss: 0.3393\n",
      "Model for gold-tejab saved to trained_models\\gold-tejab_model.h5.\n"
     ]
    },
    {
     "name": "stderr",
     "output_type": "stream",
     "text": [
      "c:\\Program Files\\Python310\\lib\\site-packages\\keras\\src\\engine\\training.py:3079: UserWarning: You are saving your model as an HDF5 file via `model.save()`. This file format is considered legacy. We recommend using instead the native Keras format, e.g. `model.save('my_model.keras')`.\n",
      "  saving_api.save_model(\n"
     ]
    },
    {
     "name": "stdout",
     "output_type": "stream",
     "text": [
      "Epoch 1/10\n",
      "52/52 [==============================] - 12s 131ms/step - loss: 0.1657 - val_loss: 0.0071\n",
      "Epoch 2/10\n",
      "52/52 [==============================] - 6s 113ms/step - loss: 0.0345 - val_loss: 0.0074\n",
      "Epoch 3/10\n",
      "52/52 [==============================] - 6s 110ms/step - loss: 0.0178 - val_loss: 0.0066\n",
      "Epoch 4/10\n",
      "52/52 [==============================] - 6s 110ms/step - loss: 0.0116 - val_loss: 0.0065\n",
      "Epoch 5/10\n",
      "52/52 [==============================] - 6s 110ms/step - loss: 0.0103 - val_loss: 0.0063\n",
      "Epoch 6/10\n",
      "52/52 [==============================] - 6s 106ms/step - loss: 0.0090 - val_loss: 0.0066\n",
      "Epoch 7/10\n",
      "52/52 [==============================] - 5s 105ms/step - loss: 0.0089 - val_loss: 0.0062\n",
      "Epoch 8/10\n",
      "52/52 [==============================] - 5s 102ms/step - loss: 0.0082 - val_loss: 0.0056\n",
      "Epoch 9/10\n",
      "52/52 [==============================] - 5s 95ms/step - loss: 0.0080 - val_loss: 0.0056\n",
      "Epoch 10/10\n",
      "52/52 [==============================] - 5s 96ms/step - loss: 0.0074 - val_loss: 0.0053\n",
      "Model for gram-husk saved to trained_models\\gram-husk_model.h5.\n"
     ]
    },
    {
     "name": "stderr",
     "output_type": "stream",
     "text": [
      "c:\\Program Files\\Python310\\lib\\site-packages\\keras\\src\\engine\\training.py:3079: UserWarning: You are saving your model as an HDF5 file via `model.save()`. This file format is considered legacy. We recommend using instead the native Keras format, e.g. `model.save('my_model.keras')`.\n",
      "  saving_api.save_model(\n"
     ]
    },
    {
     "name": "stdout",
     "output_type": "stream",
     "text": [
      "Epoch 1/10\n",
      "66/66 [==============================] - 12s 116ms/step - loss: 0.0842 - val_loss: 0.0018\n",
      "Epoch 2/10\n",
      "66/66 [==============================] - 7s 99ms/step - loss: 0.0135 - val_loss: 0.0015\n",
      "Epoch 3/10\n",
      "66/66 [==============================] - 7s 100ms/step - loss: 0.0088 - val_loss: 0.0011\n",
      "Epoch 4/10\n",
      "66/66 [==============================] - 7s 100ms/step - loss: 0.0047 - val_loss: 0.0012\n",
      "Epoch 5/10\n",
      "66/66 [==============================] - 7s 105ms/step - loss: 0.0034 - val_loss: 9.0812e-04\n",
      "Epoch 6/10\n",
      "66/66 [==============================] - 7s 99ms/step - loss: 0.0026 - val_loss: 0.0011\n",
      "Epoch 7/10\n",
      "66/66 [==============================] - 7s 99ms/step - loss: 0.0017 - val_loss: 0.0012\n",
      "Epoch 8/10\n",
      "66/66 [==============================] - 7s 101ms/step - loss: 0.0014 - val_loss: 9.0907e-04\n",
      "Epoch 9/10\n",
      "66/66 [==============================] - 7s 99ms/step - loss: 0.0013 - val_loss: 0.0029\n",
      "Epoch 10/10\n",
      "66/66 [==============================] - 7s 100ms/step - loss: 0.0016 - val_loss: 0.0030\n",
      "Model for iodized salt (loose) - ordinary saved to trained_models\\iodized salt (loose) - ordinary_model.h5.\n"
     ]
    },
    {
     "name": "stderr",
     "output_type": "stream",
     "text": [
      "c:\\Program Files\\Python310\\lib\\site-packages\\keras\\src\\engine\\training.py:3079: UserWarning: You are saving your model as an HDF5 file via `model.save()`. This file format is considered legacy. We recommend using instead the native Keras format, e.g. `model.save('my_model.keras')`.\n",
      "  saving_api.save_model(\n"
     ]
    },
    {
     "name": "stdout",
     "output_type": "stream",
     "text": [
      "Epoch 1/10\n",
      "44/44 [==============================] - 10s 121ms/step - loss: 0.1803 - val_loss: 0.0595\n",
      "Epoch 2/10\n",
      "44/44 [==============================] - 4s 97ms/step - loss: 0.0354 - val_loss: 0.0572\n",
      "Epoch 3/10\n",
      "44/44 [==============================] - 4s 89ms/step - loss: 0.0253 - val_loss: 0.0502\n",
      "Epoch 4/10\n",
      "44/44 [==============================] - 4s 90ms/step - loss: 0.0204 - val_loss: 0.0436\n",
      "Epoch 5/10\n",
      "44/44 [==============================] - 4s 90ms/step - loss: 0.0184 - val_loss: 0.0420\n",
      "Epoch 6/10\n",
      "44/44 [==============================] - 4s 100ms/step - loss: 0.0175 - val_loss: 0.0383\n",
      "Epoch 7/10\n",
      "44/44 [==============================] - 4s 90ms/step - loss: 0.0175 - val_loss: 0.0378\n",
      "Epoch 8/10\n",
      "44/44 [==============================] - 4s 90ms/step - loss: 0.0166 - val_loss: 0.0356\n",
      "Epoch 9/10\n",
      "44/44 [==============================] - 4s 92ms/step - loss: 0.0160 - val_loss: 0.0368\n",
      "Epoch 10/10\n",
      "44/44 [==============================] - 4s 89ms/step - loss: 0.0158 - val_loss: 0.0322\n",
      "Model for kharh (paddy straw) saved to trained_models\\kharh (paddy straw)_model.h5.\n"
     ]
    },
    {
     "name": "stderr",
     "output_type": "stream",
     "text": [
      "c:\\Program Files\\Python310\\lib\\site-packages\\keras\\src\\engine\\training.py:3079: UserWarning: You are saving your model as an HDF5 file via `model.save()`. This file format is considered legacy. We recommend using instead the native Keras format, e.g. `model.save('my_model.keras')`.\n",
      "  saving_api.save_model(\n"
     ]
    },
    {
     "name": "stdout",
     "output_type": "stream",
     "text": [
      "Epoch 1/10\n",
      "43/43 [==============================] - 9s 113ms/step - loss: 0.3024 - val_loss: 0.0934\n",
      "Epoch 2/10\n",
      "43/43 [==============================] - 4s 88ms/step - loss: 0.0824 - val_loss: 0.0812\n",
      "Epoch 3/10\n",
      "43/43 [==============================] - 4s 82ms/step - loss: 0.0510 - val_loss: 0.0674\n",
      "Epoch 4/10\n",
      "43/43 [==============================] - 4s 85ms/step - loss: 0.0454 - val_loss: 0.0629\n",
      "Epoch 5/10\n",
      "43/43 [==============================] - 3s 81ms/step - loss: 0.0404 - val_loss: 0.0614\n",
      "Epoch 6/10\n",
      "43/43 [==============================] - 3s 82ms/step - loss: 0.0382 - val_loss: 0.0562\n",
      "Epoch 7/10\n",
      "43/43 [==============================] - 3s 80ms/step - loss: 0.0371 - val_loss: 0.0584\n",
      "Epoch 8/10\n",
      "43/43 [==============================] - 3s 82ms/step - loss: 0.0376 - val_loss: 0.0546\n",
      "Epoch 9/10\n",
      "43/43 [==============================] - 3s 80ms/step - loss: 0.0340 - val_loss: 0.0508\n",
      "Epoch 10/10\n",
      "43/43 [==============================] - 3s 81ms/step - loss: 0.0351 - val_loss: 0.0511\n",
      "Model for khesari-husk saved to trained_models\\khesari-husk_model.h5.\n"
     ]
    },
    {
     "name": "stderr",
     "output_type": "stream",
     "text": [
      "c:\\Program Files\\Python310\\lib\\site-packages\\keras\\src\\engine\\training.py:3079: UserWarning: You are saving your model as an HDF5 file via `model.save()`. This file format is considered legacy. We recommend using instead the native Keras format, e.g. `model.save('my_model.keras')`.\n",
      "  saving_api.save_model(\n"
     ]
    },
    {
     "name": "stdout",
     "output_type": "stream",
     "text": [
      "Epoch 1/10\n",
      "44/44 [==============================] - 9s 104ms/step - loss: 0.3260 - val_loss: 0.1787\n",
      "Epoch 2/10\n",
      "44/44 [==============================] - 4s 82ms/step - loss: 0.1254 - val_loss: 0.1718\n",
      "Epoch 3/10\n",
      "44/44 [==============================] - 3s 77ms/step - loss: 0.1040 - val_loss: 0.1611\n",
      "Epoch 4/10\n",
      "44/44 [==============================] - 3s 78ms/step - loss: 0.0992 - val_loss: 0.1456\n",
      "Epoch 5/10\n",
      "44/44 [==============================] - 3s 79ms/step - loss: 0.0955 - val_loss: 0.1316\n",
      "Epoch 6/10\n",
      "44/44 [==============================] - 3s 79ms/step - loss: 0.0930 - val_loss: 0.1241\n",
      "Epoch 7/10\n",
      "44/44 [==============================] - 4s 81ms/step - loss: 0.0919 - val_loss: 0.1212\n",
      "Epoch 8/10\n",
      "44/44 [==============================] - 3s 77ms/step - loss: 0.0912 - val_loss: 0.1156\n",
      "Epoch 9/10\n",
      "44/44 [==============================] - 3s 80ms/step - loss: 0.0899 - val_loss: 0.1118\n",
      "Epoch 10/10\n",
      "44/44 [==============================] - 4s 81ms/step - loss: 0.0899 - val_loss: 0.1122\n",
      "Model for masur-husk saved to trained_models\\masur-husk_model.h5.\n"
     ]
    },
    {
     "name": "stderr",
     "output_type": "stream",
     "text": [
      "c:\\Program Files\\Python310\\lib\\site-packages\\keras\\src\\engine\\training.py:3079: UserWarning: You are saving your model as an HDF5 file via `model.save()`. This file format is considered legacy. We recommend using instead the native Keras format, e.g. `model.save('my_model.keras')`.\n",
      "  saving_api.save_model(\n"
     ]
    },
    {
     "name": "stdout",
     "output_type": "stream",
     "text": [
      "Epoch 1/10\n",
      "51/51 [==============================] - 10s 100ms/step - loss: 0.1510 - val_loss: 0.0270\n",
      "Epoch 2/10\n",
      "51/51 [==============================] - 4s 83ms/step - loss: 0.0279 - val_loss: 0.0225\n",
      "Epoch 3/10\n",
      "51/51 [==============================] - 4s 78ms/step - loss: 0.0155 - val_loss: 0.0201\n",
      "Epoch 4/10\n",
      "51/51 [==============================] - 4s 80ms/step - loss: 0.0130 - val_loss: 0.0193\n",
      "Epoch 5/10\n",
      "51/51 [==============================] - 4s 76ms/step - loss: 0.0106 - val_loss: 0.0176\n",
      "Epoch 6/10\n",
      "51/51 [==============================] - 4s 77ms/step - loss: 0.0101 - val_loss: 0.0169\n",
      "Epoch 7/10\n",
      "51/51 [==============================] - 4s 79ms/step - loss: 0.0097 - val_loss: 0.0162\n",
      "Epoch 8/10\n",
      "51/51 [==============================] - 4s 75ms/step - loss: 0.0090 - val_loss: 0.0167\n",
      "Epoch 9/10\n",
      "51/51 [==============================] - 4s 76ms/step - loss: 0.0089 - val_loss: 0.0164\n",
      "Epoch 10/10\n",
      "51/51 [==============================] - 4s 77ms/step - loss: 0.0089 - val_loss: 0.0173\n",
      "Model for paddy-husk saved to trained_models\\paddy-husk_model.h5.\n"
     ]
    },
    {
     "name": "stderr",
     "output_type": "stream",
     "text": [
      "c:\\Program Files\\Python310\\lib\\site-packages\\keras\\src\\engine\\training.py:3079: UserWarning: You are saving your model as an HDF5 file via `model.save()`. This file format is considered legacy. We recommend using instead the native Keras format, e.g. `model.save('my_model.keras')`.\n",
      "  saving_api.save_model(\n"
     ]
    },
    {
     "name": "stdout",
     "output_type": "stream",
     "text": [
      "Epoch 1/10\n",
      "22/22 [==============================] - 8s 131ms/step - loss: 0.4568 - val_loss: 0.3798\n",
      "Epoch 2/10\n",
      "22/22 [==============================] - 2s 75ms/step - loss: 0.2193 - val_loss: 0.3968\n",
      "Epoch 3/10\n",
      "22/22 [==============================] - 2s 88ms/step - loss: 0.1954 - val_loss: 0.3680\n",
      "Epoch 4/10\n",
      "22/22 [==============================] - 2s 81ms/step - loss: 0.1808 - val_loss: 0.3421\n",
      "Epoch 5/10\n",
      "22/22 [==============================] - 2s 85ms/step - loss: 0.1675 - val_loss: 0.2960\n",
      "Epoch 6/10\n",
      "22/22 [==============================] - 2s 80ms/step - loss: 0.1645 - val_loss: 0.2964\n",
      "Epoch 7/10\n",
      "22/22 [==============================] - 2s 79ms/step - loss: 0.1617 - val_loss: 0.2887\n",
      "Epoch 8/10\n",
      "22/22 [==============================] - 2s 81ms/step - loss: 0.1589 - val_loss: 0.2754\n",
      "Epoch 9/10\n",
      "22/22 [==============================] - 2s 79ms/step - loss: 0.1573 - val_loss: 0.2643\n",
      "Epoch 10/10\n",
      "22/22 [==============================] - 2s 75ms/step - loss: 0.1554 - val_loss: 0.2603\n",
      "Model for ram (6 kg meat)_sheep saved to trained_models\\ram (6 kg meat)_sheep_model.h5.\n"
     ]
    },
    {
     "name": "stderr",
     "output_type": "stream",
     "text": [
      "c:\\Program Files\\Python310\\lib\\site-packages\\keras\\src\\engine\\training.py:3079: UserWarning: You are saving your model as an HDF5 file via `model.save()`. This file format is considered legacy. We recommend using instead the native Keras format, e.g. `model.save('my_model.keras')`.\n",
      "  saving_api.save_model(\n"
     ]
    },
    {
     "name": "stdout",
     "output_type": "stream",
     "text": [
      "Epoch 1/10\n",
      "29/29 [==============================] - 8s 120ms/step - loss: 0.1853 - val_loss: 0.0338\n",
      "Epoch 2/10\n",
      "29/29 [==============================] - 2s 86ms/step - loss: 0.0464 - val_loss: 0.0324\n",
      "Epoch 3/10\n",
      "29/29 [==============================] - 3s 90ms/step - loss: 0.0275 - val_loss: 0.0310\n",
      "Epoch 4/10\n",
      "29/29 [==============================] - 2s 85ms/step - loss: 0.0223 - val_loss: 0.0293\n",
      "Epoch 5/10\n",
      "29/29 [==============================] - 2s 77ms/step - loss: 0.0194 - val_loss: 0.0250\n",
      "Epoch 6/10\n",
      "29/29 [==============================] - 2s 83ms/step - loss: 0.0163 - val_loss: 0.0244\n",
      "Epoch 7/10\n",
      "29/29 [==============================] - 2s 82ms/step - loss: 0.0173 - val_loss: 0.0188\n",
      "Epoch 8/10\n",
      "29/29 [==============================] - 2s 77ms/step - loss: 0.0155 - val_loss: 0.0189\n",
      "Epoch 9/10\n",
      "29/29 [==============================] - 2s 78ms/step - loss: 0.0142 - val_loss: 0.0165\n",
      "Epoch 10/10\n",
      "29/29 [==============================] - 2s 78ms/step - loss: 0.0138 - val_loss: 0.0165\n",
      "Model for silver saved to trained_models\\silver_model.h5.\n"
     ]
    },
    {
     "name": "stderr",
     "output_type": "stream",
     "text": [
      "c:\\Program Files\\Python310\\lib\\site-packages\\keras\\src\\engine\\training.py:3079: UserWarning: You are saving your model as an HDF5 file via `model.save()`. This file format is considered legacy. We recommend using instead the native Keras format, e.g. `model.save('my_model.keras')`.\n",
      "  saving_api.save_model(\n"
     ]
    },
    {
     "name": "stdout",
     "output_type": "stream",
     "text": [
      "Epoch 1/10\n",
      "68/68 [==============================] - 11s 93ms/step - loss: 0.0678 - val_loss: 0.0012\n",
      "Epoch 2/10\n",
      "68/68 [==============================] - 6s 81ms/step - loss: 0.0206 - val_loss: 8.7278e-04\n",
      "Epoch 3/10\n",
      "68/68 [==============================] - 5s 81ms/step - loss: 0.0067 - val_loss: 9.2299e-04\n",
      "Epoch 4/10\n",
      "68/68 [==============================] - 5s 78ms/step - loss: 0.0041 - val_loss: 0.0010\n",
      "Epoch 5/10\n",
      "68/68 [==============================] - 5s 77ms/step - loss: 0.0023 - val_loss: 6.2620e-04\n",
      "Epoch 6/10\n",
      "68/68 [==============================] - 5s 76ms/step - loss: 0.0014 - val_loss: 8.4784e-04\n",
      "Epoch 7/10\n",
      "68/68 [==============================] - 5s 79ms/step - loss: 0.0011 - val_loss: 0.0011\n",
      "Epoch 8/10\n",
      "68/68 [==============================] - 5s 76ms/step - loss: 0.0013 - val_loss: 9.7608e-04\n",
      "Epoch 9/10\n",
      "68/68 [==============================] - 5s 78ms/step - loss: 8.8684e-04 - val_loss: 6.8331e-04\n",
      "Epoch 10/10\n",
      "68/68 [==============================] - 5s 77ms/step - loss: 8.3999e-04 - val_loss: 9.4132e-04\n",
      "Model for sugar (local) saved to trained_models\\sugar (local)_model.h5.\n"
     ]
    },
    {
     "name": "stderr",
     "output_type": "stream",
     "text": [
      "c:\\Program Files\\Python310\\lib\\site-packages\\keras\\src\\engine\\training.py:3079: UserWarning: You are saving your model as an HDF5 file via `model.save()`. This file format is considered legacy. We recommend using instead the native Keras format, e.g. `model.save('my_model.keras')`.\n",
      "  saving_api.save_model(\n"
     ]
    },
    {
     "name": "stdout",
     "output_type": "stream",
     "text": [
      "Epoch 1/10\n",
      "14/14 [==============================] - 7s 162ms/step - loss: 0.3524 - val_loss: 0.2184\n",
      "Epoch 2/10\n",
      "14/14 [==============================] - 1s 78ms/step - loss: 0.1789 - val_loss: 0.2137\n",
      "Epoch 3/10\n",
      "14/14 [==============================] - 1s 78ms/step - loss: 0.1217 - val_loss: 0.2049\n",
      "Epoch 4/10\n",
      "14/14 [==============================] - 1s 83ms/step - loss: 0.1139 - val_loss: 0.1883\n",
      "Epoch 5/10\n",
      "14/14 [==============================] - 1s 91ms/step - loss: 0.1027 - val_loss: 0.1745\n",
      "Epoch 6/10\n",
      "14/14 [==============================] - 1s 79ms/step - loss: 0.0993 - val_loss: 0.1654\n",
      "Epoch 7/10\n",
      "14/14 [==============================] - 1s 87ms/step - loss: 0.0928 - val_loss: 0.1524\n",
      "Epoch 8/10\n",
      "14/14 [==============================] - 1s 80ms/step - loss: 0.0919 - val_loss: 0.1425\n",
      "Epoch 9/10\n",
      "14/14 [==============================] - 1s 77ms/step - loss: 0.0853 - val_loss: 0.1329\n",
      "Epoch 10/10\n",
      "14/14 [==============================] - 1s 80ms/step - loss: 0.0855 - val_loss: 0.1261\n",
      "Model for sugar (o.m.s._t.c.b.) saved to trained_models\\sugar (o.m.s._t.c.b.)_model.h5.\n"
     ]
    },
    {
     "name": "stderr",
     "output_type": "stream",
     "text": [
      "c:\\Program Files\\Python310\\lib\\site-packages\\keras\\src\\engine\\training.py:3079: UserWarning: You are saving your model as an HDF5 file via `model.save()`. This file format is considered legacy. We recommend using instead the native Keras format, e.g. `model.save('my_model.keras')`.\n",
      "  saving_api.save_model(\n"
     ]
    },
    {
     "name": "stdout",
     "output_type": "stream",
     "text": [
      "Epoch 1/10\n",
      "59/59 [==============================] - 13s 145ms/step - loss: 0.1803 - val_loss: 0.2407\n",
      "Epoch 2/10\n",
      "59/59 [==============================] - 6s 97ms/step - loss: 0.0511 - val_loss: 0.2055\n",
      "Epoch 3/10\n",
      "59/59 [==============================] - 6s 99ms/step - loss: 0.0443 - val_loss: 0.1772\n",
      "Epoch 4/10\n",
      "59/59 [==============================] - 6s 98ms/step - loss: 0.0391 - val_loss: 0.1819\n",
      "Epoch 5/10\n",
      "59/59 [==============================] - 6s 101ms/step - loss: 0.0375 - val_loss: 0.1621\n",
      "Epoch 6/10\n",
      "59/59 [==============================] - 6s 99ms/step - loss: 0.0360 - val_loss: 0.1568\n",
      "Epoch 7/10\n",
      "59/59 [==============================] - 6s 97ms/step - loss: 0.0354 - val_loss: 0.1379\n",
      "Epoch 8/10\n",
      "59/59 [==============================] - 6s 99ms/step - loss: 0.0354 - val_loss: 0.1392\n",
      "Epoch 9/10\n",
      "59/59 [==============================] - 6s 98ms/step - loss: 0.0346 - val_loss: 0.1069\n",
      "Epoch 10/10\n",
      "59/59 [==============================] - 6s 99ms/step - loss: 0.0348 - val_loss: 0.0991\n",
      "Model for wheat-husk saved to trained_models\\wheat-husk_model.h5.\n",
      "could not make\n"
     ]
    },
    {
     "name": "stderr",
     "output_type": "stream",
     "text": [
      "c:\\Program Files\\Python310\\lib\\site-packages\\keras\\src\\engine\\training.py:3079: UserWarning: You are saving your model as an HDF5 file via `model.save()`. This file format is considered legacy. We recommend using instead the native Keras format, e.g. `model.save('my_model.keras')`.\n",
      "  saving_api.save_model(\n",
      "d:\\Projects\\market price\\training_model\\model.py:18: FutureWarning: DataFrame.interpolate with object dtype is deprecated and will raise in a future version. Call obj.infer_objects(copy=False) before interpolating instead.\n",
      "  pivot_df = pivot_df.interpolate(method='linear', axis=0).fillna(method='bfill').fillna(method='ffill')\n",
      "d:\\Projects\\market price\\training_model\\model.py:18: FutureWarning: DataFrame.fillna with 'method' is deprecated and will raise in a future version. Use obj.ffill() or obj.bfill() instead.\n",
      "  pivot_df = pivot_df.interpolate(method='linear', axis=0).fillna(method='bfill').fillna(method='ffill')\n"
     ]
    },
    {
     "name": "stdout",
     "output_type": "stream",
     "text": [
      "Epoch 1/10\n",
      "72/72 [==============================] - 13s 114ms/step - loss: 0.1552 - val_loss: 0.1275\n",
      "Epoch 2/10\n",
      "72/72 [==============================] - 7s 100ms/step - loss: 0.0485 - val_loss: 0.1085\n",
      "Epoch 3/10\n",
      "72/72 [==============================] - 7s 100ms/step - loss: 0.0405 - val_loss: 0.0981\n",
      "Epoch 4/10\n",
      "72/72 [==============================] - 7s 97ms/step - loss: 0.0385 - val_loss: 0.0872\n",
      "Epoch 5/10\n",
      "72/72 [==============================] - 7s 98ms/step - loss: 0.0380 - val_loss: 0.0768\n",
      "Epoch 6/10\n",
      "72/72 [==============================] - 7s 100ms/step - loss: 0.0373 - val_loss: 0.0754\n",
      "Epoch 7/10\n",
      "72/72 [==============================] - 7s 98ms/step - loss: 0.0369 - val_loss: 0.0706\n",
      "Epoch 8/10\n",
      "72/72 [==============================] - 7s 97ms/step - loss: 0.0365 - val_loss: 0.0701\n",
      "Epoch 9/10\n",
      "72/72 [==============================] - 7s 97ms/step - loss: 0.0364 - val_loss: 0.0650\n",
      "Epoch 10/10\n",
      "72/72 [==============================] - 7s 99ms/step - loss: 0.0363 - val_loss: 0.0658\n",
      "Model for farm-raised hen saved to trained_models\\farm-raised hen_model.h5.\n"
     ]
    },
    {
     "name": "stderr",
     "output_type": "stream",
     "text": [
      "c:\\Program Files\\Python310\\lib\\site-packages\\keras\\src\\engine\\training.py:3079: UserWarning: You are saving your model as an HDF5 file via `model.save()`. This file format is considered legacy. We recommend using instead the native Keras format, e.g. `model.save('my_model.keras')`.\n",
      "  saving_api.save_model(\n"
     ]
    },
    {
     "name": "stdout",
     "output_type": "stream",
     "text": [
      "Epoch 1/10\n",
      "68/68 [==============================] - 12s 113ms/step - loss: 0.1905 - val_loss: 0.1371\n",
      "Epoch 2/10\n",
      "68/68 [==============================] - 7s 96ms/step - loss: 0.0452 - val_loss: 0.1176\n",
      "Epoch 3/10\n",
      "68/68 [==============================] - 7s 96ms/step - loss: 0.0374 - val_loss: 0.0988\n",
      "Epoch 4/10\n",
      "68/68 [==============================] - 6s 93ms/step - loss: 0.0347 - val_loss: 0.0921\n",
      "Epoch 5/10\n",
      "68/68 [==============================] - 6s 95ms/step - loss: 0.0333 - val_loss: 0.0833\n",
      "Epoch 6/10\n",
      "68/68 [==============================] - 7s 96ms/step - loss: 0.0324 - val_loss: 0.0933\n",
      "Epoch 7/10\n",
      "68/68 [==============================] - 7s 96ms/step - loss: 0.0318 - val_loss: 0.0893\n",
      "Epoch 8/10\n",
      "68/68 [==============================] - 6s 94ms/step - loss: 0.0313 - val_loss: 0.0884\n",
      "Epoch 9/10\n",
      "68/68 [==============================] - 6s 93ms/step - loss: 0.0312 - val_loss: 0.0852\n",
      "Epoch 10/10\n",
      "68/68 [==============================] - 6s 95ms/step - loss: 0.0311 - val_loss: 0.0842\n",
      "Model for local hen - big (above 900 gm) saved to trained_models\\local hen - big (above 900 gm)_model.h5.\n"
     ]
    },
    {
     "name": "stderr",
     "output_type": "stream",
     "text": [
      "c:\\Program Files\\Python310\\lib\\site-packages\\keras\\src\\engine\\training.py:3079: UserWarning: You are saving your model as an HDF5 file via `model.save()`. This file format is considered legacy. We recommend using instead the native Keras format, e.g. `model.save('my_model.keras')`.\n",
      "  saving_api.save_model(\n"
     ]
    },
    {
     "name": "stdout",
     "output_type": "stream",
     "text": [
      "Epoch 1/10\n",
      "70/70 [==============================] - 12s 111ms/step - loss: 0.1677 - val_loss: 0.0539\n",
      "Epoch 2/10\n",
      "70/70 [==============================] - 7s 97ms/step - loss: 0.0227 - val_loss: 0.0302\n",
      "Epoch 3/10\n",
      "70/70 [==============================] - 6s 92ms/step - loss: 0.0131 - val_loss: 0.0236\n",
      "Epoch 4/10\n",
      "70/70 [==============================] - 6s 93ms/step - loss: 0.0094 - val_loss: 0.0150\n",
      "Epoch 5/10\n",
      "70/70 [==============================] - 7s 94ms/step - loss: 0.0085 - val_loss: 0.0125\n",
      "Epoch 6/10\n",
      "70/70 [==============================] - 6s 92ms/step - loss: 0.0070 - val_loss: 0.0099\n",
      "Epoch 7/10\n",
      "70/70 [==============================] - 6s 93ms/step - loss: 0.0065 - val_loss: 0.0084\n",
      "Epoch 8/10\n",
      "70/70 [==============================] - 7s 100ms/step - loss: 0.0062 - val_loss: 0.0076\n",
      "Epoch 9/10\n",
      "70/70 [==============================] - 7s 94ms/step - loss: 0.0059 - val_loss: 0.0078\n",
      "Epoch 10/10\n",
      "70/70 [==============================] - 7s 95ms/step - loss: 0.0058 - val_loss: 0.0063\n",
      "Model for local hen - medium (700-850 gm) saved to trained_models\\local hen - medium (700-850 gm)_model.h5.\n"
     ]
    },
    {
     "name": "stderr",
     "output_type": "stream",
     "text": [
      "c:\\Program Files\\Python310\\lib\\site-packages\\keras\\src\\engine\\training.py:3079: UserWarning: You are saving your model as an HDF5 file via `model.save()`. This file format is considered legacy. We recommend using instead the native Keras format, e.g. `model.save('my_model.keras')`.\n",
      "  saving_api.save_model(\n"
     ]
    },
    {
     "name": "stdout",
     "output_type": "stream",
     "text": [
      "Epoch 1/10\n",
      "45/45 [==============================] - 10s 118ms/step - loss: 0.5356 - val_loss: 0.7766\n",
      "Epoch 2/10\n",
      "45/45 [==============================] - 4s 92ms/step - loss: 0.0660 - val_loss: 0.6621\n",
      "Epoch 3/10\n",
      "45/45 [==============================] - 4s 89ms/step - loss: 0.0396 - val_loss: 0.6467\n",
      "Epoch 4/10\n",
      "45/45 [==============================] - 4s 89ms/step - loss: 0.0285 - val_loss: 0.4465\n",
      "Epoch 5/10\n",
      "45/45 [==============================] - 5s 113ms/step - loss: 0.0264 - val_loss: 0.4412\n",
      "Epoch 6/10\n",
      "45/45 [==============================] - 4s 93ms/step - loss: 0.0235 - val_loss: 0.3470\n",
      "Epoch 7/10\n",
      "45/45 [==============================] - 4s 88ms/step - loss: 0.0196 - val_loss: 0.3390\n",
      "Epoch 8/10\n",
      "45/45 [==============================] - 4s 88ms/step - loss: 0.0193 - val_loss: 0.2585\n",
      "Epoch 9/10\n",
      "45/45 [==============================] - 4s 90ms/step - loss: 0.0169 - val_loss: 0.2155\n",
      "Epoch 10/10\n",
      "45/45 [==============================] - 4s 90ms/step - loss: 0.0170 - val_loss: 0.1607\n",
      "Model for local duck - big (above 900 gm) saved to trained_models\\local duck - big (above 900 gm)_model.h5.\n"
     ]
    },
    {
     "name": "stderr",
     "output_type": "stream",
     "text": [
      "c:\\Program Files\\Python310\\lib\\site-packages\\keras\\src\\engine\\training.py:3079: UserWarning: You are saving your model as an HDF5 file via `model.save()`. This file format is considered legacy. We recommend using instead the native Keras format, e.g. `model.save('my_model.keras')`.\n",
      "  saving_api.save_model(\n"
     ]
    },
    {
     "name": "stdout",
     "output_type": "stream",
     "text": [
      "Epoch 1/10\n",
      "66/66 [==============================] - 12s 105ms/step - loss: 0.4196 - val_loss: 0.2509\n",
      "Epoch 2/10\n",
      "66/66 [==============================] - 6s 88ms/step - loss: 0.1068 - val_loss: 0.2229\n",
      "Epoch 3/10\n",
      "66/66 [==============================] - 6s 91ms/step - loss: 0.0900 - val_loss: 0.2060\n",
      "Epoch 4/10\n",
      "66/66 [==============================] - 6s 89ms/step - loss: 0.0837 - val_loss: 0.1917\n",
      "Epoch 5/10\n",
      "66/66 [==============================] - 6s 88ms/step - loss: 0.0824 - val_loss: 0.1873\n",
      "Epoch 6/10\n",
      "66/66 [==============================] - 6s 90ms/step - loss: 0.0805 - val_loss: 0.1676\n",
      "Epoch 7/10\n",
      "66/66 [==============================] - 6s 91ms/step - loss: 0.0794 - val_loss: 0.1643\n",
      "Epoch 8/10\n",
      "66/66 [==============================] - 6s 91ms/step - loss: 0.0788 - val_loss: 0.1680\n",
      "Epoch 9/10\n",
      "66/66 [==============================] - 6s 89ms/step - loss: 0.0785 - val_loss: 0.1550\n",
      "Epoch 10/10\n",
      "66/66 [==============================] - 6s 91ms/step - loss: 0.0778 - val_loss: 0.1543\n",
      "Model for local hen - small (500-650 gm) saved to trained_models\\local hen - small (500-650 gm)_model.h5.\n"
     ]
    },
    {
     "name": "stderr",
     "output_type": "stream",
     "text": [
      "c:\\Program Files\\Python310\\lib\\site-packages\\keras\\src\\engine\\training.py:3079: UserWarning: You are saving your model as an HDF5 file via `model.save()`. This file format is considered legacy. We recommend using instead the native Keras format, e.g. `model.save('my_model.keras')`.\n",
      "  saving_api.save_model(\n"
     ]
    },
    {
     "name": "stdout",
     "output_type": "stream",
     "text": [
      "Epoch 1/10\n",
      "10/10 [==============================] - 7s 220ms/step - loss: 0.6545 - val_loss: 0.6008\n",
      "Epoch 2/10\n",
      "10/10 [==============================] - 1s 87ms/step - loss: 0.2489 - val_loss: 0.5903\n",
      "Epoch 3/10\n",
      "10/10 [==============================] - 1s 85ms/step - loss: 0.1614 - val_loss: 0.5963\n",
      "Epoch 4/10\n",
      "10/10 [==============================] - 1s 94ms/step - loss: 0.1118 - val_loss: 0.5211\n",
      "Epoch 5/10\n",
      "10/10 [==============================] - 1s 88ms/step - loss: 0.0833 - val_loss: 0.5670\n",
      "Epoch 6/10\n",
      "10/10 [==============================] - 1s 105ms/step - loss: 0.0724 - val_loss: 0.4971\n",
      "Epoch 7/10\n",
      "10/10 [==============================] - 1s 85ms/step - loss: 0.0743 - val_loss: 0.4602\n",
      "Epoch 8/10\n",
      "10/10 [==============================] - 1s 89ms/step - loss: 0.0517 - val_loss: 0.4444\n",
      "Epoch 9/10\n",
      "10/10 [==============================] - 1s 92ms/step - loss: 0.0505 - val_loss: 0.4405\n",
      "Epoch 10/10\n",
      "10/10 [==============================] - 1s 93ms/step - loss: 0.0508 - val_loss: 0.4454\n",
      "Model for farm-raised duck - big saved to trained_models\\farm-raised duck - big_model.h5.\n"
     ]
    },
    {
     "name": "stderr",
     "output_type": "stream",
     "text": [
      "c:\\Program Files\\Python310\\lib\\site-packages\\keras\\src\\engine\\training.py:3079: UserWarning: You are saving your model as an HDF5 file via `model.save()`. This file format is considered legacy. We recommend using instead the native Keras format, e.g. `model.save('my_model.keras')`.\n",
      "  saving_api.save_model(\n"
     ]
    },
    {
     "name": "stdout",
     "output_type": "stream",
     "text": [
      "Epoch 1/10\n",
      "18/18 [==============================] - 7s 152ms/step - loss: 0.3574 - val_loss: 0.4297\n",
      "Epoch 2/10\n",
      "18/18 [==============================] - 1s 81ms/step - loss: 0.1025 - val_loss: 0.4200\n",
      "Epoch 3/10\n",
      "18/18 [==============================] - 2s 90ms/step - loss: 0.0669 - val_loss: 0.4155\n",
      "Epoch 4/10\n",
      "18/18 [==============================] - 2s 97ms/step - loss: 0.0527 - val_loss: 0.4350\n",
      "Epoch 5/10\n",
      "18/18 [==============================] - 2s 85ms/step - loss: 0.0431 - val_loss: 0.3794\n",
      "Epoch 6/10\n",
      "18/18 [==============================] - 2s 91ms/step - loss: 0.0358 - val_loss: 0.3866\n",
      "Epoch 7/10\n",
      "18/18 [==============================] - 2s 84ms/step - loss: 0.0288 - val_loss: 0.3716\n",
      "Epoch 8/10\n",
      "18/18 [==============================] - 2s 87ms/step - loss: 0.0278 - val_loss: 0.3310\n",
      "Epoch 9/10\n",
      "18/18 [==============================] - 2s 87ms/step - loss: 0.0270 - val_loss: 0.3248\n",
      "Epoch 10/10\n",
      "18/18 [==============================] - 2s 87ms/step - loss: 0.0239 - val_loss: 0.2857\n",
      "Model for local duck - medium (700-850 gm) saved to trained_models\\local duck - medium (700-850 gm)_model.h5.\n"
     ]
    },
    {
     "name": "stderr",
     "output_type": "stream",
     "text": [
      "c:\\Program Files\\Python310\\lib\\site-packages\\keras\\src\\engine\\training.py:3079: UserWarning: You are saving your model as an HDF5 file via `model.save()`. This file format is considered legacy. We recommend using instead the native Keras format, e.g. `model.save('my_model.keras')`.\n",
      "  saving_api.save_model(\n"
     ]
    },
    {
     "name": "stdout",
     "output_type": "stream",
     "text": [
      "Epoch 1/10\n",
      "3/3 [==============================] - 6s 620ms/step - loss: 1.7019 - val_loss: 0.5096\n",
      "Epoch 2/10\n",
      "3/3 [==============================] - 0s 94ms/step - loss: 0.7234 - val_loss: 0.5041\n",
      "Epoch 3/10\n",
      "3/3 [==============================] - 0s 94ms/step - loss: 0.5337 - val_loss: 0.4922\n",
      "Epoch 4/10\n",
      "3/3 [==============================] - 0s 92ms/step - loss: 0.4323 - val_loss: 0.4927\n",
      "Epoch 5/10\n",
      "3/3 [==============================] - 0s 104ms/step - loss: 0.4697 - val_loss: 0.4924\n",
      "Epoch 6/10\n",
      "3/3 [==============================] - 0s 107ms/step - loss: 0.3716 - val_loss: 0.4722\n",
      "Epoch 7/10\n",
      "3/3 [==============================] - 0s 111ms/step - loss: 0.3388 - val_loss: 0.4677\n",
      "Epoch 8/10\n",
      "3/3 [==============================] - 0s 101ms/step - loss: 0.2363 - val_loss: 0.4639\n",
      "Epoch 9/10\n",
      "3/3 [==============================] - 0s 106ms/step - loss: 0.2030 - val_loss: 0.4648\n",
      "Epoch 10/10\n",
      "3/3 [==============================] - 0s 104ms/step - loss: 0.2550 - val_loss: 0.4686\n",
      "Model for local duck - small (500-600 gm) saved to trained_models\\local duck - small (500-600 gm)_model.h5.\n"
     ]
    },
    {
     "name": "stderr",
     "output_type": "stream",
     "text": [
      "c:\\Program Files\\Python310\\lib\\site-packages\\keras\\src\\engine\\training.py:3079: UserWarning: You are saving your model as an HDF5 file via `model.save()`. This file format is considered legacy. We recommend using instead the native Keras format, e.g. `model.save('my_model.keras')`.\n",
      "  saving_api.save_model(\n"
     ]
    },
    {
     "name": "stdout",
     "output_type": "stream",
     "text": [
      "Epoch 1/10\n",
      "5/5 [==============================] - 6s 346ms/step - loss: 0.5398 - val_loss: 0.2086\n",
      "Epoch 2/10\n",
      "5/5 [==============================] - 1s 97ms/step - loss: 0.3267 - val_loss: 0.1664\n",
      "Epoch 3/10\n",
      "5/5 [==============================] - 1s 104ms/step - loss: 0.2450 - val_loss: 0.1465\n",
      "Epoch 4/10\n",
      "5/5 [==============================] - 0s 102ms/step - loss: 0.2315 - val_loss: 0.1396\n",
      "Epoch 5/10\n",
      "5/5 [==============================] - 0s 99ms/step - loss: 0.1251 - val_loss: 0.1327\n",
      "Epoch 6/10\n",
      "5/5 [==============================] - 0s 103ms/step - loss: 0.0929 - val_loss: 0.1383\n",
      "Epoch 7/10\n",
      "5/5 [==============================] - 1s 119ms/step - loss: 0.0831 - val_loss: 0.1409\n",
      "Epoch 8/10\n",
      "5/5 [==============================] - 1s 108ms/step - loss: 0.0911 - val_loss: 0.1294\n",
      "Epoch 9/10\n",
      "5/5 [==============================] - 0s 90ms/step - loss: 0.0564 - val_loss: 0.1233\n",
      "Epoch 10/10\n",
      "5/5 [==============================] - 0s 90ms/step - loss: 0.0636 - val_loss: 0.1216\n",
      "Model for sonali chicken saved to trained_models\\sonali chicken_model.h5.\n"
     ]
    },
    {
     "name": "stderr",
     "output_type": "stream",
     "text": [
      "c:\\Program Files\\Python310\\lib\\site-packages\\keras\\src\\engine\\training.py:3079: UserWarning: You are saving your model as an HDF5 file via `model.save()`. This file format is considered legacy. We recommend using instead the native Keras format, e.g. `model.save('my_model.keras')`.\n",
      "  saving_api.save_model(\n"
     ]
    },
    {
     "name": "stdout",
     "output_type": "stream",
     "text": [
      "Epoch 1/10\n",
      "5/5 [==============================] - 6s 316ms/step - loss: 0.3196 - val_loss: 0.0414\n",
      "Epoch 2/10\n",
      "5/5 [==============================] - 0s 87ms/step - loss: 0.1679 - val_loss: 0.0381\n",
      "Epoch 3/10\n",
      "5/5 [==============================] - 0s 87ms/step - loss: 0.1200 - val_loss: 0.0367\n",
      "Epoch 4/10\n",
      "5/5 [==============================] - 0s 92ms/step - loss: 0.1242 - val_loss: 0.0364\n",
      "Epoch 5/10\n",
      "5/5 [==============================] - 0s 91ms/step - loss: 0.1082 - val_loss: 0.0361\n",
      "Epoch 6/10\n",
      "5/5 [==============================] - 0s 96ms/step - loss: 0.0936 - val_loss: 0.0357\n",
      "Epoch 7/10\n",
      "5/5 [==============================] - 0s 80ms/step - loss: 0.0860 - val_loss: 0.0350\n",
      "Epoch 8/10\n",
      "5/5 [==============================] - 0s 86ms/step - loss: 0.0745 - val_loss: 0.0340\n",
      "Epoch 9/10\n",
      "5/5 [==============================] - 1s 106ms/step - loss: 0.0746 - val_loss: 0.0328\n",
      "Epoch 10/10\n",
      "5/5 [==============================] - 1s 103ms/step - loss: 0.0742 - val_loss: 0.0318\n",
      "Model for broiler chicken saved to trained_models\\broiler chicken_model.h5.\n"
     ]
    },
    {
     "name": "stderr",
     "output_type": "stream",
     "text": [
      "c:\\Program Files\\Python310\\lib\\site-packages\\keras\\src\\engine\\training.py:3079: UserWarning: You are saving your model as an HDF5 file via `model.save()`. This file format is considered legacy. We recommend using instead the native Keras format, e.g. `model.save('my_model.keras')`.\n",
      "  saving_api.save_model(\n",
      "d:\\Projects\\market price\\training_model\\model.py:18: FutureWarning: DataFrame.interpolate with object dtype is deprecated and will raise in a future version. Call obj.infer_objects(copy=False) before interpolating instead.\n",
      "  pivot_df = pivot_df.interpolate(method='linear', axis=0).fillna(method='bfill').fillna(method='ffill')\n",
      "d:\\Projects\\market price\\training_model\\model.py:18: FutureWarning: DataFrame.fillna with 'method' is deprecated and will raise in a future version. Use obj.ffill() or obj.bfill() instead.\n",
      "  pivot_df = pivot_df.interpolate(method='linear', axis=0).fillna(method='bfill').fillna(method='ffill')\n"
     ]
    },
    {
     "name": "stdout",
     "output_type": "stream",
     "text": [
      "Epoch 1/10\n",
      "67/67 [==============================] - 13s 118ms/step - loss: 0.2227 - val_loss: 0.0822\n",
      "Epoch 2/10\n",
      "67/67 [==============================] - 7s 106ms/step - loss: 0.0310 - val_loss: 0.0828\n",
      "Epoch 3/10\n",
      "67/67 [==============================] - 8s 113ms/step - loss: 0.0230 - val_loss: 0.0800\n",
      "Epoch 4/10\n",
      "67/67 [==============================] - 8s 120ms/step - loss: 0.0209 - val_loss: 0.0664\n",
      "Epoch 5/10\n",
      "67/67 [==============================] - 7s 109ms/step - loss: 0.0195 - val_loss: 0.0732\n",
      "Epoch 6/10\n",
      "67/67 [==============================] - 7s 104ms/step - loss: 0.0182 - val_loss: 0.0685\n",
      "Epoch 7/10\n",
      "67/67 [==============================] - 7s 103ms/step - loss: 0.0172 - val_loss: 0.0660\n",
      "Epoch 8/10\n",
      "67/67 [==============================] - 7s 105ms/step - loss: 0.0170 - val_loss: 0.0597\n",
      "Epoch 9/10\n",
      "67/67 [==============================] - 7s 103ms/step - loss: 0.0167 - val_loss: 0.0557\n",
      "Epoch 10/10\n",
      "67/67 [==============================] - 7s 104ms/step - loss: 0.0163 - val_loss: 0.0519\n",
      "Model for dried chili (imported) - ordinary saved to trained_models\\dried chili (imported) - ordinary_model.h5.\n"
     ]
    },
    {
     "name": "stderr",
     "output_type": "stream",
     "text": [
      "c:\\Program Files\\Python310\\lib\\site-packages\\keras\\src\\engine\\training.py:3079: UserWarning: You are saving your model as an HDF5 file via `model.save()`. This file format is considered legacy. We recommend using instead the native Keras format, e.g. `model.save('my_model.keras')`.\n",
      "  saving_api.save_model(\n"
     ]
    },
    {
     "name": "stdout",
     "output_type": "stream",
     "text": [
      "Epoch 1/10\n",
      "66/66 [==============================] - 13s 124ms/step - loss: 0.1616 - val_loss: 0.0734\n",
      "Epoch 2/10\n",
      "66/66 [==============================] - 7s 105ms/step - loss: 0.0361 - val_loss: 0.0738\n",
      "Epoch 3/10\n",
      "66/66 [==============================] - 7s 105ms/step - loss: 0.0203 - val_loss: 0.0760\n",
      "Epoch 4/10\n",
      "66/66 [==============================] - 7s 105ms/step - loss: 0.0151 - val_loss: 0.0650\n",
      "Epoch 5/10\n",
      "66/66 [==============================] - 7s 106ms/step - loss: 0.0141 - val_loss: 0.0578\n",
      "Epoch 6/10\n",
      "66/66 [==============================] - 7s 104ms/step - loss: 0.0119 - val_loss: 0.0471\n",
      "Epoch 7/10\n",
      "66/66 [==============================] - 7s 106ms/step - loss: 0.0117 - val_loss: 0.0465\n",
      "Epoch 8/10\n",
      "66/66 [==============================] - 7s 106ms/step - loss: 0.0113 - val_loss: 0.0479\n",
      "Epoch 9/10\n",
      "66/66 [==============================] - 7s 106ms/step - loss: 0.0111 - val_loss: 0.0475\n",
      "Epoch 10/10\n",
      "66/66 [==============================] - 7s 107ms/step - loss: 0.0109 - val_loss: 0.0435\n",
      "Model for dried chili (local) - ordinary saved to trained_models\\dried chili (local) - ordinary_model.h5.\n"
     ]
    },
    {
     "name": "stderr",
     "output_type": "stream",
     "text": [
      "c:\\Program Files\\Python310\\lib\\site-packages\\keras\\src\\engine\\training.py:3079: UserWarning: You are saving your model as an HDF5 file via `model.save()`. This file format is considered legacy. We recommend using instead the native Keras format, e.g. `model.save('my_model.keras')`.\n",
      "  saving_api.save_model(\n"
     ]
    },
    {
     "name": "stdout",
     "output_type": "stream",
     "text": [
      "Epoch 1/10\n",
      "71/71 [==============================] - 14s 131ms/step - loss: 0.1022 - val_loss: 0.0126\n",
      "Epoch 2/10\n",
      "71/71 [==============================] - 8s 110ms/step - loss: 0.0077 - val_loss: 0.0138\n",
      "Epoch 3/10\n",
      "71/71 [==============================] - 7s 103ms/step - loss: 0.0037 - val_loss: 0.0124\n",
      "Epoch 4/10\n",
      "71/71 [==============================] - 7s 101ms/step - loss: 0.0024 - val_loss: 0.0129\n",
      "Epoch 5/10\n",
      "71/71 [==============================] - 7s 102ms/step - loss: 0.0019 - val_loss: 0.0118\n",
      "Epoch 6/10\n",
      "71/71 [==============================] - 7s 101ms/step - loss: 0.0016 - val_loss: 0.0102\n",
      "Epoch 7/10\n",
      "71/71 [==============================] - 7s 101ms/step - loss: 0.0015 - val_loss: 0.0087\n",
      "Epoch 8/10\n",
      "71/71 [==============================] - 7s 101ms/step - loss: 0.0013 - val_loss: 0.0073\n",
      "Epoch 9/10\n",
      "71/71 [==============================] - 7s 102ms/step - loss: 0.0012 - val_loss: 0.0074\n",
      "Epoch 10/10\n",
      "71/71 [==============================] - 7s 104ms/step - loss: 0.0012 - val_loss: 0.0077\n",
      "Model for garlic (imported) saved to trained_models\\garlic (imported)_model.h5.\n"
     ]
    },
    {
     "name": "stderr",
     "output_type": "stream",
     "text": [
      "c:\\Program Files\\Python310\\lib\\site-packages\\keras\\src\\engine\\training.py:3079: UserWarning: You are saving your model as an HDF5 file via `model.save()`. This file format is considered legacy. We recommend using instead the native Keras format, e.g. `model.save('my_model.keras')`.\n",
      "  saving_api.save_model(\n"
     ]
    },
    {
     "name": "stdout",
     "output_type": "stream",
     "text": [
      "Epoch 1/10\n",
      "72/72 [==============================] - 13s 116ms/step - loss: 0.0659 - val_loss: 1.3750e-04\n",
      "Epoch 2/10\n",
      "72/72 [==============================] - 7s 102ms/step - loss: 0.0176 - val_loss: 1.4098e-04\n",
      "Epoch 3/10\n",
      "72/72 [==============================] - 7s 99ms/step - loss: 0.0050 - val_loss: 1.7966e-04\n",
      "Epoch 4/10\n",
      "72/72 [==============================] - 7s 104ms/step - loss: 0.0028 - val_loss: 1.4138e-04\n",
      "Epoch 5/10\n",
      "72/72 [==============================] - 7s 100ms/step - loss: 0.0024 - val_loss: 1.1962e-04\n",
      "Epoch 6/10\n",
      "72/72 [==============================] - 7s 100ms/step - loss: 0.0019 - val_loss: 1.4844e-04\n",
      "Epoch 7/10\n",
      "72/72 [==============================] - 7s 101ms/step - loss: 0.0015 - val_loss: 1.5270e-04\n",
      "Epoch 8/10\n",
      "72/72 [==============================] - 7s 102ms/step - loss: 0.0014 - val_loss: 1.3099e-04\n",
      "Epoch 9/10\n",
      "72/72 [==============================] - 7s 99ms/step - loss: 0.0012 - val_loss: 1.3039e-04\n",
      "Epoch 10/10\n",
      "72/72 [==============================] - 7s 101ms/step - loss: 0.0011 - val_loss: 0.0012\n",
      "Model for garlic (local) - big size saved to trained_models\\garlic (local) - big size_model.h5.\n"
     ]
    },
    {
     "name": "stderr",
     "output_type": "stream",
     "text": [
      "c:\\Program Files\\Python310\\lib\\site-packages\\keras\\src\\engine\\training.py:3079: UserWarning: You are saving your model as an HDF5 file via `model.save()`. This file format is considered legacy. We recommend using instead the native Keras format, e.g. `model.save('my_model.keras')`.\n",
      "  saving_api.save_model(\n"
     ]
    },
    {
     "name": "stdout",
     "output_type": "stream",
     "text": [
      "Epoch 1/10\n",
      "72/72 [==============================] - 13s 110ms/step - loss: 0.0239 - val_loss: 0.0024\n",
      "Epoch 2/10\n",
      "72/72 [==============================] - 7s 94ms/step - loss: 0.0159 - val_loss: 0.0027\n",
      "Epoch 3/10\n",
      "72/72 [==============================] - 6s 90ms/step - loss: 0.0025 - val_loss: 0.0023\n",
      "Epoch 4/10\n",
      "72/72 [==============================] - 7s 93ms/step - loss: 9.0565e-04 - val_loss: 0.0023\n",
      "Epoch 5/10\n",
      "72/72 [==============================] - 7s 99ms/step - loss: 7.2979e-04 - val_loss: 0.0020\n",
      "Epoch 6/10\n",
      "72/72 [==============================] - 7s 91ms/step - loss: 5.1807e-04 - val_loss: 0.0022\n",
      "Epoch 7/10\n",
      "72/72 [==============================] - 7s 91ms/step - loss: 4.7205e-04 - val_loss: 0.0022\n",
      "Epoch 8/10\n",
      "72/72 [==============================] - 7s 91ms/step - loss: 4.2825e-04 - val_loss: 0.0025\n",
      "Epoch 9/10\n",
      "72/72 [==============================] - 7s 92ms/step - loss: 4.3681e-04 - val_loss: 0.0037\n",
      "Epoch 10/10\n",
      "72/72 [==============================] - 7s 95ms/step - loss: 4.6292e-04 - val_loss: 0.0035\n",
      "Model for ginger (imported) saved to trained_models\\ginger (imported)_model.h5.\n"
     ]
    },
    {
     "name": "stderr",
     "output_type": "stream",
     "text": [
      "c:\\Program Files\\Python310\\lib\\site-packages\\keras\\src\\engine\\training.py:3079: UserWarning: You are saving your model as an HDF5 file via `model.save()`. This file format is considered legacy. We recommend using instead the native Keras format, e.g. `model.save('my_model.keras')`.\n",
      "  saving_api.save_model(\n"
     ]
    },
    {
     "name": "stdout",
     "output_type": "stream",
     "text": [
      "Epoch 1/10\n",
      "65/65 [==============================] - 11s 102ms/step - loss: 0.2332 - val_loss: 0.1055\n",
      "Epoch 2/10\n",
      "65/65 [==============================] - 6s 85ms/step - loss: 0.0276 - val_loss: 0.0889\n",
      "Epoch 3/10\n",
      "65/65 [==============================] - 6s 85ms/step - loss: 0.0164 - val_loss: 0.0897\n",
      "Epoch 4/10\n",
      "65/65 [==============================] - 5s 83ms/step - loss: 0.0122 - val_loss: 0.0972\n",
      "Epoch 5/10\n",
      "65/65 [==============================] - 6s 85ms/step - loss: 0.0113 - val_loss: 0.0930\n",
      "Epoch 6/10\n",
      "65/65 [==============================] - 5s 83ms/step - loss: 0.0100 - val_loss: 0.0862\n",
      "Epoch 7/10\n",
      "65/65 [==============================] - 5s 82ms/step - loss: 0.0093 - val_loss: 0.0778\n",
      "Epoch 8/10\n",
      "65/65 [==============================] - 5s 83ms/step - loss: 0.0090 - val_loss: 0.0765\n",
      "Epoch 9/10\n",
      "65/65 [==============================] - 5s 84ms/step - loss: 0.0088 - val_loss: 0.0760\n",
      "Epoch 10/10\n",
      "65/65 [==============================] - 6s 85ms/step - loss: 0.0087 - val_loss: 0.0708\n",
      "Model for ginger (local) - new saved to trained_models\\ginger (local) - new_model.h5.\n"
     ]
    },
    {
     "name": "stderr",
     "output_type": "stream",
     "text": [
      "c:\\Program Files\\Python310\\lib\\site-packages\\keras\\src\\engine\\training.py:3079: UserWarning: You are saving your model as an HDF5 file via `model.save()`. This file format is considered legacy. We recommend using instead the native Keras format, e.g. `model.save('my_model.keras')`.\n",
      "  saving_api.save_model(\n"
     ]
    },
    {
     "name": "stdout",
     "output_type": "stream",
     "text": [
      "Epoch 1/10\n",
      "73/73 [==============================] - 12s 103ms/step - loss: 0.0803 - val_loss: 0.0027\n",
      "Epoch 2/10\n",
      "73/73 [==============================] - 6s 88ms/step - loss: 0.0202 - val_loss: 0.0018\n",
      "Epoch 3/10\n",
      "73/73 [==============================] - 6s 88ms/step - loss: 0.0094 - val_loss: 0.0016\n",
      "Epoch 4/10\n",
      "73/73 [==============================] - 6s 89ms/step - loss: 0.0041 - val_loss: 0.0016\n",
      "Epoch 5/10\n",
      "73/73 [==============================] - 6s 89ms/step - loss: 0.0034 - val_loss: 0.0013\n",
      "Epoch 6/10\n",
      "73/73 [==============================] - 6s 89ms/step - loss: 0.0028 - val_loss: 0.0016\n",
      "Epoch 7/10\n",
      "73/73 [==============================] - 7s 92ms/step - loss: 0.0021 - val_loss: 0.0014\n",
      "Epoch 8/10\n",
      "73/73 [==============================] - 7s 90ms/step - loss: 0.0020 - val_loss: 0.0013\n",
      "Epoch 9/10\n",
      "73/73 [==============================] - 7s 91ms/step - loss: 0.0018 - val_loss: 0.0019\n",
      "Epoch 10/10\n",
      "73/73 [==============================] - 7s 90ms/step - loss: 0.0017 - val_loss: 0.0013\n",
      "Model for green chili (local) saved to trained_models\\green chili (local)_model.h5.\n"
     ]
    },
    {
     "name": "stderr",
     "output_type": "stream",
     "text": [
      "c:\\Program Files\\Python310\\lib\\site-packages\\keras\\src\\engine\\training.py:3079: UserWarning: You are saving your model as an HDF5 file via `model.save()`. This file format is considered legacy. We recommend using instead the native Keras format, e.g. `model.save('my_model.keras')`.\n",
      "  saving_api.save_model(\n"
     ]
    },
    {
     "name": "stdout",
     "output_type": "stream",
     "text": [
      "Epoch 1/10\n",
      "72/72 [==============================] - 12s 106ms/step - loss: 0.0540 - val_loss: 0.0026\n",
      "Epoch 2/10\n",
      "72/72 [==============================] - 7s 99ms/step - loss: 0.0097 - val_loss: 0.0027\n",
      "Epoch 3/10\n",
      "72/72 [==============================] - 6s 90ms/step - loss: 0.0070 - val_loss: 0.0026\n",
      "Epoch 4/10\n",
      "72/72 [==============================] - 6s 89ms/step - loss: 0.0024 - val_loss: 0.0029\n",
      "Epoch 5/10\n",
      "72/72 [==============================] - 6s 89ms/step - loss: 0.0019 - val_loss: 0.0028\n",
      "Epoch 6/10\n",
      "72/72 [==============================] - 6s 88ms/step - loss: 0.0016 - val_loss: 0.0026\n",
      "Epoch 7/10\n",
      "72/72 [==============================] - 7s 91ms/step - loss: 0.0013 - val_loss: 0.0025\n",
      "Epoch 8/10\n",
      "72/72 [==============================] - 6s 88ms/step - loss: 0.0013 - val_loss: 0.0041\n",
      "Epoch 9/10\n",
      "72/72 [==============================] - 7s 91ms/step - loss: 0.0011 - val_loss: 0.0025\n",
      "Epoch 10/10\n",
      "72/72 [==============================] - 6s 89ms/step - loss: 0.0010 - val_loss: 0.0039\n",
      "Model for onion (local) saved to trained_models\\onion (local)_model.h5.\n"
     ]
    },
    {
     "name": "stderr",
     "output_type": "stream",
     "text": [
      "c:\\Program Files\\Python310\\lib\\site-packages\\keras\\src\\engine\\training.py:3079: UserWarning: You are saving your model as an HDF5 file via `model.save()`. This file format is considered legacy. We recommend using instead the native Keras format, e.g. `model.save('my_model.keras')`.\n",
      "  saving_api.save_model(\n"
     ]
    },
    {
     "name": "stdout",
     "output_type": "stream",
     "text": [
      "Epoch 1/10\n",
      "71/71 [==============================] - 11s 100ms/step - loss: 0.0805 - val_loss: 0.0044\n",
      "Epoch 2/10\n",
      "71/71 [==============================] - 6s 85ms/step - loss: 0.0109 - val_loss: 0.0042\n",
      "Epoch 3/10\n",
      "71/71 [==============================] - 6s 86ms/step - loss: 0.0067 - val_loss: 0.0043\n",
      "Epoch 4/10\n",
      "71/71 [==============================] - 6s 86ms/step - loss: 0.0026 - val_loss: 0.0040\n",
      "Epoch 5/10\n",
      "71/71 [==============================] - 6s 85ms/step - loss: 0.0018 - val_loss: 0.0040\n",
      "Epoch 6/10\n",
      "71/71 [==============================] - 6s 88ms/step - loss: 0.0020 - val_loss: 0.0038\n",
      "Epoch 7/10\n",
      "71/71 [==============================] - 6s 87ms/step - loss: 0.0016 - val_loss: 0.0035\n",
      "Epoch 8/10\n",
      "71/71 [==============================] - 6s 85ms/step - loss: 0.0014 - val_loss: 0.0032\n",
      "Epoch 9/10\n",
      "71/71 [==============================] - 6s 88ms/step - loss: 0.0010 - val_loss: 0.0036\n",
      "Epoch 10/10\n",
      "71/71 [==============================] - 6s 86ms/step - loss: 0.0012 - val_loss: 0.0116\n",
      "Model for onion-imported saved to trained_models\\onion-imported_model.h5.\n"
     ]
    },
    {
     "name": "stderr",
     "output_type": "stream",
     "text": [
      "c:\\Program Files\\Python310\\lib\\site-packages\\keras\\src\\engine\\training.py:3079: UserWarning: You are saving your model as an HDF5 file via `model.save()`. This file format is considered legacy. We recommend using instead the native Keras format, e.g. `model.save('my_model.keras')`.\n",
      "  saving_api.save_model(\n"
     ]
    },
    {
     "name": "stdout",
     "output_type": "stream",
     "text": [
      "Epoch 1/10\n",
      "62/62 [==============================] - 15s 122ms/step - loss: 0.4380 - val_loss: 0.2993\n",
      "Epoch 2/10\n",
      "62/62 [==============================] - 7s 113ms/step - loss: 0.1275 - val_loss: 0.2693\n",
      "Epoch 3/10\n",
      "62/62 [==============================] - 7s 108ms/step - loss: 0.0826 - val_loss: 0.2422\n",
      "Epoch 4/10\n",
      "62/62 [==============================] - 7s 111ms/step - loss: 0.0695 - val_loss: 0.2260\n",
      "Epoch 5/10\n",
      "62/62 [==============================] - 7s 108ms/step - loss: 0.0657 - val_loss: 0.2026\n",
      "Epoch 6/10\n",
      "62/62 [==============================] - 7s 108ms/step - loss: 0.0636 - val_loss: 0.1992\n",
      "Epoch 7/10\n",
      "62/62 [==============================] - 7s 111ms/step - loss: 0.0627 - val_loss: 0.1854\n",
      "Epoch 8/10\n",
      "62/62 [==============================] - 7s 118ms/step - loss: 0.0618 - val_loss: 0.1855\n",
      "Epoch 9/10\n",
      "62/62 [==============================] - 7s 111ms/step - loss: 0.0613 - val_loss: 0.1838\n",
      "Epoch 10/10\n",
      "62/62 [==============================] - 7s 115ms/step - loss: 0.0609 - val_loss: 0.1770\n",
      "Model for turmeric (imported) saved to trained_models\\turmeric (imported)_model.h5.\n"
     ]
    },
    {
     "name": "stderr",
     "output_type": "stream",
     "text": [
      "c:\\Program Files\\Python310\\lib\\site-packages\\keras\\src\\engine\\training.py:3079: UserWarning: You are saving your model as an HDF5 file via `model.save()`. This file format is considered legacy. We recommend using instead the native Keras format, e.g. `model.save('my_model.keras')`.\n",
      "  saving_api.save_model(\n"
     ]
    },
    {
     "name": "stdout",
     "output_type": "stream",
     "text": [
      "Epoch 1/10\n",
      "67/67 [==============================] - 13s 132ms/step - loss: 0.1956 - val_loss: 0.2433\n",
      "Epoch 2/10\n",
      "67/67 [==============================] - 8s 115ms/step - loss: 0.0527 - val_loss: 0.2574\n",
      "Epoch 3/10\n",
      "67/67 [==============================] - 8s 113ms/step - loss: 0.0424 - val_loss: 0.2113\n",
      "Epoch 4/10\n",
      "67/67 [==============================] - 8s 113ms/step - loss: 0.0400 - val_loss: 0.2049\n",
      "Epoch 5/10\n",
      "67/67 [==============================] - 8s 113ms/step - loss: 0.0384 - val_loss: 0.1802\n",
      "Epoch 6/10\n",
      "67/67 [==============================] - 8s 115ms/step - loss: 0.0378 - val_loss: 0.1807\n",
      "Epoch 7/10\n",
      "67/67 [==============================] - 7s 111ms/step - loss: 0.0370 - val_loss: 0.1597\n",
      "Epoch 8/10\n",
      "67/67 [==============================] - 8s 114ms/step - loss: 0.0369 - val_loss: 0.1689\n",
      "Epoch 9/10\n",
      "67/67 [==============================] - 8s 125ms/step - loss: 0.0365 - val_loss: 0.1505\n",
      "Epoch 10/10\n",
      "67/67 [==============================] - 8s 121ms/step - loss: 0.0361 - val_loss: 0.1477\n",
      "Model for turmeric (local) - long (ordinary) saved to trained_models\\turmeric (local) - long (ordinary)_model.h5.\n"
     ]
    },
    {
     "name": "stderr",
     "output_type": "stream",
     "text": [
      "c:\\Program Files\\Python310\\lib\\site-packages\\keras\\src\\engine\\training.py:3079: UserWarning: You are saving your model as an HDF5 file via `model.save()`. This file format is considered legacy. We recommend using instead the native Keras format, e.g. `model.save('my_model.keras')`.\n",
      "  saving_api.save_model(\n"
     ]
    },
    {
     "name": "stdout",
     "output_type": "stream",
     "text": [
      "Epoch 1/10\n",
      "62/62 [==============================] - 13s 133ms/step - loss: 0.1490 - val_loss: 1.6361e-04\n",
      "Epoch 2/10\n",
      "62/62 [==============================] - 7s 121ms/step - loss: 0.0588 - val_loss: 5.9186e-05\n",
      "Epoch 3/10\n",
      "62/62 [==============================] - 7s 120ms/step - loss: 0.0272 - val_loss: 6.5529e-05\n",
      "Epoch 4/10\n",
      "62/62 [==============================] - 7s 119ms/step - loss: 0.0163 - val_loss: 1.0416e-04\n",
      "Epoch 5/10\n",
      "62/62 [==============================] - 7s 118ms/step - loss: 0.0141 - val_loss: 1.3884e-04\n",
      "Epoch 6/10\n",
      "62/62 [==============================] - 7s 118ms/step - loss: 0.0085 - val_loss: 1.3767e-04\n",
      "Epoch 7/10\n",
      "62/62 [==============================] - 7s 118ms/step - loss: 0.0066 - val_loss: 1.1062e-04\n",
      "Epoch 8/10\n",
      "62/62 [==============================] - 7s 116ms/step - loss: 0.0064 - val_loss: 1.7814e-04\n",
      "Epoch 9/10\n",
      "62/62 [==============================] - 7s 119ms/step - loss: 0.0056 - val_loss: 1.1819e-04\n",
      "Epoch 10/10\n",
      "62/62 [==============================] - 7s 118ms/step - loss: 0.0050 - val_loss: 5.3423e-04\n",
      "Model for black cumin (seed)(kalozira) saved to trained_models\\black cumin (seed)(kalozira)_model.h5.\n"
     ]
    },
    {
     "name": "stderr",
     "output_type": "stream",
     "text": [
      "c:\\Program Files\\Python310\\lib\\site-packages\\keras\\src\\engine\\training.py:3079: UserWarning: You are saving your model as an HDF5 file via `model.save()`. This file format is considered legacy. We recommend using instead the native Keras format, e.g. `model.save('my_model.keras')`.\n",
      "  saving_api.save_model(\n"
     ]
    },
    {
     "name": "stdout",
     "output_type": "stream",
     "text": [
      "Epoch 1/10\n",
      "64/64 [==============================] - 13s 122ms/step - loss: 0.1077 - val_loss: 8.2855e-04\n",
      "Epoch 2/10\n",
      "64/64 [==============================] - 7s 106ms/step - loss: 0.0179 - val_loss: 6.5368e-04\n",
      "Epoch 3/10\n",
      "64/64 [==============================] - 7s 102ms/step - loss: 0.0093 - val_loss: 6.3621e-04\n",
      "Epoch 4/10\n",
      "64/64 [==============================] - 7s 102ms/step - loss: 0.0066 - val_loss: 4.5330e-04\n",
      "Epoch 5/10\n",
      "64/64 [==============================] - 7s 104ms/step - loss: 0.0051 - val_loss: 3.7241e-04\n",
      "Epoch 6/10\n",
      "64/64 [==============================] - 7s 105ms/step - loss: 0.0059 - val_loss: 5.6526e-04\n",
      "Epoch 7/10\n",
      "64/64 [==============================] - 7s 107ms/step - loss: 0.0058 - val_loss: 4.7392e-04\n",
      "Epoch 8/10\n",
      "64/64 [==============================] - 7s 107ms/step - loss: 0.0044 - val_loss: 3.6216e-04\n",
      "Epoch 9/10\n",
      "64/64 [==============================] - 7s 110ms/step - loss: 0.0039 - val_loss: 3.9112e-04\n",
      "Epoch 10/10\n",
      "64/64 [==============================] - 7s 108ms/step - loss: 0.0037 - val_loss: 5.3411e-04\n",
      "Model for black pepper(golmorich) saved to trained_models\\black pepper(golmorich)_model.h5.\n"
     ]
    },
    {
     "name": "stderr",
     "output_type": "stream",
     "text": [
      "c:\\Program Files\\Python310\\lib\\site-packages\\keras\\src\\engine\\training.py:3079: UserWarning: You are saving your model as an HDF5 file via `model.save()`. This file format is considered legacy. We recommend using instead the native Keras format, e.g. `model.save('my_model.keras')`.\n",
      "  saving_api.save_model(\n"
     ]
    },
    {
     "name": "stdout",
     "output_type": "stream",
     "text": [
      "Epoch 1/10\n",
      "63/63 [==============================] - 12s 117ms/step - loss: 0.1754 - val_loss: 0.0011\n",
      "Epoch 2/10\n",
      "63/63 [==============================] - 6s 102ms/step - loss: 0.0381 - val_loss: 5.8883e-04\n",
      "Epoch 3/10\n",
      "63/63 [==============================] - 6s 98ms/step - loss: 0.0225 - val_loss: 0.0021\n",
      "Epoch 4/10\n",
      "63/63 [==============================] - 6s 96ms/step - loss: 0.0152 - val_loss: 8.4120e-04\n",
      "Epoch 5/10\n",
      "63/63 [==============================] - 6s 96ms/step - loss: 0.0142 - val_loss: 0.0028\n",
      "Epoch 6/10\n",
      "63/63 [==============================] - 6s 97ms/step - loss: 0.0135 - val_loss: 0.0014\n",
      "Epoch 7/10\n",
      "63/63 [==============================] - 6s 95ms/step - loss: 0.0103 - val_loss: 0.0013\n",
      "Epoch 8/10\n",
      "63/63 [==============================] - 6s 97ms/step - loss: 0.0100 - val_loss: 2.8972e-04\n",
      "Epoch 9/10\n",
      "63/63 [==============================] - 6s 96ms/step - loss: 0.0094 - val_loss: 2.6386e-05\n",
      "Epoch 10/10\n",
      "63/63 [==============================] - 6s 98ms/step - loss: 0.0097 - val_loss: 9.3629e-05\n",
      "Model for cardamom - big saved to trained_models\\cardamom - big_model.h5.\n"
     ]
    },
    {
     "name": "stderr",
     "output_type": "stream",
     "text": [
      "c:\\Program Files\\Python310\\lib\\site-packages\\keras\\src\\engine\\training.py:3079: UserWarning: You are saving your model as an HDF5 file via `model.save()`. This file format is considered legacy. We recommend using instead the native Keras format, e.g. `model.save('my_model.keras')`.\n",
      "  saving_api.save_model(\n"
     ]
    },
    {
     "name": "stdout",
     "output_type": "stream",
     "text": [
      "Epoch 1/10\n",
      "65/65 [==============================] - 12s 110ms/step - loss: 0.1230 - val_loss: 0.0341\n",
      "Epoch 2/10\n",
      "65/65 [==============================] - 6s 93ms/step - loss: 0.0179 - val_loss: 0.0341\n",
      "Epoch 3/10\n",
      "65/65 [==============================] - 6s 92ms/step - loss: 0.0102 - val_loss: 0.0336\n",
      "Epoch 4/10\n",
      "65/65 [==============================] - 6s 89ms/step - loss: 0.0065 - val_loss: 0.0339\n",
      "Epoch 5/10\n",
      "65/65 [==============================] - 6s 93ms/step - loss: 0.0055 - val_loss: 0.0326\n",
      "Epoch 6/10\n",
      "65/65 [==============================] - 6s 91ms/step - loss: 0.0044 - val_loss: 0.0332\n",
      "Epoch 7/10\n",
      "65/65 [==============================] - 6s 94ms/step - loss: 0.0042 - val_loss: 0.0322\n",
      "Epoch 8/10\n",
      "65/65 [==============================] - 6s 90ms/step - loss: 0.0033 - val_loss: 0.0318\n",
      "Epoch 9/10\n",
      "65/65 [==============================] - 6s 88ms/step - loss: 0.0031 - val_loss: 0.0274\n",
      "Epoch 10/10\n",
      "65/65 [==============================] - 6s 91ms/step - loss: 0.0029 - val_loss: 0.0290\n",
      "Model for cardamom - small saved to trained_models\\cardamom - small_model.h5.\n"
     ]
    },
    {
     "name": "stderr",
     "output_type": "stream",
     "text": [
      "c:\\Program Files\\Python310\\lib\\site-packages\\keras\\src\\engine\\training.py:3079: UserWarning: You are saving your model as an HDF5 file via `model.save()`. This file format is considered legacy. We recommend using instead the native Keras format, e.g. `model.save('my_model.keras')`.\n",
      "  saving_api.save_model(\n"
     ]
    },
    {
     "name": "stdout",
     "output_type": "stream",
     "text": [
      "Epoch 1/10\n",
      "64/64 [==============================] - 12s 112ms/step - loss: 0.1077 - val_loss: 0.0019\n",
      "Epoch 2/10\n",
      "64/64 [==============================] - 6s 95ms/step - loss: 0.0321 - val_loss: 0.0012\n",
      "Epoch 3/10\n",
      "64/64 [==============================] - 6s 93ms/step - loss: 0.0252 - val_loss: 5.9630e-04\n",
      "Epoch 4/10\n",
      "64/64 [==============================] - 6s 91ms/step - loss: 0.0129 - val_loss: 7.1407e-04\n",
      "Epoch 5/10\n",
      "64/64 [==============================] - 6s 94ms/step - loss: 0.0092 - val_loss: 1.8436e-04\n",
      "Epoch 6/10\n",
      "64/64 [==============================] - 6s 91ms/step - loss: 0.0087 - val_loss: 1.0363e-04\n",
      "Epoch 7/10\n",
      "64/64 [==============================] - 6s 91ms/step - loss: 0.0067 - val_loss: 7.7613e-05\n",
      "Epoch 8/10\n",
      "64/64 [==============================] - 6s 93ms/step - loss: 0.0050 - val_loss: 8.7928e-05\n",
      "Epoch 9/10\n",
      "64/64 [==============================] - 6s 92ms/step - loss: 0.0048 - val_loss: 3.3660e-04\n",
      "Epoch 10/10\n",
      "64/64 [==============================] - 6s 93ms/step - loss: 0.0045 - val_loss: 6.0990e-04\n",
      "Model for cinnamon(daruchini) saved to trained_models\\cinnamon(daruchini)_model.h5.\n"
     ]
    },
    {
     "name": "stderr",
     "output_type": "stream",
     "text": [
      "c:\\Program Files\\Python310\\lib\\site-packages\\keras\\src\\engine\\training.py:3079: UserWarning: You are saving your model as an HDF5 file via `model.save()`. This file format is considered legacy. We recommend using instead the native Keras format, e.g. `model.save('my_model.keras')`.\n",
      "  saving_api.save_model(\n"
     ]
    },
    {
     "name": "stdout",
     "output_type": "stream",
     "text": [
      "Epoch 1/10\n",
      "64/64 [==============================] - 11s 104ms/step - loss: 0.1090 - val_loss: 0.0019\n",
      "Epoch 2/10\n",
      "64/64 [==============================] - 6s 94ms/step - loss: 0.0335 - val_loss: 0.0015\n",
      "Epoch 3/10\n",
      "64/64 [==============================] - 6s 92ms/step - loss: 0.0161 - val_loss: 0.0013\n",
      "Epoch 4/10\n",
      "64/64 [==============================] - 6s 90ms/step - loss: 0.0085 - val_loss: 0.0015\n",
      "Epoch 5/10\n",
      "64/64 [==============================] - 6s 91ms/step - loss: 0.0067 - val_loss: 0.0019\n",
      "Epoch 6/10\n",
      "64/64 [==============================] - 6s 91ms/step - loss: 0.0054 - val_loss: 0.0012\n",
      "Epoch 7/10\n",
      "64/64 [==============================] - 6s 93ms/step - loss: 0.0048 - val_loss: 0.0012\n",
      "Epoch 8/10\n",
      "64/64 [==============================] - 6s 93ms/step - loss: 0.0044 - val_loss: 0.0011\n",
      "Epoch 9/10\n",
      "64/64 [==============================] - 6s 93ms/step - loss: 0.0041 - val_loss: 0.0011\n",
      "Epoch 10/10\n",
      "64/64 [==============================] - 6s 93ms/step - loss: 0.0043 - val_loss: 0.0013\n",
      "Model for clove(lobonga) saved to trained_models\\clove(lobonga)_model.h5.\n"
     ]
    },
    {
     "name": "stderr",
     "output_type": "stream",
     "text": [
      "c:\\Program Files\\Python310\\lib\\site-packages\\keras\\src\\engine\\training.py:3079: UserWarning: You are saving your model as an HDF5 file via `model.save()`. This file format is considered legacy. We recommend using instead the native Keras format, e.g. `model.save('my_model.keras')`.\n",
      "  saving_api.save_model(\n"
     ]
    },
    {
     "name": "stdout",
     "output_type": "stream",
     "text": [
      "Epoch 1/10\n",
      "19/19 [==============================] - 7s 146ms/step - loss: 0.3074 - val_loss: 0.5344\n",
      "Epoch 2/10\n",
      "19/19 [==============================] - 2s 83ms/step - loss: 0.0961 - val_loss: 0.5349\n",
      "Epoch 3/10\n",
      "19/19 [==============================] - 2s 85ms/step - loss: 0.0717 - val_loss: 0.5671\n",
      "Epoch 4/10\n",
      "19/19 [==============================] - 2s 94ms/step - loss: 0.0491 - val_loss: 0.5423\n",
      "Epoch 5/10\n",
      "19/19 [==============================] - 2s 84ms/step - loss: 0.0381 - val_loss: 0.4731\n",
      "Epoch 6/10\n",
      "19/19 [==============================] - 2s 80ms/step - loss: 0.0344 - val_loss: 0.5119\n",
      "Epoch 7/10\n",
      "19/19 [==============================] - 2s 83ms/step - loss: 0.0287 - val_loss: 0.4789\n",
      "Epoch 8/10\n",
      "19/19 [==============================] - 2s 86ms/step - loss: 0.0275 - val_loss: 0.4353\n",
      "Epoch 9/10\n",
      "19/19 [==============================] - 2s 83ms/step - loss: 0.0211 - val_loss: 0.4320\n",
      "Epoch 10/10\n",
      "19/19 [==============================] - 2s 81ms/step - loss: 0.0216 - val_loss: 0.4330\n",
      "Model for coriander seed (new) saved to trained_models\\coriander seed (new)_model.h5.\n"
     ]
    },
    {
     "name": "stderr",
     "output_type": "stream",
     "text": [
      "c:\\Program Files\\Python310\\lib\\site-packages\\keras\\src\\engine\\training.py:3079: UserWarning: You are saving your model as an HDF5 file via `model.save()`. This file format is considered legacy. We recommend using instead the native Keras format, e.g. `model.save('my_model.keras')`.\n",
      "  saving_api.save_model(\n"
     ]
    },
    {
     "name": "stdout",
     "output_type": "stream",
     "text": [
      "Epoch 1/10\n",
      "61/61 [==============================] - 12s 118ms/step - loss: 0.1724 - val_loss: 0.0630\n",
      "Epoch 2/10\n",
      "61/61 [==============================] - 5s 90ms/step - loss: 0.0357 - val_loss: 0.0567\n",
      "Epoch 3/10\n",
      "61/61 [==============================] - 5s 85ms/step - loss: 0.0160 - val_loss: 0.0504\n",
      "Epoch 4/10\n",
      "61/61 [==============================] - 5s 84ms/step - loss: 0.0105 - val_loss: 0.0356\n",
      "Epoch 5/10\n",
      "61/61 [==============================] - 5s 85ms/step - loss: 0.0065 - val_loss: 0.0286\n",
      "Epoch 6/10\n",
      "61/61 [==============================] - 5s 85ms/step - loss: 0.0057 - val_loss: 0.0254\n",
      "Epoch 7/10\n",
      "61/61 [==============================] - 5s 86ms/step - loss: 0.0045 - val_loss: 0.0155\n",
      "Epoch 8/10\n",
      "61/61 [==============================] - 5s 85ms/step - loss: 0.0041 - val_loss: 0.0110\n",
      "Epoch 9/10\n",
      "61/61 [==============================] - 5s 85ms/step - loss: 0.0038 - val_loss: 0.0063\n",
      "Epoch 10/10\n",
      "61/61 [==============================] - 5s 85ms/step - loss: 0.0035 - val_loss: 0.0102\n",
      "Model for coriander seed (old) saved to trained_models\\coriander seed (old)_model.h5.\n"
     ]
    },
    {
     "name": "stderr",
     "output_type": "stream",
     "text": [
      "c:\\Program Files\\Python310\\lib\\site-packages\\keras\\src\\engine\\training.py:3079: UserWarning: You are saving your model as an HDF5 file via `model.save()`. This file format is considered legacy. We recommend using instead the native Keras format, e.g. `model.save('my_model.keras')`.\n",
      "  saving_api.save_model(\n"
     ]
    },
    {
     "name": "stdout",
     "output_type": "stream",
     "text": [
      "Epoch 1/10\n",
      "61/61 [==============================] - 11s 105ms/step - loss: 0.0667 - val_loss: 0.0027\n",
      "Epoch 2/10\n",
      "61/61 [==============================] - 6s 91ms/step - loss: 0.0133 - val_loss: 0.0033\n",
      "Epoch 3/10\n",
      "61/61 [==============================] - 6s 95ms/step - loss: 0.0062 - val_loss: 0.0033\n",
      "Epoch 4/10\n",
      "61/61 [==============================] - 6s 91ms/step - loss: 0.0047 - val_loss: 0.0032\n",
      "Epoch 5/10\n",
      "61/61 [==============================] - 6s 91ms/step - loss: 0.0044 - val_loss: 0.0029\n",
      "Epoch 6/10\n",
      "61/61 [==============================] - 6s 92ms/step - loss: 0.0041 - val_loss: 0.0029\n",
      "Epoch 7/10\n",
      "61/61 [==============================] - 6s 92ms/step - loss: 0.0038 - val_loss: 0.0028\n",
      "Epoch 8/10\n",
      "61/61 [==============================] - 6s 93ms/step - loss: 0.0036 - val_loss: 0.0024\n",
      "Epoch 9/10\n",
      "61/61 [==============================] - 6s 93ms/step - loss: 0.0036 - val_loss: 0.0029\n",
      "Epoch 10/10\n",
      "61/61 [==============================] - 6s 93ms/step - loss: 0.0036 - val_loss: 0.0028\n",
      "Model for cumin (seed) saved to trained_models\\cumin (seed)_model.h5.\n"
     ]
    },
    {
     "name": "stderr",
     "output_type": "stream",
     "text": [
      "c:\\Program Files\\Python310\\lib\\site-packages\\keras\\src\\engine\\training.py:3079: UserWarning: You are saving your model as an HDF5 file via `model.save()`. This file format is considered legacy. We recommend using instead the native Keras format, e.g. `model.save('my_model.keras')`.\n",
      "  saving_api.save_model(\n"
     ]
    },
    {
     "name": "stdout",
     "output_type": "stream",
     "text": [
      "Epoch 1/10\n",
      "62/62 [==============================] - 12s 110ms/step - loss: 0.1702 - val_loss: 0.1772\n",
      "Epoch 2/10\n",
      "62/62 [==============================] - 6s 89ms/step - loss: 0.0402 - val_loss: 0.1688\n",
      "Epoch 3/10\n",
      "62/62 [==============================] - 6s 90ms/step - loss: 0.0281 - val_loss: 0.1387\n",
      "Epoch 4/10\n",
      "62/62 [==============================] - 5s 88ms/step - loss: 0.0236 - val_loss: 0.1512\n",
      "Epoch 5/10\n",
      "62/62 [==============================] - 6s 90ms/step - loss: 0.0217 - val_loss: 0.1278\n",
      "Epoch 6/10\n",
      "62/62 [==============================] - 6s 89ms/step - loss: 0.0206 - val_loss: 0.1116\n",
      "Epoch 7/10\n",
      "62/62 [==============================] - 6s 91ms/step - loss: 0.0203 - val_loss: 0.1146\n",
      "Epoch 8/10\n",
      "62/62 [==============================] - 6s 95ms/step - loss: 0.0196 - val_loss: 0.0836\n",
      "Epoch 9/10\n",
      "62/62 [==============================] - 6s 94ms/step - loss: 0.0193 - val_loss: 0.0743\n",
      "Epoch 10/10\n",
      "62/62 [==============================] - 6s 94ms/step - loss: 0.0193 - val_loss: 0.0723\n",
      "Model for dried chili (barisal_raypur_chandpur) - ordinary saved to trained_models\\dried chili (barisal_raypur_chandpur) - ordinary_model.h5.\n"
     ]
    },
    {
     "name": "stderr",
     "output_type": "stream",
     "text": [
      "c:\\Program Files\\Python310\\lib\\site-packages\\keras\\src\\engine\\training.py:3079: UserWarning: You are saving your model as an HDF5 file via `model.save()`. This file format is considered legacy. We recommend using instead the native Keras format, e.g. `model.save('my_model.keras')`.\n",
      "  saving_api.save_model(\n"
     ]
    },
    {
     "name": "stdout",
     "output_type": "stream",
     "text": [
      "Epoch 1/10\n",
      "62/62 [==============================] - 12s 113ms/step - loss: 0.1232 - val_loss: 0.1360\n",
      "Epoch 2/10\n",
      "62/62 [==============================] - 6s 90ms/step - loss: 0.0228 - val_loss: 0.1422\n",
      "Epoch 3/10\n",
      "62/62 [==============================] - 6s 94ms/step - loss: 0.0182 - val_loss: 0.1273\n",
      "Epoch 4/10\n",
      "62/62 [==============================] - 6s 89ms/step - loss: 0.0166 - val_loss: 0.1107\n",
      "Epoch 5/10\n",
      "62/62 [==============================] - 6s 90ms/step - loss: 0.0156 - val_loss: 0.1161\n",
      "Epoch 6/10\n",
      "62/62 [==============================] - 6s 89ms/step - loss: 0.0153 - val_loss: 0.1204\n",
      "Epoch 7/10\n",
      "62/62 [==============================] - 6s 91ms/step - loss: 0.0150 - val_loss: 0.0997\n",
      "Epoch 8/10\n",
      "62/62 [==============================] - 6s 90ms/step - loss: 0.0148 - val_loss: 0.0816\n",
      "Epoch 9/10\n",
      "62/62 [==============================] - 6s 91ms/step - loss: 0.0144 - val_loss: 0.0829\n",
      "Epoch 10/10\n",
      "62/62 [==============================] - 5s 88ms/step - loss: 0.0144 - val_loss: 0.0679\n",
      "Model for dried chili (barisal_raypur_chandpur) - superior saved to trained_models\\dried chili (barisal_raypur_chandpur) - superior_model.h5.\n"
     ]
    },
    {
     "name": "stderr",
     "output_type": "stream",
     "text": [
      "c:\\Program Files\\Python310\\lib\\site-packages\\keras\\src\\engine\\training.py:3079: UserWarning: You are saving your model as an HDF5 file via `model.save()`. This file format is considered legacy. We recommend using instead the native Keras format, e.g. `model.save('my_model.keras')`.\n",
      "  saving_api.save_model(\n"
     ]
    },
    {
     "name": "stdout",
     "output_type": "stream",
     "text": [
      "Epoch 1/10\n",
      "39/39 [==============================] - 10s 120ms/step - loss: 0.2604 - val_loss: 0.2914\n",
      "Epoch 2/10\n",
      "39/39 [==============================] - 4s 97ms/step - loss: 0.0697 - val_loss: 0.2669\n",
      "Epoch 3/10\n",
      "39/39 [==============================] - 3s 89ms/step - loss: 0.0522 - val_loss: 0.2309\n",
      "Epoch 4/10\n",
      "39/39 [==============================] - 3s 88ms/step - loss: 0.0433 - val_loss: 0.2052\n",
      "Epoch 5/10\n",
      "39/39 [==============================] - 3s 88ms/step - loss: 0.0401 - val_loss: 0.1385\n",
      "Epoch 6/10\n",
      "39/39 [==============================] - 4s 90ms/step - loss: 0.0368 - val_loss: 0.1501\n",
      "Epoch 7/10\n",
      "39/39 [==============================] - 3s 90ms/step - loss: 0.0361 - val_loss: 0.1277\n",
      "Epoch 8/10\n",
      "39/39 [==============================] - 4s 92ms/step - loss: 0.0352 - val_loss: 0.1594\n",
      "Epoch 9/10\n",
      "39/39 [==============================] - 4s 91ms/step - loss: 0.0344 - val_loss: 0.1436\n",
      "Epoch 10/10\n",
      "39/39 [==============================] - 4s 91ms/step - loss: 0.0340 - val_loss: 0.0985\n",
      "Model for dried chili (battakandi) - ordinary saved to trained_models\\dried chili (battakandi) - ordinary_model.h5.\n"
     ]
    },
    {
     "name": "stderr",
     "output_type": "stream",
     "text": [
      "c:\\Program Files\\Python310\\lib\\site-packages\\keras\\src\\engine\\training.py:3079: UserWarning: You are saving your model as an HDF5 file via `model.save()`. This file format is considered legacy. We recommend using instead the native Keras format, e.g. `model.save('my_model.keras')`.\n",
      "  saving_api.save_model(\n"
     ]
    },
    {
     "name": "stdout",
     "output_type": "stream",
     "text": [
      "Epoch 1/10\n",
      "51/51 [==============================] - 10s 111ms/step - loss: 0.3110 - val_loss: 0.4044\n",
      "Epoch 2/10\n",
      "51/51 [==============================] - 5s 93ms/step - loss: 0.0488 - val_loss: 0.3666\n",
      "Epoch 3/10\n",
      "51/51 [==============================] - 5s 93ms/step - loss: 0.0294 - val_loss: 0.3219\n",
      "Epoch 4/10\n",
      "51/51 [==============================] - 4s 87ms/step - loss: 0.0223 - val_loss: 0.2788\n",
      "Epoch 5/10\n",
      "51/51 [==============================] - 5s 92ms/step - loss: 0.0179 - val_loss: 0.2035\n",
      "Epoch 6/10\n",
      "51/51 [==============================] - 5s 89ms/step - loss: 0.0147 - val_loss: 0.2316\n",
      "Epoch 7/10\n",
      "51/51 [==============================] - 4s 88ms/step - loss: 0.0123 - val_loss: 0.1274\n",
      "Epoch 8/10\n",
      "51/51 [==============================] - 5s 92ms/step - loss: 0.0113 - val_loss: 0.1131\n",
      "Epoch 9/10\n",
      "51/51 [==============================] - 5s 95ms/step - loss: 0.0120 - val_loss: 0.0845\n",
      "Epoch 10/10\n",
      "51/51 [==============================] - 4s 87ms/step - loss: 0.0103 - val_loss: 0.0886\n",
      "Model for dried chili (battakandi) - superior saved to trained_models\\dried chili (battakandi) - superior_model.h5.\n"
     ]
    },
    {
     "name": "stderr",
     "output_type": "stream",
     "text": [
      "c:\\Program Files\\Python310\\lib\\site-packages\\keras\\src\\engine\\training.py:3079: UserWarning: You are saving your model as an HDF5 file via `model.save()`. This file format is considered legacy. We recommend using instead the native Keras format, e.g. `model.save('my_model.keras')`.\n",
      "  saving_api.save_model(\n"
     ]
    },
    {
     "name": "stdout",
     "output_type": "stream",
     "text": [
      "Epoch 1/10\n",
      "64/64 [==============================] - 12s 120ms/step - loss: 0.1085 - val_loss: 0.2815\n",
      "Epoch 2/10\n",
      "64/64 [==============================] - 7s 115ms/step - loss: 0.0242 - val_loss: 0.2417\n",
      "Epoch 3/10\n",
      "64/64 [==============================] - 6s 89ms/step - loss: 0.0171 - val_loss: 0.1868\n",
      "Epoch 4/10\n",
      "64/64 [==============================] - 7s 112ms/step - loss: 0.0154 - val_loss: 0.1596\n",
      "Epoch 5/10\n",
      "64/64 [==============================] - 8s 121ms/step - loss: 0.0139 - val_loss: 0.1452\n",
      "Epoch 6/10\n",
      "64/64 [==============================] - 6s 96ms/step - loss: 0.0136 - val_loss: 0.1346\n",
      "Epoch 7/10\n",
      "64/64 [==============================] - 6s 87ms/step - loss: 0.0132 - val_loss: 0.1240\n",
      "Epoch 8/10\n",
      "64/64 [==============================] - 6s 89ms/step - loss: 0.0125 - val_loss: 0.1021\n",
      "Epoch 9/10\n",
      "64/64 [==============================] - 6s 88ms/step - loss: 0.0124 - val_loss: 0.0796\n",
      "Epoch 10/10\n",
      "64/64 [==============================] - 6s 90ms/step - loss: 0.0123 - val_loss: 0.0691\n",
      "Model for dried chili (bogra_rangpur) - ordinary saved to trained_models\\dried chili (bogra_rangpur) - ordinary_model.h5.\n"
     ]
    },
    {
     "name": "stderr",
     "output_type": "stream",
     "text": [
      "c:\\Program Files\\Python310\\lib\\site-packages\\keras\\src\\engine\\training.py:3079: UserWarning: You are saving your model as an HDF5 file via `model.save()`. This file format is considered legacy. We recommend using instead the native Keras format, e.g. `model.save('my_model.keras')`.\n",
      "  saving_api.save_model(\n"
     ]
    },
    {
     "name": "stdout",
     "output_type": "stream",
     "text": [
      "Epoch 1/10\n",
      "63/63 [==============================] - 12s 110ms/step - loss: 0.1644 - val_loss: 0.7076\n",
      "Epoch 2/10\n",
      "63/63 [==============================] - 6s 95ms/step - loss: 0.0304 - val_loss: 0.5565\n",
      "Epoch 3/10\n",
      "63/63 [==============================] - 6s 96ms/step - loss: 0.0197 - val_loss: 0.5601\n",
      "Epoch 4/10\n",
      "63/63 [==============================] - 6s 93ms/step - loss: 0.0161 - val_loss: 0.4311\n",
      "Epoch 5/10\n",
      "63/63 [==============================] - 6s 95ms/step - loss: 0.0142 - val_loss: 0.3688\n",
      "Epoch 6/10\n",
      "63/63 [==============================] - 6s 94ms/step - loss: 0.0133 - val_loss: 0.3287\n",
      "Epoch 7/10\n",
      "63/63 [==============================] - 6s 93ms/step - loss: 0.0117 - val_loss: 0.2901\n",
      "Epoch 8/10\n",
      "63/63 [==============================] - 6s 94ms/step - loss: 0.0126 - val_loss: 0.1449\n",
      "Epoch 9/10\n",
      "63/63 [==============================] - 6s 94ms/step - loss: 0.0108 - val_loss: 0.0948\n",
      "Epoch 10/10\n",
      "63/63 [==============================] - 6s 96ms/step - loss: 0.0108 - val_loss: 0.0627\n",
      "Model for dried chili (bogra_rangpur) - superior saved to trained_models\\dried chili (bogra_rangpur) - superior_model.h5.\n"
     ]
    },
    {
     "name": "stderr",
     "output_type": "stream",
     "text": [
      "c:\\Program Files\\Python310\\lib\\site-packages\\keras\\src\\engine\\training.py:3079: UserWarning: You are saving your model as an HDF5 file via `model.save()`. This file format is considered legacy. We recommend using instead the native Keras format, e.g. `model.save('my_model.keras')`.\n",
      "  saving_api.save_model(\n"
     ]
    },
    {
     "name": "stdout",
     "output_type": "stream",
     "text": [
      "Epoch 1/10\n",
      "13/13 [==============================] - 12s 200ms/step - loss: 0.2735 - val_loss: 0.3560\n",
      "Epoch 2/10\n",
      "13/13 [==============================] - 2s 132ms/step - loss: 0.1754 - val_loss: 0.3329\n",
      "Epoch 3/10\n",
      "13/13 [==============================] - 2s 133ms/step - loss: 0.1087 - val_loss: 0.3153\n",
      "Epoch 4/10\n",
      "13/13 [==============================] - 2s 129ms/step - loss: 0.0764 - val_loss: 0.3151\n",
      "Epoch 5/10\n",
      "13/13 [==============================] - 2s 127ms/step - loss: 0.0636 - val_loss: 0.2971\n",
      "Epoch 6/10\n",
      "13/13 [==============================] - 2s 131ms/step - loss: 0.0573 - val_loss: 0.2913\n",
      "Epoch 7/10\n",
      "13/13 [==============================] - 2s 128ms/step - loss: 0.0459 - val_loss: 0.2835\n",
      "Epoch 8/10\n",
      "13/13 [==============================] - 2s 123ms/step - loss: 0.0357 - val_loss: 0.2728\n",
      "Epoch 9/10\n",
      "13/13 [==============================] - 2s 128ms/step - loss: 0.0327 - val_loss: 0.2708\n",
      "Epoch 10/10\n",
      "13/13 [==============================] - 2s 128ms/step - loss: 0.0326 - val_loss: 0.2597\n",
      "Model for dried chili (chittagong) - ordinary saved to trained_models\\dried chili (chittagong) - ordinary_model.h5.\n"
     ]
    },
    {
     "name": "stderr",
     "output_type": "stream",
     "text": [
      "c:\\Program Files\\Python310\\lib\\site-packages\\keras\\src\\engine\\training.py:3079: UserWarning: You are saving your model as an HDF5 file via `model.save()`. This file format is considered legacy. We recommend using instead the native Keras format, e.g. `model.save('my_model.keras')`.\n",
      "  saving_api.save_model(\n"
     ]
    },
    {
     "name": "stdout",
     "output_type": "stream",
     "text": [
      "Epoch 1/10\n",
      "58/58 [==============================] - 13s 142ms/step - loss: 0.2085 - val_loss: 0.2939\n",
      "Epoch 2/10\n",
      "58/58 [==============================] - 7s 126ms/step - loss: 0.0651 - val_loss: 0.2602\n",
      "Epoch 3/10\n",
      "58/58 [==============================] - 7s 123ms/step - loss: 0.0557 - val_loss: 0.2342\n",
      "Epoch 4/10\n",
      "58/58 [==============================] - 7s 122ms/step - loss: 0.0514 - val_loss: 0.2146\n",
      "Epoch 5/10\n",
      "58/58 [==============================] - 7s 122ms/step - loss: 0.0494 - val_loss: 0.1986\n",
      "Epoch 6/10\n",
      "58/58 [==============================] - 7s 123ms/step - loss: 0.0484 - val_loss: 0.1953\n",
      "Epoch 7/10\n",
      "58/58 [==============================] - 8s 132ms/step - loss: 0.0478 - val_loss: 0.2060\n",
      "Epoch 8/10\n",
      "58/58 [==============================] - 8s 134ms/step - loss: 0.0474 - val_loss: 0.2030\n",
      "Epoch 9/10\n",
      "58/58 [==============================] - 7s 125ms/step - loss: 0.0472 - val_loss: 0.1809\n",
      "Epoch 10/10\n",
      "58/58 [==============================] - 7s 123ms/step - loss: 0.0466 - val_loss: 0.1746\n",
      "Model for dried chili (local) - superior saved to trained_models\\dried chili (local) - superior_model.h5.\n"
     ]
    },
    {
     "name": "stderr",
     "output_type": "stream",
     "text": [
      "c:\\Program Files\\Python310\\lib\\site-packages\\keras\\src\\engine\\training.py:3079: UserWarning: You are saving your model as an HDF5 file via `model.save()`. This file format is considered legacy. We recommend using instead the native Keras format, e.g. `model.save('my_model.keras')`.\n",
      "  saving_api.save_model(\n"
     ]
    },
    {
     "name": "stdout",
     "output_type": "stream",
     "text": [
      "Epoch 1/10\n",
      "29/29 [==============================] - 9s 161ms/step - loss: 0.2792 - val_loss: 0.0011\n",
      "Epoch 2/10\n",
      "29/29 [==============================] - 4s 125ms/step - loss: 0.0736 - val_loss: 0.0011\n",
      "Epoch 3/10\n",
      "29/29 [==============================] - 3s 120ms/step - loss: 0.0401 - val_loss: 8.0284e-04\n",
      "Epoch 4/10\n",
      "29/29 [==============================] - 3s 120ms/step - loss: 0.0265 - val_loss: 5.8800e-04\n",
      "Epoch 5/10\n",
      "29/29 [==============================] - 3s 116ms/step - loss: 0.0221 - val_loss: 4.7282e-04\n",
      "Epoch 6/10\n",
      "29/29 [==============================] - 3s 119ms/step - loss: 0.0144 - val_loss: 3.9768e-04\n",
      "Epoch 7/10\n",
      "29/29 [==============================] - 3s 118ms/step - loss: 0.0131 - val_loss: 5.3959e-04\n",
      "Epoch 8/10\n",
      "29/29 [==============================] - 4s 124ms/step - loss: 0.0109 - val_loss: 4.8915e-04\n",
      "Epoch 9/10\n",
      "29/29 [==============================] - 3s 119ms/step - loss: 0.0118 - val_loss: 3.6216e-04\n",
      "Epoch 10/10\n",
      "29/29 [==============================] - 3s 120ms/step - loss: 0.0117 - val_loss: 3.0954e-04\n",
      "Model for fennel_aniseed saved to trained_models\\fennel_aniseed_model.h5.\n"
     ]
    },
    {
     "name": "stderr",
     "output_type": "stream",
     "text": [
      "c:\\Program Files\\Python310\\lib\\site-packages\\keras\\src\\engine\\training.py:3079: UserWarning: You are saving your model as an HDF5 file via `model.save()`. This file format is considered legacy. We recommend using instead the native Keras format, e.g. `model.save('my_model.keras')`.\n",
      "  saving_api.save_model(\n"
     ]
    },
    {
     "name": "stdout",
     "output_type": "stream",
     "text": [
      "Epoch 1/10\n",
      "57/57 [==============================] - 13s 143ms/step - loss: 0.1951 - val_loss: 7.1604e-04\n",
      "Epoch 2/10\n",
      "57/57 [==============================] - 7s 122ms/step - loss: 0.0611 - val_loss: 3.1651e-04\n",
      "Epoch 3/10\n",
      "57/57 [==============================] - 7s 122ms/step - loss: 0.0171 - val_loss: 3.0747e-04\n",
      "Epoch 4/10\n",
      "57/57 [==============================] - 7s 120ms/step - loss: 0.0102 - val_loss: 2.8169e-04\n",
      "Epoch 5/10\n",
      "57/57 [==============================] - 7s 121ms/step - loss: 0.0078 - val_loss: 2.1034e-04\n",
      "Epoch 6/10\n",
      "57/57 [==============================] - 7s 122ms/step - loss: 0.0061 - val_loss: 1.5712e-04\n",
      "Epoch 7/10\n",
      "57/57 [==============================] - 7s 122ms/step - loss: 0.0065 - val_loss: 3.1630e-04\n",
      "Epoch 8/10\n",
      "57/57 [==============================] - 7s 121ms/step - loss: 0.0048 - val_loss: 8.4307e-05\n",
      "Epoch 9/10\n",
      "57/57 [==============================] - 7s 122ms/step - loss: 0.0037 - val_loss: 1.5742e-04\n",
      "Epoch 10/10\n",
      "57/57 [==============================] - 7s 121ms/step - loss: 0.0042 - val_loss: 3.7544e-04\n",
      "Model for fenugreek(methi) saved to trained_models\\fenugreek(methi)_model.h5.\n"
     ]
    },
    {
     "name": "stderr",
     "output_type": "stream",
     "text": [
      "c:\\Program Files\\Python310\\lib\\site-packages\\keras\\src\\engine\\training.py:3079: UserWarning: You are saving your model as an HDF5 file via `model.save()`. This file format is considered legacy. We recommend using instead the native Keras format, e.g. `model.save('my_model.keras')`.\n",
      "  saving_api.save_model(\n"
     ]
    },
    {
     "name": "stdout",
     "output_type": "stream",
     "text": [
      "Epoch 1/10\n",
      "49/49 [==============================] - 12s 145ms/step - loss: 0.1409 - val_loss: 0.1282\n",
      "Epoch 2/10\n",
      "49/49 [==============================] - 6s 124ms/step - loss: 0.0184 - val_loss: 0.1305\n",
      "Epoch 3/10\n",
      "49/49 [==============================] - 6s 119ms/step - loss: 0.0099 - val_loss: 0.1289\n",
      "Epoch 4/10\n",
      "49/49 [==============================] - 6s 118ms/step - loss: 0.0076 - val_loss: 0.1149\n",
      "Epoch 5/10\n",
      "49/49 [==============================] - 6s 119ms/step - loss: 0.0067 - val_loss: 0.1061\n",
      "Epoch 6/10\n",
      "49/49 [==============================] - 6s 119ms/step - loss: 0.0056 - val_loss: 0.0979\n",
      "Epoch 7/10\n",
      "49/49 [==============================] - 6s 127ms/step - loss: 0.0047 - val_loss: 0.0808\n",
      "Epoch 8/10\n",
      "49/49 [==============================] - 6s 120ms/step - loss: 0.0042 - val_loss: 0.0748\n",
      "Epoch 9/10\n",
      "49/49 [==============================] - 6s 119ms/step - loss: 0.0044 - val_loss: 0.0714\n",
      "Epoch 10/10\n",
      "49/49 [==============================] - 6s 119ms/step - loss: 0.0041 - val_loss: 0.0647\n",
      "Model for garlic - one piece saved to trained_models\\garlic - one piece_model.h5.\n"
     ]
    },
    {
     "name": "stderr",
     "output_type": "stream",
     "text": [
      "c:\\Program Files\\Python310\\lib\\site-packages\\keras\\src\\engine\\training.py:3079: UserWarning: You are saving your model as an HDF5 file via `model.save()`. This file format is considered legacy. We recommend using instead the native Keras format, e.g. `model.save('my_model.keras')`.\n",
      "  saving_api.save_model(\n"
     ]
    },
    {
     "name": "stdout",
     "output_type": "stream",
     "text": [
      "Epoch 1/10\n",
      "68/68 [==============================] - 14s 143ms/step - loss: 0.1097 - val_loss: 0.0100\n",
      "Epoch 2/10\n",
      "68/68 [==============================] - 8s 124ms/step - loss: 0.0223 - val_loss: 0.0087\n",
      "Epoch 3/10\n",
      "68/68 [==============================] - 8s 122ms/step - loss: 0.0096 - val_loss: 0.0054\n",
      "Epoch 4/10\n",
      "68/68 [==============================] - 8s 125ms/step - loss: 0.0061 - val_loss: 0.0051\n",
      "Epoch 5/10\n",
      "68/68 [==============================] - 8s 122ms/step - loss: 0.0038 - val_loss: 0.0032\n",
      "Epoch 6/10\n",
      "68/68 [==============================] - 8s 123ms/step - loss: 0.0034 - val_loss: 0.0034\n",
      "Epoch 7/10\n",
      "68/68 [==============================] - 8s 121ms/step - loss: 0.0031 - val_loss: 0.0023\n",
      "Epoch 8/10\n",
      "68/68 [==============================] - 8s 122ms/step - loss: 0.0024 - val_loss: 0.0019\n",
      "Epoch 9/10\n",
      "68/68 [==============================] - 8s 121ms/step - loss: 0.0024 - val_loss: 0.0029\n",
      "Epoch 10/10\n",
      "68/68 [==============================] - 8s 121ms/step - loss: 0.0021 - val_loss: 0.0018\n",
      "Model for ginger (local) - old saved to trained_models\\ginger (local) - old_model.h5.\n"
     ]
    },
    {
     "name": "stderr",
     "output_type": "stream",
     "text": [
      "c:\\Program Files\\Python310\\lib\\site-packages\\keras\\src\\engine\\training.py:3079: UserWarning: You are saving your model as an HDF5 file via `model.save()`. This file format is considered legacy. We recommend using instead the native Keras format, e.g. `model.save('my_model.keras')`.\n",
      "  saving_api.save_model(\n"
     ]
    },
    {
     "name": "stdout",
     "output_type": "stream",
     "text": [
      "Epoch 1/10\n",
      "4/4 [==============================] - 6s 500ms/step - loss: 0.4815 - val_loss: 0.0015\n",
      "Epoch 2/10\n",
      "4/4 [==============================] - 0s 117ms/step - loss: 0.4454 - val_loss: 0.0022\n",
      "Epoch 3/10\n",
      "4/4 [==============================] - 0s 117ms/step - loss: 0.1888 - val_loss: 0.0030\n",
      "Epoch 4/10\n",
      "4/4 [==============================] - 0s 112ms/step - loss: 0.1446 - val_loss: 0.0037\n",
      "Epoch 5/10\n",
      "4/4 [==============================] - 0s 114ms/step - loss: 0.1387 - val_loss: 0.0049\n",
      "Epoch 6/10\n",
      "4/4 [==============================] - 0s 123ms/step - loss: 0.1034 - val_loss: 0.0062\n",
      "Epoch 7/10\n",
      "4/4 [==============================] - 1s 136ms/step - loss: 0.0951 - val_loss: 0.0064\n",
      "Epoch 8/10\n",
      "4/4 [==============================] - 1s 152ms/step - loss: 0.0801 - val_loss: 0.0059\n",
      "Epoch 9/10\n",
      "4/4 [==============================] - 1s 126ms/step - loss: 0.0708 - val_loss: 0.0056\n",
      "Epoch 10/10\n",
      "4/4 [==============================] - 0s 128ms/step - loss: 0.0699 - val_loss: 0.0057\n",
      "Model for khoayr (catechu) - ordinary saved to trained_models\\khoayr (catechu) - ordinary_model.h5.\n"
     ]
    },
    {
     "name": "stderr",
     "output_type": "stream",
     "text": [
      "c:\\Program Files\\Python310\\lib\\site-packages\\keras\\src\\engine\\training.py:3079: UserWarning: You are saving your model as an HDF5 file via `model.save()`. This file format is considered legacy. We recommend using instead the native Keras format, e.g. `model.save('my_model.keras')`.\n",
      "  saving_api.save_model(\n"
     ]
    },
    {
     "name": "stdout",
     "output_type": "stream",
     "text": [
      "Epoch 1/10\n",
      "20/20 [==============================] - 8s 163ms/step - loss: 0.2060 - val_loss: 0.0119\n",
      "Epoch 2/10\n",
      "20/20 [==============================] - 2s 102ms/step - loss: 0.1334 - val_loss: 0.0112\n",
      "Epoch 3/10\n",
      "20/20 [==============================] - 2s 95ms/step - loss: 0.0591 - val_loss: 0.0109\n",
      "Epoch 4/10\n",
      "20/20 [==============================] - 2s 93ms/step - loss: 0.0350 - val_loss: 0.0106\n",
      "Epoch 5/10\n",
      "20/20 [==============================] - 2s 95ms/step - loss: 0.0309 - val_loss: 0.0100\n",
      "Epoch 6/10\n",
      "20/20 [==============================] - 2s 96ms/step - loss: 0.0285 - val_loss: 0.0093\n",
      "Epoch 7/10\n",
      "20/20 [==============================] - 2s 96ms/step - loss: 0.0183 - val_loss: 0.0085\n",
      "Epoch 8/10\n",
      "20/20 [==============================] - 2s 96ms/step - loss: 0.0190 - val_loss: 0.0077\n",
      "Epoch 9/10\n",
      "20/20 [==============================] - 2s 95ms/step - loss: 0.0180 - val_loss: 0.0069\n",
      "Epoch 10/10\n",
      "20/20 [==============================] - 2s 97ms/step - loss: 0.0159 - val_loss: 0.0058\n",
      "Model for khoayr (catechu) - superior quality saved to trained_models\\khoayr (catechu) - superior quality_model.h5.\n"
     ]
    },
    {
     "name": "stderr",
     "output_type": "stream",
     "text": [
      "c:\\Program Files\\Python310\\lib\\site-packages\\keras\\src\\engine\\training.py:3079: UserWarning: You are saving your model as an HDF5 file via `model.save()`. This file format is considered legacy. We recommend using instead the native Keras format, e.g. `model.save('my_model.keras')`.\n",
      "  saving_api.save_model(\n"
     ]
    },
    {
     "name": "stdout",
     "output_type": "stream",
     "text": [
      "Epoch 1/10\n",
      "66/66 [==============================] - 11s 107ms/step - loss: 0.2764 - val_loss: 0.2796\n",
      "Epoch 2/10\n",
      "66/66 [==============================] - 6s 96ms/step - loss: 0.0765 - val_loss: 0.2523\n",
      "Epoch 3/10\n",
      "66/66 [==============================] - 6s 96ms/step - loss: 0.0618 - val_loss: 0.2131\n",
      "Epoch 4/10\n",
      "66/66 [==============================] - 6s 96ms/step - loss: 0.0551 - val_loss: 0.1901\n",
      "Epoch 5/10\n",
      "66/66 [==============================] - 7s 106ms/step - loss: 0.0522 - val_loss: 0.1912\n",
      "Epoch 6/10\n",
      "66/66 [==============================] - 6s 96ms/step - loss: 0.0517 - val_loss: 0.1745\n",
      "Epoch 7/10\n",
      "66/66 [==============================] - 6s 95ms/step - loss: 0.0497 - val_loss: 0.1819\n",
      "Epoch 8/10\n",
      "66/66 [==============================] - 6s 95ms/step - loss: 0.0494 - val_loss: 0.1590\n",
      "Epoch 9/10\n",
      "66/66 [==============================] - 6s 98ms/step - loss: 0.0484 - val_loss: 0.1489\n",
      "Epoch 10/10\n",
      "66/66 [==============================] - 6s 96ms/step - loss: 0.0486 - val_loss: 0.1511\n",
      "Model for turmeric (local) - long (superior) saved to trained_models\\turmeric (local) - long (superior)_model.h5.\n"
     ]
    },
    {
     "name": "stderr",
     "output_type": "stream",
     "text": [
      "c:\\Program Files\\Python310\\lib\\site-packages\\keras\\src\\engine\\training.py:3079: UserWarning: You are saving your model as an HDF5 file via `model.save()`. This file format is considered legacy. We recommend using instead the native Keras format, e.g. `model.save('my_model.keras')`.\n",
      "  saving_api.save_model(\n"
     ]
    },
    {
     "name": "stdout",
     "output_type": "stream",
     "text": [
      "Epoch 1/10\n",
      "57/57 [==============================] - 12s 119ms/step - loss: 0.2163 - val_loss: 0.2193\n",
      "Epoch 2/10\n",
      "57/57 [==============================] - 6s 97ms/step - loss: 0.0682 - val_loss: 0.1970\n",
      "Epoch 3/10\n",
      "57/57 [==============================] - 6s 101ms/step - loss: 0.0550 - val_loss: 0.1863\n",
      "Epoch 4/10\n",
      "57/57 [==============================] - 5s 96ms/step - loss: 0.0501 - val_loss: 0.1704\n",
      "Epoch 5/10\n",
      "57/57 [==============================] - 6s 98ms/step - loss: 0.0478 - val_loss: 0.1543\n",
      "Epoch 6/10\n",
      "57/57 [==============================] - 6s 99ms/step - loss: 0.0469 - val_loss: 0.1557\n",
      "Epoch 7/10\n",
      "57/57 [==============================] - 5s 96ms/step - loss: 0.0461 - val_loss: 0.1532\n",
      "Epoch 8/10\n",
      "57/57 [==============================] - 6s 98ms/step - loss: 0.0456 - val_loss: 0.1461\n",
      "Epoch 9/10\n",
      "57/57 [==============================] - 6s 100ms/step - loss: 0.0452 - val_loss: 0.1368\n",
      "Epoch 10/10\n",
      "57/57 [==============================] - 6s 98ms/step - loss: 0.0452 - val_loss: 0.1394\n",
      "Model for turmeric (local) - round (ordinary) saved to trained_models\\turmeric (local) - round (ordinary)_model.h5.\n"
     ]
    },
    {
     "name": "stderr",
     "output_type": "stream",
     "text": [
      "c:\\Program Files\\Python310\\lib\\site-packages\\keras\\src\\engine\\training.py:3079: UserWarning: You are saving your model as an HDF5 file via `model.save()`. This file format is considered legacy. We recommend using instead the native Keras format, e.g. `model.save('my_model.keras')`.\n",
      "  saving_api.save_model(\n"
     ]
    },
    {
     "name": "stdout",
     "output_type": "stream",
     "text": [
      "Epoch 1/10\n",
      "39/39 [==============================] - 9s 122ms/step - loss: 0.2479 - val_loss: 0.3008\n",
      "Epoch 2/10\n",
      "39/39 [==============================] - 4s 95ms/step - loss: 0.0646 - val_loss: 0.2912\n",
      "Epoch 3/10\n",
      "39/39 [==============================] - 4s 92ms/step - loss: 0.0425 - val_loss: 0.2789\n",
      "Epoch 4/10\n",
      "39/39 [==============================] - 4s 95ms/step - loss: 0.0387 - val_loss: 0.2567\n",
      "Epoch 5/10\n",
      "39/39 [==============================] - 4s 91ms/step - loss: 0.0360 - val_loss: 0.2491\n",
      "Epoch 6/10\n",
      "39/39 [==============================] - 4s 91ms/step - loss: 0.0342 - val_loss: 0.2440\n",
      "Epoch 7/10\n",
      "39/39 [==============================] - 4s 93ms/step - loss: 0.0333 - val_loss: 0.2105\n",
      "Epoch 8/10\n",
      "39/39 [==============================] - 4s 92ms/step - loss: 0.0328 - val_loss: 0.2228\n",
      "Epoch 9/10\n",
      "39/39 [==============================] - 4s 94ms/step - loss: 0.0317 - val_loss: 0.2185\n",
      "Epoch 10/10\n",
      "39/39 [==============================] - 4s 93ms/step - loss: 0.0317 - val_loss: 0.2040\n",
      "Model for turmeric (local) - round (superior) saved to trained_models\\turmeric (local) - round (superior)_model.h5.\n"
     ]
    },
    {
     "name": "stderr",
     "output_type": "stream",
     "text": [
      "c:\\Program Files\\Python310\\lib\\site-packages\\keras\\src\\engine\\training.py:3079: UserWarning: You are saving your model as an HDF5 file via `model.save()`. This file format is considered legacy. We recommend using instead the native Keras format, e.g. `model.save('my_model.keras')`.\n",
      "  saving_api.save_model(\n"
     ]
    },
    {
     "name": "stdout",
     "output_type": "stream",
     "text": [
      "Epoch 1/10\n",
      "56/56 [==============================] - 11s 117ms/step - loss: 0.0686 - val_loss: 0.0608\n",
      "Epoch 2/10\n",
      "56/56 [==============================] - 5s 90ms/step - loss: 0.0212 - val_loss: 0.0597\n",
      "Epoch 3/10\n",
      "56/56 [==============================] - 5s 90ms/step - loss: 0.0100 - val_loss: 0.0580\n",
      "Epoch 4/10\n",
      "56/56 [==============================] - 5s 88ms/step - loss: 0.0053 - val_loss: 0.0574\n",
      "Epoch 5/10\n",
      "56/56 [==============================] - 5s 88ms/step - loss: 0.0036 - val_loss: 0.0557\n",
      "Epoch 6/10\n",
      "56/56 [==============================] - 5s 91ms/step - loss: 0.0032 - val_loss: 0.0568\n",
      "Epoch 7/10\n",
      "56/56 [==============================] - 5s 91ms/step - loss: 0.0015 - val_loss: 0.0560\n",
      "Epoch 8/10\n",
      "56/56 [==============================] - 6s 100ms/step - loss: 0.0014 - val_loss: 0.0572\n",
      "Epoch 9/10\n",
      "56/56 [==============================] - 5s 90ms/step - loss: 0.0014 - val_loss: 0.0517\n",
      "Epoch 10/10\n",
      "56/56 [==============================] - 5s 89ms/step - loss: 0.0012 - val_loss: 0.0483\n",
      "Model for zain saved to trained_models\\zain_model.h5.\n"
     ]
    },
    {
     "name": "stderr",
     "output_type": "stream",
     "text": [
      "c:\\Program Files\\Python310\\lib\\site-packages\\keras\\src\\engine\\training.py:3079: UserWarning: You are saving your model as an HDF5 file via `model.save()`. This file format is considered legacy. We recommend using instead the native Keras format, e.g. `model.save('my_model.keras')`.\n",
      "  saving_api.save_model(\n"
     ]
    },
    {
     "name": "stdout",
     "output_type": "stream",
     "text": [
      "Epoch 1/10\n",
      "54/54 [==============================] - 11s 112ms/step - loss: 0.1897 - val_loss: 0.4015\n",
      "Epoch 2/10\n",
      "54/54 [==============================] - 5s 93ms/step - loss: 0.0349 - val_loss: 0.3523\n",
      "Epoch 3/10\n",
      "54/54 [==============================] - 5s 92ms/step - loss: 0.0204 - val_loss: 0.3315\n",
      "Epoch 4/10\n",
      "54/54 [==============================] - 5s 91ms/step - loss: 0.0137 - val_loss: 0.2615\n",
      "Epoch 5/10\n",
      "54/54 [==============================] - 5s 88ms/step - loss: 0.0122 - val_loss: 0.2263\n",
      "Epoch 6/10\n",
      "54/54 [==============================] - 5s 89ms/step - loss: 0.0090 - val_loss: 0.2153\n",
      "Epoch 7/10\n",
      "54/54 [==============================] - 5s 91ms/step - loss: 0.0083 - val_loss: 0.2030\n",
      "Epoch 8/10\n",
      "54/54 [==============================] - 5s 91ms/step - loss: 0.0081 - val_loss: 0.1305\n",
      "Epoch 9/10\n",
      "54/54 [==============================] - 5s 91ms/step - loss: 0.0079 - val_loss: 0.1033\n",
      "Epoch 10/10\n",
      "54/54 [==============================] - 5s 90ms/step - loss: 0.0065 - val_loss: 0.0605\n",
      "Model for dried chili (chittagong) - superior saved to trained_models\\dried chili (chittagong) - superior_model.h5.\n"
     ]
    },
    {
     "name": "stderr",
     "output_type": "stream",
     "text": [
      "c:\\Program Files\\Python310\\lib\\site-packages\\keras\\src\\engine\\training.py:3079: UserWarning: You are saving your model as an HDF5 file via `model.save()`. This file format is considered legacy. We recommend using instead the native Keras format, e.g. `model.save('my_model.keras')`.\n",
      "  saving_api.save_model(\n"
     ]
    },
    {
     "name": "stdout",
     "output_type": "stream",
     "text": [
      "Epoch 1/10\n",
      "46/46 [==============================] - 10s 116ms/step - loss: 0.1017 - val_loss: 0.0306\n",
      "Epoch 2/10\n",
      "46/46 [==============================] - 4s 95ms/step - loss: 0.0156 - val_loss: 0.0276\n",
      "Epoch 3/10\n",
      "46/46 [==============================] - 4s 95ms/step - loss: 0.0093 - val_loss: 0.0229\n",
      "Epoch 4/10\n",
      "46/46 [==============================] - 4s 92ms/step - loss: 0.0063 - val_loss: 0.0208\n",
      "Epoch 5/10\n",
      "46/46 [==============================] - 4s 92ms/step - loss: 0.0046 - val_loss: 0.0204\n",
      "Epoch 6/10\n",
      "46/46 [==============================] - 4s 93ms/step - loss: 0.0038 - val_loss: 0.0163\n",
      "Epoch 7/10\n",
      "46/46 [==============================] - 4s 93ms/step - loss: 0.0034 - val_loss: 0.0128\n",
      "Epoch 8/10\n",
      "46/46 [==============================] - 4s 93ms/step - loss: 0.0032 - val_loss: 0.0117\n",
      "Epoch 9/10\n",
      "46/46 [==============================] - 4s 93ms/step - loss: 0.0028 - val_loss: 0.0120\n",
      "Epoch 10/10\n",
      "46/46 [==============================] - 4s 95ms/step - loss: 0.0028 - val_loss: 0.0084\n",
      "Model for onion (new) saved to trained_models\\onion (new)_model.h5.\n"
     ]
    },
    {
     "name": "stderr",
     "output_type": "stream",
     "text": [
      "c:\\Program Files\\Python310\\lib\\site-packages\\keras\\src\\engine\\training.py:3079: UserWarning: You are saving your model as an HDF5 file via `model.save()`. This file format is considered legacy. We recommend using instead the native Keras format, e.g. `model.save('my_model.keras')`.\n",
      "  saving_api.save_model(\n"
     ]
    },
    {
     "name": "stdout",
     "output_type": "stream",
     "text": [
      "Epoch 1/10\n",
      "46/46 [==============================] - 10s 114ms/step - loss: 0.1458 - val_loss: 0.5522\n",
      "Epoch 2/10\n",
      "46/46 [==============================] - 4s 95ms/step - loss: 0.0300 - val_loss: 0.5113\n",
      "Epoch 3/10\n",
      "46/46 [==============================] - 4s 93ms/step - loss: 0.0182 - val_loss: 0.4441\n",
      "Epoch 4/10\n",
      "46/46 [==============================] - 4s 91ms/step - loss: 0.0148 - val_loss: 0.3992\n",
      "Epoch 5/10\n",
      "46/46 [==============================] - 4s 97ms/step - loss: 0.0129 - val_loss: 0.3222\n",
      "Epoch 6/10\n",
      "46/46 [==============================] - 4s 95ms/step - loss: 0.0107 - val_loss: 0.3657\n",
      "Epoch 7/10\n",
      "46/46 [==============================] - 4s 93ms/step - loss: 0.0076 - val_loss: 0.2718\n",
      "Epoch 8/10\n",
      "46/46 [==============================] - 5s 114ms/step - loss: 0.0083 - val_loss: 0.3392\n",
      "Epoch 9/10\n",
      "46/46 [==============================] - 4s 92ms/step - loss: 0.0082 - val_loss: 0.2405\n",
      "Epoch 10/10\n",
      "46/46 [==============================] - 4s 91ms/step - loss: 0.0067 - val_loss: 0.2440\n",
      "Model for dry chilli saved to trained_models\\dry chilli_model.h5."
     ]
    },
    {
     "name": "stderr",
     "output_type": "stream",
     "text": [
      "c:\\Program Files\\Python310\\lib\\site-packages\\keras\\src\\engine\\training.py:3079: UserWarning: You are saving your model as an HDF5 file via `model.save()`. This file format is considered legacy. We recommend using instead the native Keras format, e.g. `model.save('my_model.keras')`.\n",
      "  saving_api.save_model(\n"
     ]
    },
    {
     "name": "stdout",
     "output_type": "stream",
     "text": [
      "\n",
      "Epoch 1/10\n",
      "20/20 [==============================] - 8s 151ms/step - loss: 0.6767 - val_loss: 0.1366\n",
      "Epoch 2/10\n",
      "20/20 [==============================] - 2s 90ms/step - loss: 0.1755 - val_loss: 0.1418\n",
      "Epoch 3/10\n",
      "20/20 [==============================] - 2s 99ms/step - loss: 0.0970 - val_loss: 0.1431\n",
      "Epoch 4/10\n",
      "20/20 [==============================] - 2s 101ms/step - loss: 0.0669 - val_loss: 0.1424\n",
      "Epoch 5/10\n",
      "20/20 [==============================] - 2s 103ms/step - loss: 0.0394 - val_loss: 0.1393\n",
      "Epoch 6/10\n",
      "20/20 [==============================] - 2s 101ms/step - loss: 0.0377 - val_loss: 0.1328\n",
      "Epoch 7/10\n",
      "20/20 [==============================] - 2s 90ms/step - loss: 0.0287 - val_loss: 0.1299\n",
      "Epoch 8/10\n",
      "20/20 [==============================] - 2s 89ms/step - loss: 0.0216 - val_loss: 0.1255\n",
      "Epoch 9/10\n",
      "20/20 [==============================] - 2s 90ms/step - loss: 0.0199 - val_loss: 0.1236\n",
      "Epoch 10/10\n",
      "20/20 [==============================] - 2s 98ms/step - loss: 0.0190 - val_loss: 0.1195\n",
      "Model for green chili saved to trained_models\\green chili_model.h5.\n"
     ]
    },
    {
     "name": "stderr",
     "output_type": "stream",
     "text": [
      "c:\\Program Files\\Python310\\lib\\site-packages\\keras\\src\\engine\\training.py:3079: UserWarning: You are saving your model as an HDF5 file via `model.save()`. This file format is considered legacy. We recommend using instead the native Keras format, e.g. `model.save('my_model.keras')`.\n",
      "  saving_api.save_model(\n",
      "d:\\Projects\\market price\\training_model\\model.py:18: FutureWarning: DataFrame.interpolate with object dtype is deprecated and will raise in a future version. Call obj.infer_objects(copy=False) before interpolating instead.\n",
      "  pivot_df = pivot_df.interpolate(method='linear', axis=0).fillna(method='bfill').fillna(method='ffill')\n",
      "d:\\Projects\\market price\\training_model\\model.py:18: FutureWarning: DataFrame.fillna with 'method' is deprecated and will raise in a future version. Use obj.ffill() or obj.bfill() instead.\n",
      "  pivot_df = pivot_df.interpolate(method='linear', axis=0).fillna(method='bfill').fillna(method='ffill')\n"
     ]
    },
    {
     "name": "stdout",
     "output_type": "stream",
     "text": [
      "Epoch 1/10\n",
      "31/31 [==============================] - 9s 132ms/step - loss: 0.3075 - val_loss: 0.3590\n",
      "Epoch 2/10\n",
      "31/31 [==============================] - 3s 95ms/step - loss: 0.1286 - val_loss: 0.3134\n",
      "Epoch 3/10\n",
      "31/31 [==============================] - 3s 89ms/step - loss: 0.0633 - val_loss: 0.3093\n",
      "Epoch 4/10\n",
      "31/31 [==============================] - 3s 90ms/step - loss: 0.0397 - val_loss: 0.2635\n",
      "Epoch 5/10\n",
      "31/31 [==============================] - 3s 89ms/step - loss: 0.0352 - val_loss: 0.2363\n",
      "Epoch 6/10\n",
      "31/31 [==============================] - 3s 86ms/step - loss: 0.0269 - val_loss: 0.1583\n",
      "Epoch 7/10\n",
      "31/31 [==============================] - 3s 90ms/step - loss: 0.0232 - val_loss: 0.1568\n",
      "Epoch 8/10\n",
      "31/31 [==============================] - 3s 92ms/step - loss: 0.0201 - val_loss: 0.1198\n",
      "Epoch 9/10\n",
      "31/31 [==============================] - 3s 88ms/step - loss: 0.0195 - val_loss: 0.0966\n",
      "Epoch 10/10\n",
      "31/31 [==============================] - 3s 90ms/step - loss: 0.0171 - val_loss: 0.0548\n",
      "Model for motihar tobacco - medium saved to trained_models\\motihar tobacco - medium_model.h5.\n"
     ]
    },
    {
     "name": "stderr",
     "output_type": "stream",
     "text": [
      "c:\\Program Files\\Python310\\lib\\site-packages\\keras\\src\\engine\\training.py:3079: UserWarning: You are saving your model as an HDF5 file via `model.save()`. This file format is considered legacy. We recommend using instead the native Keras format, e.g. `model.save('my_model.keras')`.\n",
      "  saving_api.save_model(\n"
     ]
    },
    {
     "name": "stdout",
     "output_type": "stream",
     "text": [
      "Epoch 1/10\n",
      "31/31 [==============================] - 9s 122ms/step - loss: 0.2907 - val_loss: 0.2905\n",
      "Epoch 2/10\n",
      "31/31 [==============================] - 3s 90ms/step - loss: 0.0586 - val_loss: 0.2561\n",
      "Epoch 3/10\n",
      "31/31 [==============================] - 3s 89ms/step - loss: 0.0394 - val_loss: 0.2516\n",
      "Epoch 4/10\n",
      "31/31 [==============================] - 3s 86ms/step - loss: 0.0328 - val_loss: 0.2398\n",
      "Epoch 5/10\n",
      "31/31 [==============================] - 3s 87ms/step - loss: 0.0244 - val_loss: 0.2248\n",
      "Epoch 6/10\n",
      "31/31 [==============================] - 3s 88ms/step - loss: 0.0243 - val_loss: 0.1880\n",
      "Epoch 7/10\n",
      "31/31 [==============================] - 3s 87ms/step - loss: 0.0216 - val_loss: 0.1397\n",
      "Epoch 8/10\n",
      "31/31 [==============================] - 3s 87ms/step - loss: 0.0214 - val_loss: 0.1394\n",
      "Epoch 9/10\n",
      "31/31 [==============================] - 3s 88ms/step - loss: 0.0181 - val_loss: 0.0980\n",
      "Epoch 10/10\n",
      "31/31 [==============================] - 3s 87ms/step - loss: 0.0178 - val_loss: 0.0849\n",
      "Model for motihar tobacco - ordinary saved to trained_models\\motihar tobacco - ordinary_model.h5.\n"
     ]
    },
    {
     "name": "stderr",
     "output_type": "stream",
     "text": [
      "c:\\Program Files\\Python310\\lib\\site-packages\\keras\\src\\engine\\training.py:3079: UserWarning: You are saving your model as an HDF5 file via `model.save()`. This file format is considered legacy. We recommend using instead the native Keras format, e.g. `model.save('my_model.keras')`.\n",
      "  saving_api.save_model(\n"
     ]
    },
    {
     "name": "stdout",
     "output_type": "stream",
     "text": [
      "Epoch 1/10\n",
      "3/3 [==============================] - 7s 670ms/step - loss: 0.4467 - val_loss: 0.1863\n",
      "Epoch 2/10\n",
      "3/3 [==============================] - 0s 85ms/step - loss: 0.4961 - val_loss: 0.1927\n",
      "Epoch 3/10\n",
      "3/3 [==============================] - 0s 82ms/step - loss: 0.3175 - val_loss: 0.1954\n",
      "Epoch 4/10\n",
      "3/3 [==============================] - 0s 81ms/step - loss: 0.4202 - val_loss: 0.1940\n",
      "Epoch 5/10\n",
      "3/3 [==============================] - 0s 81ms/step - loss: 0.3231 - val_loss: 0.1895\n",
      "Epoch 6/10\n",
      "3/3 [==============================] - 0s 84ms/step - loss: 0.3374 - val_loss: 0.1890\n",
      "Epoch 7/10\n",
      "3/3 [==============================] - 0s 85ms/step - loss: 0.2912 - val_loss: 0.1862\n",
      "Epoch 8/10\n",
      "3/3 [==============================] - 0s 83ms/step - loss: 0.3359 - val_loss: 0.1837\n",
      "Epoch 9/10\n",
      "3/3 [==============================] - 0s 75ms/step - loss: 0.2422 - val_loss: 0.1813\n",
      "Epoch 10/10\n",
      "3/3 [==============================] - 0s 77ms/step - loss: 0.2359 - val_loss: 0.1738\n",
      "Model for jati tobacco - medium saved to trained_models\\jati tobacco - medium_model.h5.\n"
     ]
    },
    {
     "name": "stderr",
     "output_type": "stream",
     "text": [
      "c:\\Program Files\\Python310\\lib\\site-packages\\keras\\src\\engine\\training.py:3079: UserWarning: You are saving your model as an HDF5 file via `model.save()`. This file format is considered legacy. We recommend using instead the native Keras format, e.g. `model.save('my_model.keras')`.\n",
      "  saving_api.save_model(\n"
     ]
    },
    {
     "name": "stdout",
     "output_type": "stream",
     "text": [
      "Epoch 1/10\n",
      "3/3 [==============================] - 11s 523ms/step - loss: 2.5936 - val_loss: 0.8394\n",
      "Epoch 2/10\n",
      "3/3 [==============================] - 0s 90ms/step - loss: 1.2514 - val_loss: 0.7548\n",
      "Epoch 3/10\n",
      "3/3 [==============================] - 0s 87ms/step - loss: 0.6744 - val_loss: 0.7042\n",
      "Epoch 4/10\n",
      "3/3 [==============================] - 0s 100ms/step - loss: 0.5045 - val_loss: 0.6430\n",
      "Epoch 5/10\n",
      "3/3 [==============================] - 0s 90ms/step - loss: 0.4790 - val_loss: 0.6144\n",
      "Epoch 6/10\n",
      "3/3 [==============================] - 0s 100ms/step - loss: 0.4359 - val_loss: 0.5889\n",
      "Epoch 7/10\n",
      "3/3 [==============================] - 0s 104ms/step - loss: 0.5539 - val_loss: 0.5675\n",
      "Epoch 8/10\n",
      "3/3 [==============================] - 0s 105ms/step - loss: 0.4141 - val_loss: 0.5849\n",
      "Epoch 9/10\n",
      "3/3 [==============================] - 0s 117ms/step - loss: 0.4287 - val_loss: 0.6104\n",
      "Epoch 10/10\n",
      "3/3 [==============================] - 0s 141ms/step - loss: 0.4083 - val_loss: 0.6394\n",
      "Model for jati tobacco - super quality saved to trained_models\\jati tobacco - super quality_model.h5.\n"
     ]
    },
    {
     "name": "stderr",
     "output_type": "stream",
     "text": [
      "c:\\Program Files\\Python310\\lib\\site-packages\\keras\\src\\engine\\training.py:3079: UserWarning: You are saving your model as an HDF5 file via `model.save()`. This file format is considered legacy. We recommend using instead the native Keras format, e.g. `model.save('my_model.keras')`.\n",
      "  saving_api.save_model(\n"
     ]
    },
    {
     "name": "stdout",
     "output_type": "stream",
     "text": [
      "Epoch 1/10\n",
      "3/3 [==============================] - 6s 724ms/step - loss: 0.4124 - val_loss: 0.0118\n",
      "Epoch 2/10\n",
      "3/3 [==============================] - 0s 127ms/step - loss: 0.3814 - val_loss: 0.0125\n",
      "Epoch 3/10\n",
      "3/3 [==============================] - 0s 113ms/step - loss: 0.3718 - val_loss: 0.0124\n",
      "Epoch 4/10\n",
      "3/3 [==============================] - 0s 107ms/step - loss: 0.4269 - val_loss: 0.0116\n",
      "Epoch 5/10\n",
      "3/3 [==============================] - 0s 107ms/step - loss: 0.1970 - val_loss: 0.0107\n",
      "Epoch 6/10\n",
      "3/3 [==============================] - 0s 105ms/step - loss: 0.2290 - val_loss: 0.0110\n",
      "Epoch 7/10\n",
      "3/3 [==============================] - 0s 96ms/step - loss: 0.2355 - val_loss: 0.0106\n",
      "Epoch 8/10\n",
      "3/3 [==============================] - 0s 100ms/step - loss: 0.1792 - val_loss: 0.0100\n",
      "Epoch 9/10\n",
      "3/3 [==============================] - 0s 104ms/step - loss: 0.2796 - val_loss: 0.0098\n",
      "Epoch 10/10\n",
      "3/3 [==============================] - 0s 105ms/step - loss: 0.2364 - val_loss: 0.0091\n",
      "Model for jati tobacco - ordinary saved to trained_models\\jati tobacco - ordinary_model.h5.\n"
     ]
    },
    {
     "name": "stderr",
     "output_type": "stream",
     "text": [
      "c:\\Program Files\\Python310\\lib\\site-packages\\keras\\src\\engine\\training.py:3079: UserWarning: You are saving your model as an HDF5 file via `model.save()`. This file format is considered legacy. We recommend using instead the native Keras format, e.g. `model.save('my_model.keras')`.\n",
      "  saving_api.save_model(\n"
     ]
    },
    {
     "name": "stdout",
     "output_type": "stream",
     "text": [
      "Epoch 1/10\n",
      "27/27 [==============================] - 10s 180ms/step - loss: 0.1880 - val_loss: 0.0070\n",
      "Epoch 2/10\n",
      "27/27 [==============================] - 4s 143ms/step - loss: 0.0602 - val_loss: 0.0056\n",
      "Epoch 3/10\n",
      "27/27 [==============================] - 4s 135ms/step - loss: 0.0423 - val_loss: 0.0022\n",
      "Epoch 4/10\n",
      "27/27 [==============================] - 4s 137ms/step - loss: 0.0308 - val_loss: 0.0021\n",
      "Epoch 5/10\n",
      "27/27 [==============================] - 4s 133ms/step - loss: 0.0279 - val_loss: 0.0013\n",
      "Epoch 6/10\n",
      "27/27 [==============================] - 4s 136ms/step - loss: 0.0274 - val_loss: 6.0679e-04\n",
      "Epoch 7/10\n",
      "27/27 [==============================] - 4s 137ms/step - loss: 0.0242 - val_loss: 3.2458e-04\n",
      "Epoch 8/10\n",
      "27/27 [==============================] - 4s 141ms/step - loss: 0.0216 - val_loss: 0.0043\n",
      "Epoch 9/10\n",
      "27/27 [==============================] - 4s 136ms/step - loss: 0.0204 - val_loss: 0.0059\n",
      "Epoch 10/10\n",
      "27/27 [==============================] - 4s 135ms/step - loss: 0.0193 - val_loss: 0.0140\n",
      "Model for motihar tobacco - superior quality saved to trained_models\\motihar tobacco - superior quality_model.h5.\n"
     ]
    },
    {
     "name": "stderr",
     "output_type": "stream",
     "text": [
      "c:\\Program Files\\Python310\\lib\\site-packages\\keras\\src\\engine\\training.py:3079: UserWarning: You are saving your model as an HDF5 file via `model.save()`. This file format is considered legacy. We recommend using instead the native Keras format, e.g. `model.save('my_model.keras')`.\n",
      "  saving_api.save_model(\n"
     ]
    },
    {
     "name": "stdout",
     "output_type": "stream",
     "text": [
      "Epoch 1/10\n",
      "27/27 [==============================] - 9s 172ms/step - loss: 0.4975 - val_loss: 0.4412\n",
      "Epoch 2/10\n",
      "27/27 [==============================] - 4s 134ms/step - loss: 0.4050 - val_loss: 0.4360\n",
      "Epoch 3/10\n",
      "27/27 [==============================] - 4s 134ms/step - loss: 0.3156 - val_loss: 0.3986\n",
      "Epoch 4/10\n",
      "27/27 [==============================] - 4s 134ms/step - loss: 0.2922 - val_loss: 0.4001\n",
      "Epoch 5/10\n",
      "27/27 [==============================] - 4s 130ms/step - loss: 0.2805 - val_loss: 0.4048\n",
      "Epoch 6/10\n",
      "27/27 [==============================] - 4s 146ms/step - loss: 0.2702 - val_loss: 0.3649\n",
      "Epoch 7/10\n",
      "27/27 [==============================] - 4s 133ms/step - loss: 0.2676 - val_loss: 0.3385\n",
      "Epoch 8/10\n",
      "27/27 [==============================] - 4s 134ms/step - loss: 0.2641 - val_loss: 0.3085\n",
      "Epoch 9/10\n",
      "27/27 [==============================] - 4s 133ms/step - loss: 0.2630 - val_loss: 0.3248\n",
      "Epoch 10/10\n",
      "27/27 [==============================] - 3s 129ms/step - loss: 0.2560 - val_loss: 0.2925\n",
      "Model for virginia tobacco (air cured) dv-1 saved to trained_models\\virginia tobacco (air cured) dv-1_model.h5.\n"
     ]
    },
    {
     "name": "stderr",
     "output_type": "stream",
     "text": [
      "c:\\Program Files\\Python310\\lib\\site-packages\\keras\\src\\engine\\training.py:3079: UserWarning: You are saving your model as an HDF5 file via `model.save()`. This file format is considered legacy. We recommend using instead the native Keras format, e.g. `model.save('my_model.keras')`.\n",
      "  saving_api.save_model(\n"
     ]
    },
    {
     "name": "stdout",
     "output_type": "stream",
     "text": [
      "Epoch 1/10\n",
      "27/27 [==============================] - 9s 170ms/step - loss: 0.5631 - val_loss: 0.3743\n",
      "Epoch 2/10\n",
      "27/27 [==============================] - 3s 130ms/step - loss: 0.3476 - val_loss: 0.3695\n",
      "Epoch 3/10\n",
      "27/27 [==============================] - 3s 128ms/step - loss: 0.3098 - val_loss: 0.3761\n",
      "Epoch 4/10\n",
      "27/27 [==============================] - 4s 135ms/step - loss: 0.2970 - val_loss: 0.3876\n",
      "Epoch 5/10\n",
      "27/27 [==============================] - 3s 125ms/step - loss: 0.2855 - val_loss: 0.3620\n",
      "Epoch 6/10\n",
      "27/27 [==============================] - 3s 126ms/step - loss: 0.2744 - val_loss: 0.3551\n",
      "Epoch 7/10\n",
      "27/27 [==============================] - 3s 128ms/step - loss: 0.2668 - val_loss: 0.3532\n",
      "Epoch 8/10\n",
      "27/27 [==============================] - 3s 128ms/step - loss: 0.2601 - val_loss: 0.3126\n",
      "Epoch 9/10\n",
      "27/27 [==============================] - 3s 130ms/step - loss: 0.2567 - val_loss: 0.3064\n",
      "Epoch 10/10\n",
      "27/27 [==============================] - 4s 134ms/step - loss: 0.2527 - val_loss: 0.2890\n",
      "Model for virginia tobacco (air cured) dv-3 saved to trained_models\\virginia tobacco (air cured) dv-3_model.h5.\n"
     ]
    },
    {
     "name": "stderr",
     "output_type": "stream",
     "text": [
      "c:\\Program Files\\Python310\\lib\\site-packages\\keras\\src\\engine\\training.py:3079: UserWarning: You are saving your model as an HDF5 file via `model.save()`. This file format is considered legacy. We recommend using instead the native Keras format, e.g. `model.save('my_model.keras')`.\n",
      "  saving_api.save_model(\n",
      "d:\\Projects\\market price\\training_model\\model.py:18: FutureWarning: DataFrame.interpolate with object dtype is deprecated and will raise in a future version. Call obj.infer_objects(copy=False) before interpolating instead.\n",
      "  pivot_df = pivot_df.interpolate(method='linear', axis=0).fillna(method='bfill').fillna(method='ffill')\n",
      "d:\\Projects\\market price\\training_model\\model.py:18: FutureWarning: DataFrame.fillna with 'method' is deprecated and will raise in a future version. Use obj.ffill() or obj.bfill() instead.\n",
      "  pivot_df = pivot_df.interpolate(method='linear', axis=0).fillna(method='bfill').fillna(method='ffill')\n"
     ]
    },
    {
     "name": "stdout",
     "output_type": "stream",
     "text": [
      "Epoch 1/10\n",
      "52/52 [==============================] - 12s 143ms/step - loss: 0.1745 - val_loss: 0.2463\n",
      "Epoch 2/10\n",
      "52/52 [==============================] - 7s 127ms/step - loss: 0.0274 - val_loss: 0.2059\n",
      "Epoch 3/10\n",
      "52/52 [==============================] - 6s 124ms/step - loss: 0.0175 - val_loss: 0.1905\n",
      "Epoch 4/10\n",
      "52/52 [==============================] - 6s 124ms/step - loss: 0.0152 - val_loss: 0.1726\n",
      "Epoch 5/10\n",
      "52/52 [==============================] - 6s 122ms/step - loss: 0.0123 - val_loss: 0.1515\n",
      "Epoch 6/10\n",
      "52/52 [==============================] - 6s 123ms/step - loss: 0.0104 - val_loss: 0.1379\n",
      "Epoch 7/10\n",
      "52/52 [==============================] - 6s 125ms/step - loss: 0.0101 - val_loss: 0.1447\n",
      "Epoch 8/10\n",
      "52/52 [==============================] - 6s 124ms/step - loss: 0.0104 - val_loss: 0.0997\n",
      "Epoch 9/10\n",
      "52/52 [==============================] - 6s 125ms/step - loss: 0.0089 - val_loss: 0.1116\n",
      "Epoch 10/10\n",
      "52/52 [==============================] - 7s 126ms/step - loss: 0.0078 - val_loss: 0.1032\n",
      "Model for bean(ordinary) saved to trained_models\\bean(ordinary)_model.h5.\n"
     ]
    },
    {
     "name": "stderr",
     "output_type": "stream",
     "text": [
      "c:\\Program Files\\Python310\\lib\\site-packages\\keras\\src\\engine\\training.py:3079: UserWarning: You are saving your model as an HDF5 file via `model.save()`. This file format is considered legacy. We recommend using instead the native Keras format, e.g. `model.save('my_model.keras')`.\n",
      "  saving_api.save_model(\n"
     ]
    },
    {
     "name": "stdout",
     "output_type": "stream",
     "text": [
      "Epoch 1/10\n",
      "74/74 [==============================] - 15s 135ms/step - loss: 0.1115 - val_loss: 0.0161\n",
      "Epoch 2/10\n",
      "74/74 [==============================] - 9s 122ms/step - loss: 0.0186 - val_loss: 0.0132\n",
      "Epoch 3/10\n",
      "74/74 [==============================] - 9s 121ms/step - loss: 0.0102 - val_loss: 0.0102\n",
      "Epoch 4/10\n",
      "74/74 [==============================] - 9s 122ms/step - loss: 0.0074 - val_loss: 0.0087\n",
      "Epoch 5/10\n",
      "74/74 [==============================] - 9s 123ms/step - loss: 0.0062 - val_loss: 0.0079\n",
      "Epoch 6/10\n",
      "74/74 [==============================] - 9s 127ms/step - loss: 0.0057 - val_loss: 0.0079\n",
      "Epoch 7/10\n",
      "74/74 [==============================] - 9s 124ms/step - loss: 0.0051 - val_loss: 0.0077\n",
      "Epoch 8/10\n",
      "74/74 [==============================] - 9s 123ms/step - loss: 0.0049 - val_loss: 0.0087\n",
      "Epoch 9/10\n",
      "74/74 [==============================] - 9s 123ms/step - loss: 0.0045 - val_loss: 0.0080\n",
      "Epoch 10/10\n",
      "74/74 [==============================] - 9s 124ms/step - loss: 0.0045 - val_loss: 0.0084\n",
      "Model for brinjal - ordinary quality saved to trained_models\\brinjal - ordinary quality_model.h5.\n"
     ]
    },
    {
     "name": "stderr",
     "output_type": "stream",
     "text": [
      "c:\\Program Files\\Python310\\lib\\site-packages\\keras\\src\\engine\\training.py:3079: UserWarning: You are saving your model as an HDF5 file via `model.save()`. This file format is considered legacy. We recommend using instead the native Keras format, e.g. `model.save('my_model.keras')`.\n",
      "  saving_api.save_model(\n"
     ]
    },
    {
     "name": "stdout",
     "output_type": "stream",
     "text": [
      "Epoch 1/10\n",
      "55/55 [==============================] - 13s 142ms/step - loss: 0.1283 - val_loss: 0.0807\n",
      "Epoch 2/10\n",
      "55/55 [==============================] - 7s 125ms/step - loss: 0.0289 - val_loss: 0.0732\n",
      "Epoch 3/10\n",
      "55/55 [==============================] - 7s 120ms/step - loss: 0.0242 - val_loss: 0.0669\n",
      "Epoch 4/10\n",
      "55/55 [==============================] - 7s 121ms/step - loss: 0.0213 - val_loss: 0.0556\n",
      "Epoch 5/10\n",
      "55/55 [==============================] - 7s 122ms/step - loss: 0.0206 - val_loss: 0.0498\n",
      "Epoch 6/10\n",
      "55/55 [==============================] - 7s 125ms/step - loss: 0.0195 - val_loss: 0.0471\n",
      "Epoch 7/10\n",
      "55/55 [==============================] - 7s 122ms/step - loss: 0.0194 - val_loss: 0.0449\n",
      "Epoch 8/10\n",
      "55/55 [==============================] - 7s 121ms/step - loss: 0.0191 - val_loss: 0.0491\n",
      "Epoch 9/10\n",
      "55/55 [==============================] - 7s 122ms/step - loss: 0.0186 - val_loss: 0.0448\n",
      "Epoch 10/10\n",
      "55/55 [==============================] - 7s 122ms/step - loss: 0.0189 - val_loss: 0.0419\n",
      "Model for cabbage saved to trained_models\\cabbage_model.h5.\n"
     ]
    },
    {
     "name": "stderr",
     "output_type": "stream",
     "text": [
      "c:\\Program Files\\Python310\\lib\\site-packages\\keras\\src\\engine\\training.py:3079: UserWarning: You are saving your model as an HDF5 file via `model.save()`. This file format is considered legacy. We recommend using instead the native Keras format, e.g. `model.save('my_model.keras')`.\n",
      "  saving_api.save_model(\n"
     ]
    },
    {
     "name": "stdout",
     "output_type": "stream",
     "text": [
      "Epoch 1/10\n",
      "68/68 [==============================] - 13s 130ms/step - loss: 0.0869 - val_loss: 0.0104\n",
      "Epoch 2/10\n",
      "68/68 [==============================] - 8s 118ms/step - loss: 0.0096 - val_loss: 0.0083\n",
      "Epoch 3/10\n",
      "68/68 [==============================] - 8s 118ms/step - loss: 0.0051 - val_loss: 0.0059\n",
      "Epoch 4/10\n",
      "68/68 [==============================] - 8s 117ms/step - loss: 0.0036 - val_loss: 0.0042\n",
      "Epoch 5/10\n",
      "68/68 [==============================] - 8s 118ms/step - loss: 0.0029 - val_loss: 0.0036\n",
      "Epoch 6/10\n",
      "68/68 [==============================] - 8s 118ms/step - loss: 0.0026 - val_loss: 0.0034\n",
      "Epoch 7/10\n",
      "68/68 [==============================] - 8s 119ms/step - loss: 0.0021 - val_loss: 0.0026\n",
      "Epoch 8/10\n",
      "68/68 [==============================] - 9s 127ms/step - loss: 0.0020 - val_loss: 0.0022\n",
      "Epoch 9/10\n",
      "68/68 [==============================] - 8s 121ms/step - loss: 0.0020 - val_loss: 0.0027\n",
      "Epoch 10/10\n",
      "68/68 [==============================] - 8s 119ms/step - loss: 0.0020 - val_loss: 0.0012\n",
      "Model for carrot saved to trained_models\\carrot_model.h5.\n"
     ]
    },
    {
     "name": "stderr",
     "output_type": "stream",
     "text": [
      "c:\\Program Files\\Python310\\lib\\site-packages\\keras\\src\\engine\\training.py:3079: UserWarning: You are saving your model as an HDF5 file via `model.save()`. This file format is considered legacy. We recommend using instead the native Keras format, e.g. `model.save('my_model.keras')`.\n",
      "  saving_api.save_model(\n"
     ]
    },
    {
     "name": "stdout",
     "output_type": "stream",
     "text": [
      "Epoch 1/10\n",
      "49/49 [==============================] - 12s 141ms/step - loss: 0.1346 - val_loss: 0.0169\n",
      "Epoch 2/10\n",
      "49/49 [==============================] - 6s 116ms/step - loss: 0.0214 - val_loss: 0.0169\n",
      "Epoch 3/10\n",
      "49/49 [==============================] - 6s 118ms/step - loss: 0.0097 - val_loss: 0.0169\n",
      "Epoch 4/10\n",
      "49/49 [==============================] - 6s 115ms/step - loss: 0.0064 - val_loss: 0.0163\n",
      "Epoch 5/10\n",
      "49/49 [==============================] - 6s 119ms/step - loss: 0.0040 - val_loss: 0.0152\n",
      "Epoch 6/10\n",
      "49/49 [==============================] - 6s 117ms/step - loss: 0.0030 - val_loss: 0.0145\n",
      "Epoch 7/10\n",
      "49/49 [==============================] - 6s 116ms/step - loss: 0.0025 - val_loss: 0.0125\n",
      "Epoch 8/10\n",
      "49/49 [==============================] - 6s 116ms/step - loss: 0.0024 - val_loss: 0.0108\n",
      "Epoch 9/10\n",
      "49/49 [==============================] - 6s 115ms/step - loss: 0.0022 - val_loss: 0.0110\n",
      "Epoch 10/10\n",
      "49/49 [==============================] - 6s 117ms/step - loss: 0.0021 - val_loss: 0.0105\n",
      "Model for cauliflower saved to trained_models\\cauliflower_model.h5.\n"
     ]
    },
    {
     "name": "stderr",
     "output_type": "stream",
     "text": [
      "c:\\Program Files\\Python310\\lib\\site-packages\\keras\\src\\engine\\training.py:3079: UserWarning: You are saving your model as an HDF5 file via `model.save()`. This file format is considered legacy. We recommend using instead the native Keras format, e.g. `model.save('my_model.keras')`.\n",
      "  saving_api.save_model(\n"
     ]
    },
    {
     "name": "stdout",
     "output_type": "stream",
     "text": [
      "Epoch 1/10\n",
      "42/42 [==============================] - 11s 143ms/step - loss: 0.2409 - val_loss: 0.0635\n",
      "Epoch 2/10\n",
      "42/42 [==============================] - 5s 119ms/step - loss: 0.0426 - val_loss: 0.0621\n",
      "Epoch 3/10\n",
      "42/42 [==============================] - 5s 118ms/step - loss: 0.0244 - val_loss: 0.0608\n",
      "Epoch 4/10\n",
      "42/42 [==============================] - 5s 109ms/step - loss: 0.0168 - val_loss: 0.0566\n",
      "Epoch 5/10\n",
      "42/42 [==============================] - 5s 110ms/step - loss: 0.0141 - val_loss: 0.0520\n",
      "Epoch 6/10\n",
      "42/42 [==============================] - 5s 109ms/step - loss: 0.0120 - val_loss: 0.0457\n",
      "Epoch 7/10\n",
      "42/42 [==============================] - 5s 109ms/step - loss: 0.0110 - val_loss: 0.0406\n",
      "Epoch 8/10\n",
      "42/42 [==============================] - 5s 108ms/step - loss: 0.0101 - val_loss: 0.0379\n",
      "Epoch 9/10\n",
      "42/42 [==============================] - 5s 114ms/step - loss: 0.0097 - val_loss: 0.0350\n",
      "Epoch 10/10\n",
      "42/42 [==============================] - 5s 110ms/step - loss: 0.0094 - val_loss: 0.0327\n",
      "Model for celeriac (olcopy) saved to trained_models\\celeriac (olcopy)_model.h5.\n"
     ]
    },
    {
     "name": "stderr",
     "output_type": "stream",
     "text": [
      "c:\\Program Files\\Python310\\lib\\site-packages\\keras\\src\\engine\\training.py:3079: UserWarning: You are saving your model as an HDF5 file via `model.save()`. This file format is considered legacy. We recommend using instead the native Keras format, e.g. `model.save('my_model.keras')`.\n",
      "  saving_api.save_model(\n"
     ]
    },
    {
     "name": "stdout",
     "output_type": "stream",
     "text": [
      "Epoch 1/10\n",
      "70/70 [==============================] - 14s 129ms/step - loss: 0.0493 - val_loss: 0.0245\n",
      "Epoch 2/10\n",
      "70/70 [==============================] - 8s 118ms/step - loss: 0.0080 - val_loss: 0.0189\n",
      "Epoch 3/10\n",
      "70/70 [==============================] - 8s 115ms/step - loss: 0.0045 - val_loss: 0.0151\n",
      "Epoch 4/10\n",
      "70/70 [==============================] - 8s 114ms/step - loss: 0.0034 - val_loss: 0.0111\n",
      "Epoch 5/10\n",
      "70/70 [==============================] - 8s 120ms/step - loss: 0.0028 - val_loss: 0.0087\n",
      "Epoch 6/10\n",
      "70/70 [==============================] - 9s 122ms/step - loss: 0.0025 - val_loss: 0.0071\n",
      "Epoch 7/10\n",
      "70/70 [==============================] - 8s 116ms/step - loss: 0.0024 - val_loss: 0.0049\n",
      "Epoch 8/10\n",
      "70/70 [==============================] - 8s 116ms/step - loss: 0.0022 - val_loss: 0.0037\n",
      "Epoch 9/10\n",
      "70/70 [==============================] - 8s 117ms/step - loss: 0.0021 - val_loss: 0.0038\n",
      "Epoch 10/10\n",
      "70/70 [==============================] - 8s 116ms/step - loss: 0.0020 - val_loss: 0.0026\n",
      "Model for cucumber-small saved to trained_models\\cucumber-small_model.h5.\n"
     ]
    },
    {
     "name": "stderr",
     "output_type": "stream",
     "text": [
      "c:\\Program Files\\Python310\\lib\\site-packages\\keras\\src\\engine\\training.py:3079: UserWarning: You are saving your model as an HDF5 file via `model.save()`. This file format is considered legacy. We recommend using instead the native Keras format, e.g. `model.save('my_model.keras')`.\n",
      "  saving_api.save_model(\n"
     ]
    },
    {
     "name": "stdout",
     "output_type": "stream",
     "text": [
      "Epoch 1/10\n",
      "73/73 [==============================] - 14s 131ms/step - loss: 0.1124 - val_loss: 0.1054\n",
      "Epoch 2/10\n",
      "73/73 [==============================] - 8s 114ms/step - loss: 0.0308 - val_loss: 0.0969\n",
      "Epoch 3/10\n",
      "73/73 [==============================] - 8s 112ms/step - loss: 0.0250 - val_loss: 0.0869\n",
      "Epoch 4/10\n",
      "73/73 [==============================] - 8s 112ms/step - loss: 0.0234 - val_loss: 0.0842\n",
      "Epoch 5/10\n",
      "73/73 [==============================] - 8s 112ms/step - loss: 0.0230 - val_loss: 0.0818\n",
      "Epoch 6/10\n",
      "73/73 [==============================] - 8s 112ms/step - loss: 0.0226 - val_loss: 0.0745\n",
      "Epoch 7/10\n",
      "73/73 [==============================] - 8s 111ms/step - loss: 0.0224 - val_loss: 0.0766\n",
      "Epoch 8/10\n",
      "73/73 [==============================] - 8s 114ms/step - loss: 0.0221 - val_loss: 0.0709\n",
      "Epoch 9/10\n",
      "73/73 [==============================] - 8s 114ms/step - loss: 0.0219 - val_loss: 0.0715\n",
      "Epoch 10/10\n",
      "73/73 [==============================] - 8s 113ms/step - loss: 0.0218 - val_loss: 0.0705\n",
      "Model for green papaya saved to trained_models\\green papaya_model.h5.\n"
     ]
    },
    {
     "name": "stderr",
     "output_type": "stream",
     "text": [
      "c:\\Program Files\\Python310\\lib\\site-packages\\keras\\src\\engine\\training.py:3079: UserWarning: You are saving your model as an HDF5 file via `model.save()`. This file format is considered legacy. We recommend using instead the native Keras format, e.g. `model.save('my_model.keras')`.\n",
      "  saving_api.save_model(\n"
     ]
    },
    {
     "name": "stdout",
     "output_type": "stream",
     "text": [
      "Epoch 1/10\n",
      "70/70 [==============================] - 15s 128ms/step - loss: 0.2106 - val_loss: 0.0344\n",
      "Epoch 2/10\n",
      "70/70 [==============================] - 8s 115ms/step - loss: 0.0239 - val_loss: 0.0300\n",
      "Epoch 3/10\n",
      "70/70 [==============================] - 8s 112ms/step - loss: 0.0169 - val_loss: 0.0268\n",
      "Epoch 4/10\n",
      "70/70 [==============================] - 8s 115ms/step - loss: 0.0143 - val_loss: 0.0251\n",
      "Epoch 5/10\n",
      "70/70 [==============================] - 8s 111ms/step - loss: 0.0139 - val_loss: 0.0252\n",
      "Epoch 6/10\n",
      "70/70 [==============================] - 8s 117ms/step - loss: 0.0131 - val_loss: 0.0254\n",
      "Epoch 7/10\n",
      "70/70 [==============================] - 8s 113ms/step - loss: 0.0127 - val_loss: 0.0253\n",
      "Epoch 8/10\n",
      "70/70 [==============================] - 8s 112ms/step - loss: 0.0123 - val_loss: 0.0251\n",
      "Epoch 9/10\n",
      "70/70 [==============================] - 8s 111ms/step - loss: 0.0121 - val_loss: 0.0237\n",
      "Epoch 10/10\n",
      "70/70 [==============================] - 8s 113ms/step - loss: 0.0120 - val_loss: 0.0232\n",
      "Model for karalla (bitter gourd) saved to trained_models\\karalla (bitter gourd)_model.h5.\n"
     ]
    },
    {
     "name": "stderr",
     "output_type": "stream",
     "text": [
      "c:\\Program Files\\Python310\\lib\\site-packages\\keras\\src\\engine\\training.py:3079: UserWarning: You are saving your model as an HDF5 file via `model.save()`. This file format is considered legacy. We recommend using instead the native Keras format, e.g. `model.save('my_model.keras')`.\n",
      "  saving_api.save_model(\n"
     ]
    },
    {
     "name": "stdout",
     "output_type": "stream",
     "text": [
      "Epoch 1/10\n",
      "70/70 [==============================] - 21s 155ms/step - loss: 0.1428 - val_loss: 0.0874\n",
      "Epoch 2/10\n",
      "70/70 [==============================] - 11s 150ms/step - loss: 0.0149 - val_loss: 0.0689\n",
      "Epoch 3/10\n",
      "70/70 [==============================] - 10s 145ms/step - loss: 0.0093 - val_loss: 0.0509\n",
      "Epoch 4/10\n",
      "70/70 [==============================] - 10s 147ms/step - loss: 0.0069 - val_loss: 0.0418\n",
      "Epoch 5/10\n",
      "70/70 [==============================] - 10s 146ms/step - loss: 0.0063 - val_loss: 0.0336\n",
      "Epoch 6/10\n",
      "70/70 [==============================] - 10s 145ms/step - loss: 0.0054 - val_loss: 0.0290\n",
      "Epoch 7/10\n",
      "70/70 [==============================] - 10s 149ms/step - loss: 0.0050 - val_loss: 0.0254\n",
      "Epoch 8/10\n",
      "70/70 [==============================] - 10s 149ms/step - loss: 0.0048 - val_loss: 0.0171\n",
      "Epoch 9/10\n",
      "70/70 [==============================] - 10s 150ms/step - loss: 0.0046 - val_loss: 0.0196\n",
      "Epoch 10/10\n",
      "70/70 [==============================] - 11s 151ms/step - loss: 0.0044 - val_loss: 0.0192\n",
      "Model for lao (bottle gourd) saved to trained_models\\lao (bottle gourd)_model.h5.\n"
     ]
    },
    {
     "name": "stderr",
     "output_type": "stream",
     "text": [
      "c:\\Program Files\\Python310\\lib\\site-packages\\keras\\src\\engine\\training.py:3079: UserWarning: You are saving your model as an HDF5 file via `model.save()`. This file format is considered legacy. We recommend using instead the native Keras format, e.g. `model.save('my_model.keras')`.\n",
      "  saving_api.save_model(\n"
     ]
    },
    {
     "name": "stdout",
     "output_type": "stream",
     "text": [
      "Epoch 1/10\n",
      "65/65 [==============================] - 16s 168ms/step - loss: 0.2353 - val_loss: 0.1195\n",
      "Epoch 2/10\n",
      "65/65 [==============================] - 10s 151ms/step - loss: 0.0255 - val_loss: 0.1095\n",
      "Epoch 3/10\n",
      "65/65 [==============================] - 10s 160ms/step - loss: 0.0139 - val_loss: 0.0984\n",
      "Epoch 4/10\n",
      "65/65 [==============================] - 10s 150ms/step - loss: 0.0095 - val_loss: 0.0885\n",
      "Epoch 5/10\n",
      "65/65 [==============================] - 10s 149ms/step - loss: 0.0081 - val_loss: 0.0804\n",
      "Epoch 6/10\n",
      "65/65 [==============================] - 10s 151ms/step - loss: 0.0070 - val_loss: 0.0629\n",
      "Epoch 7/10\n",
      "65/65 [==============================] - 10s 153ms/step - loss: 0.0063 - val_loss: 0.0621\n",
      "Epoch 8/10\n",
      "65/65 [==============================] - 10s 153ms/step - loss: 0.0059 - val_loss: 0.0497\n",
      "Epoch 9/10\n",
      "65/65 [==============================] - 10s 149ms/step - loss: 0.0056 - val_loss: 0.0387\n",
      "Epoch 10/10\n",
      "65/65 [==============================] - 10s 150ms/step - loss: 0.0053 - val_loss: 0.0325\n",
      "Model for potato (holland) - white (new) saved to trained_models\\potato (holland) - white (new)_model.h5.\n"
     ]
    },
    {
     "name": "stderr",
     "output_type": "stream",
     "text": [
      "c:\\Program Files\\Python310\\lib\\site-packages\\keras\\src\\engine\\training.py:3079: UserWarning: You are saving your model as an HDF5 file via `model.save()`. This file format is considered legacy. We recommend using instead the native Keras format, e.g. `model.save('my_model.keras')`.\n",
      "  saving_api.save_model(\n"
     ]
    },
    {
     "name": "stdout",
     "output_type": "stream",
     "text": [
      "Epoch 1/10\n",
      "67/67 [==============================] - 15s 159ms/step - loss: 0.1068 - val_loss: 0.0498\n",
      "Epoch 2/10\n",
      "67/67 [==============================] - 10s 145ms/step - loss: 0.0158 - val_loss: 0.0377\n",
      "Epoch 3/10\n",
      "67/67 [==============================] - 10s 143ms/step - loss: 0.0093 - val_loss: 0.0274\n",
      "Epoch 4/10\n",
      "67/67 [==============================] - 10s 143ms/step - loss: 0.0073 - val_loss: 0.0311\n",
      "Epoch 5/10\n",
      "67/67 [==============================] - 9s 140ms/step - loss: 0.0056 - val_loss: 0.0187\n",
      "Epoch 6/10\n",
      "67/67 [==============================] - 9s 141ms/step - loss: 0.0046 - val_loss: 0.0204\n",
      "Epoch 7/10\n",
      "67/67 [==============================] - 9s 141ms/step - loss: 0.0045 - val_loss: 0.0246\n",
      "Epoch 8/10\n",
      "67/67 [==============================] - 10s 144ms/step - loss: 0.0042 - val_loss: 0.0206\n",
      "Epoch 9/10\n",
      "67/67 [==============================] - 9s 140ms/step - loss: 0.0039 - val_loss: 0.0160\n",
      "Epoch 10/10\n",
      "67/67 [==============================] - 10s 144ms/step - loss: 0.0038 - val_loss: 0.0164\n",
      "Model for potato (holland) - white (old) saved to trained_models\\potato (holland) - white (old)_model.h5.\n"
     ]
    },
    {
     "name": "stderr",
     "output_type": "stream",
     "text": [
      "c:\\Program Files\\Python310\\lib\\site-packages\\keras\\src\\engine\\training.py:3079: UserWarning: You are saving your model as an HDF5 file via `model.save()`. This file format is considered legacy. We recommend using instead the native Keras format, e.g. `model.save('my_model.keras')`.\n",
      "  saving_api.save_model(\n"
     ]
    },
    {
     "name": "stdout",
     "output_type": "stream",
     "text": [
      "Epoch 1/10\n",
      "72/72 [==============================] - 17s 167ms/step - loss: 0.0601 - val_loss: 0.0077\n",
      "Epoch 2/10\n",
      "72/72 [==============================] - 11s 147ms/step - loss: 0.0090 - val_loss: 0.0067\n",
      "Epoch 3/10\n",
      "72/72 [==============================] - 11s 146ms/step - loss: 0.0047 - val_loss: 0.0062\n",
      "Epoch 4/10\n",
      "72/72 [==============================] - 11s 147ms/step - loss: 0.0029 - val_loss: 0.0055\n",
      "Epoch 5/10\n",
      "72/72 [==============================] - 10s 144ms/step - loss: 0.0022 - val_loss: 0.0050\n",
      "Epoch 6/10\n",
      "72/72 [==============================] - 10s 146ms/step - loss: 0.0019 - val_loss: 0.0047\n",
      "Epoch 7/10\n",
      "72/72 [==============================] - 11s 147ms/step - loss: 0.0018 - val_loss: 0.0042\n",
      "Epoch 8/10\n",
      "72/72 [==============================] - 10s 144ms/step - loss: 0.0015 - val_loss: 0.0038\n",
      "Epoch 9/10\n",
      "72/72 [==============================] - 11s 148ms/step - loss: 0.0017 - val_loss: 0.0039\n",
      "Epoch 10/10\n",
      "72/72 [==============================] - 10s 144ms/step - loss: 0.0015 - val_loss: 0.0037\n",
      "Model for pumpkin (sweet gourd) saved to trained_models\\pumpkin (sweet gourd)_model.h5.\n"
     ]
    },
    {
     "name": "stderr",
     "output_type": "stream",
     "text": [
      "c:\\Program Files\\Python310\\lib\\site-packages\\keras\\src\\engine\\training.py:3079: UserWarning: You are saving your model as an HDF5 file via `model.save()`. This file format is considered legacy. We recommend using instead the native Keras format, e.g. `model.save('my_model.keras')`.\n",
      "  saving_api.save_model(\n"
     ]
    },
    {
     "name": "stdout",
     "output_type": "stream",
     "text": [
      "Epoch 1/10\n",
      "45/45 [==============================] - 12s 172ms/step - loss: 0.1679 - val_loss: 0.1431\n",
      "Epoch 2/10\n",
      "45/45 [==============================] - 7s 145ms/step - loss: 0.0608 - val_loss: 0.1371\n",
      "Epoch 3/10\n",
      "45/45 [==============================] - 6s 143ms/step - loss: 0.0513 - val_loss: 0.1227\n",
      "Epoch 4/10\n",
      "45/45 [==============================] - 6s 143ms/step - loss: 0.0482 - val_loss: 0.1038\n",
      "Epoch 5/10\n",
      "45/45 [==============================] - 6s 142ms/step - loss: 0.0473 - val_loss: 0.1020\n",
      "Epoch 6/10\n",
      "45/45 [==============================] - 6s 141ms/step - loss: 0.0457 - val_loss: 0.0943\n",
      "Epoch 7/10\n",
      "45/45 [==============================] - 6s 144ms/step - loss: 0.0454 - val_loss: 0.0932\n",
      "Epoch 8/10\n",
      "45/45 [==============================] - 6s 141ms/step - loss: 0.0450 - val_loss: 0.0949\n",
      "Epoch 9/10\n",
      "45/45 [==============================] - 6s 142ms/step - loss: 0.0446 - val_loss: 0.0859\n",
      "Epoch 10/10\n",
      "45/45 [==============================] - 6s 142ms/step - loss: 0.0441 - val_loss: 0.0801\n",
      "Model for radish local saved to trained_models\\radish local_model.h5.\n"
     ]
    },
    {
     "name": "stderr",
     "output_type": "stream",
     "text": [
      "c:\\Program Files\\Python310\\lib\\site-packages\\keras\\src\\engine\\training.py:3079: UserWarning: You are saving your model as an HDF5 file via `model.save()`. This file format is considered legacy. We recommend using instead the native Keras format, e.g. `model.save('my_model.keras')`.\n",
      "  saving_api.save_model(\n"
     ]
    },
    {
     "name": "stdout",
     "output_type": "stream",
     "text": [
      "Epoch 1/10\n",
      "69/69 [==============================] - 16s 161ms/step - loss: 0.1075 - val_loss: 0.0909\n",
      "Epoch 2/10\n",
      "69/69 [==============================] - 10s 139ms/step - loss: 0.0171 - val_loss: 0.0739\n",
      "Epoch 3/10\n",
      "69/69 [==============================] - 9s 135ms/step - loss: 0.0116 - val_loss: 0.0571\n",
      "Epoch 4/10\n",
      "69/69 [==============================] - 9s 138ms/step - loss: 0.0088 - val_loss: 0.0394\n",
      "Epoch 5/10\n",
      "69/69 [==============================] - 10s 140ms/step - loss: 0.0083 - val_loss: 0.0370\n",
      "Epoch 6/10\n",
      "69/69 [==============================] - 10s 139ms/step - loss: 0.0075 - val_loss: 0.0303\n",
      "Epoch 7/10\n",
      "69/69 [==============================] - 10s 139ms/step - loss: 0.0067 - val_loss: 0.0276\n",
      "Epoch 8/10\n",
      "69/69 [==============================] - 10s 138ms/step - loss: 0.0067 - val_loss: 0.0221\n",
      "Epoch 9/10\n",
      "69/69 [==============================] - 10s 139ms/step - loss: 0.0068 - val_loss: 0.0216\n",
      "Epoch 10/10\n",
      "69/69 [==============================] - 10s 140ms/step - loss: 0.0065 - val_loss: 0.0212\n",
      "Model for red spinach saved to trained_models\\red spinach_model.h5.\n"
     ]
    },
    {
     "name": "stderr",
     "output_type": "stream",
     "text": [
      "c:\\Program Files\\Python310\\lib\\site-packages\\keras\\src\\engine\\training.py:3079: UserWarning: You are saving your model as an HDF5 file via `model.save()`. This file format is considered legacy. We recommend using instead the native Keras format, e.g. `model.save('my_model.keras')`.\n",
      "  saving_api.save_model(\n"
     ]
    },
    {
     "name": "stdout",
     "output_type": "stream",
     "text": [
      "Epoch 1/10\n",
      "49/49 [==============================] - 12s 159ms/step - loss: 0.1488 - val_loss: 0.0430\n",
      "Epoch 2/10\n",
      "49/49 [==============================] - 7s 136ms/step - loss: 0.0348 - val_loss: 0.0437\n",
      "Epoch 3/10\n",
      "49/49 [==============================] - 7s 136ms/step - loss: 0.0223 - val_loss: 0.0381\n",
      "Epoch 4/10\n",
      "49/49 [==============================] - 7s 133ms/step - loss: 0.0160 - val_loss: 0.0308\n",
      "Epoch 5/10\n",
      "49/49 [==============================] - 6s 131ms/step - loss: 0.0150 - val_loss: 0.0201\n",
      "Epoch 6/10\n",
      "49/49 [==============================] - 7s 133ms/step - loss: 0.0136 - val_loss: 0.0171\n",
      "Epoch 7/10\n",
      "49/49 [==============================] - 7s 135ms/step - loss: 0.0123 - val_loss: 0.0130\n",
      "Epoch 8/10\n",
      "49/49 [==============================] - 7s 135ms/step - loss: 0.0119 - val_loss: 0.0087\n",
      "Epoch 9/10\n",
      "49/49 [==============================] - 6s 130ms/step - loss: 0.0119 - val_loss: 0.0090\n",
      "Epoch 10/10\n",
      "49/49 [==============================] - 6s 129ms/step - loss: 0.0113 - val_loss: 0.0075\n",
      "Model for spinach (palongsak) saved to trained_models\\spinach (palongsak)_model.h5.\n"
     ]
    },
    {
     "name": "stderr",
     "output_type": "stream",
     "text": [
      "c:\\Program Files\\Python310\\lib\\site-packages\\keras\\src\\engine\\training.py:3079: UserWarning: You are saving your model as an HDF5 file via `model.save()`. This file format is considered legacy. We recommend using instead the native Keras format, e.g. `model.save('my_model.keras')`.\n",
      "  saving_api.save_model(\n"
     ]
    },
    {
     "name": "stdout",
     "output_type": "stream",
     "text": [
      "Epoch 1/10\n",
      "69/69 [==============================] - 15s 146ms/step - loss: 0.1129 - val_loss: 0.0281\n",
      "Epoch 2/10\n",
      "69/69 [==============================] - 10s 142ms/step - loss: 0.0164 - val_loss: 0.0250\n",
      "Epoch 3/10\n",
      "69/69 [==============================] - 9s 132ms/step - loss: 0.0110 - val_loss: 0.0228\n",
      "Epoch 4/10\n",
      "69/69 [==============================] - 9s 134ms/step - loss: 0.0100 - val_loss: 0.0202\n",
      "Epoch 5/10\n",
      "69/69 [==============================] - 9s 135ms/step - loss: 0.0091 - val_loss: 0.0200\n",
      "Epoch 6/10\n",
      "69/69 [==============================] - 9s 131ms/step - loss: 0.0087 - val_loss: 0.0182\n",
      "Epoch 7/10\n",
      "69/69 [==============================] - 9s 130ms/step - loss: 0.0085 - val_loss: 0.0179\n",
      "Epoch 8/10\n",
      "69/69 [==============================] - 9s 135ms/step - loss: 0.0083 - val_loss: 0.0168\n",
      "Epoch 9/10\n",
      "69/69 [==============================] - 9s 133ms/step - loss: 0.0081 - val_loss: 0.0162\n",
      "Epoch 10/10\n",
      "69/69 [==============================] - 9s 133ms/step - loss: 0.0080 - val_loss: 0.0156\n",
      "Model for tomato saved to trained_models\\tomato_model.h5.\n"
     ]
    },
    {
     "name": "stderr",
     "output_type": "stream",
     "text": [
      "c:\\Program Files\\Python310\\lib\\site-packages\\keras\\src\\engine\\training.py:3079: UserWarning: You are saving your model as an HDF5 file via `model.save()`. This file format is considered legacy. We recommend using instead the native Keras format, e.g. `model.save('my_model.keras')`.\n",
      "  saving_api.save_model(\n"
     ]
    },
    {
     "name": "stdout",
     "output_type": "stream",
     "text": [
      "Epoch 1/10\n",
      "68/68 [==============================] - 15s 147ms/step - loss: 0.1033 - val_loss: 0.1412\n",
      "Epoch 2/10\n",
      "68/68 [==============================] - 9s 135ms/step - loss: 0.0304 - val_loss: 0.1384\n",
      "Epoch 3/10\n",
      "68/68 [==============================] - 9s 127ms/step - loss: 0.0264 - val_loss: 0.1240\n",
      "Epoch 4/10\n",
      "68/68 [==============================] - 10s 142ms/step - loss: 0.0251 - val_loss: 0.1197\n",
      "Epoch 5/10\n",
      "68/68 [==============================] - 9s 128ms/step - loss: 0.0242 - val_loss: 0.1100\n",
      "Epoch 6/10\n",
      "68/68 [==============================] - 9s 130ms/step - loss: 0.0235 - val_loss: 0.0982\n",
      "Epoch 7/10\n",
      "68/68 [==============================] - 9s 128ms/step - loss: 0.0234 - val_loss: 0.1077\n",
      "Epoch 8/10\n",
      "68/68 [==============================] - 9s 132ms/step - loss: 0.0230 - val_loss: 0.1026\n",
      "Epoch 9/10\n",
      "68/68 [==============================] - 9s 129ms/step - loss: 0.0229 - val_loss: 0.0931\n",
      "Epoch 10/10\n",
      "68/68 [==============================] - 9s 134ms/step - loss: 0.0228 - val_loss: 0.0897\n",
      "Model for barbati (yardlong bean) saved to trained_models\\barbati (yardlong bean)_model.h5.\n"
     ]
    },
    {
     "name": "stderr",
     "output_type": "stream",
     "text": [
      "c:\\Program Files\\Python310\\lib\\site-packages\\keras\\src\\engine\\training.py:3079: UserWarning: You are saving your model as an HDF5 file via `model.save()`. This file format is considered legacy. We recommend using instead the native Keras format, e.g. `model.save('my_model.keras')`.\n",
      "  saving_api.save_model(\n"
     ]
    },
    {
     "name": "stdout",
     "output_type": "stream",
     "text": [
      "Epoch 1/10\n",
      "54/54 [==============================] - 13s 157ms/step - loss: 0.1785 - val_loss: 0.0502\n",
      "Epoch 2/10\n",
      "54/54 [==============================] - 7s 128ms/step - loss: 0.0255 - val_loss: 0.0428\n",
      "Epoch 3/10\n",
      "54/54 [==============================] - 8s 140ms/step - loss: 0.0179 - val_loss: 0.0363\n",
      "Epoch 4/10\n",
      "54/54 [==============================] - 7s 133ms/step - loss: 0.0155 - val_loss: 0.0313\n",
      "Epoch 5/10\n",
      "54/54 [==============================] - 7s 133ms/step - loss: 0.0147 - val_loss: 0.0274\n",
      "Epoch 6/10\n",
      "54/54 [==============================] - 7s 126ms/step - loss: 0.0134 - val_loss: 0.0271\n",
      "Epoch 7/10\n",
      "54/54 [==============================] - 7s 129ms/step - loss: 0.0129 - val_loss: 0.0242\n",
      "Epoch 8/10\n",
      "54/54 [==============================] - 7s 130ms/step - loss: 0.0123 - val_loss: 0.0235\n",
      "Epoch 9/10\n",
      "54/54 [==============================] - 7s 130ms/step - loss: 0.0118 - val_loss: 0.0220\n",
      "Epoch 10/10\n",
      "54/54 [==============================] - 7s 128ms/step - loss: 0.0118 - val_loss: 0.0196\n",
      "Model for bean(superior quality) saved to trained_models\\bean(superior quality)_model.h5.\n"
     ]
    },
    {
     "name": "stderr",
     "output_type": "stream",
     "text": [
      "c:\\Program Files\\Python310\\lib\\site-packages\\keras\\src\\engine\\training.py:3079: UserWarning: You are saving your model as an HDF5 file via `model.save()`. This file format is considered legacy. We recommend using instead the native Keras format, e.g. `model.save('my_model.keras')`.\n",
      "  saving_api.save_model(\n"
     ]
    },
    {
     "name": "stdout",
     "output_type": "stream",
     "text": [
      "Epoch 1/10\n",
      "72/72 [==============================] - 15s 141ms/step - loss: 0.0622 - val_loss: 0.0096\n",
      "Epoch 2/10\n",
      "72/72 [==============================] - 8s 114ms/step - loss: 0.0097 - val_loss: 0.0086\n",
      "Epoch 3/10\n",
      "72/72 [==============================] - 8s 108ms/step - loss: 0.0062 - val_loss: 0.0078\n",
      "Epoch 4/10\n",
      "72/72 [==============================] - 8s 110ms/step - loss: 0.0042 - val_loss: 0.0071\n",
      "Epoch 5/10\n",
      "72/72 [==============================] - 8s 112ms/step - loss: 0.0036 - val_loss: 0.0067\n",
      "Epoch 6/10\n",
      "72/72 [==============================] - 8s 115ms/step - loss: 0.0034 - val_loss: 0.0066\n",
      "Epoch 7/10\n",
      "72/72 [==============================] - 8s 110ms/step - loss: 0.0031 - val_loss: 0.0062\n",
      "Epoch 8/10\n",
      "72/72 [==============================] - 8s 111ms/step - loss: 0.0030 - val_loss: 0.0056\n",
      "Epoch 9/10\n",
      "72/72 [==============================] - 8s 110ms/step - loss: 0.0030 - val_loss: 0.0056\n",
      "Epoch 10/10\n",
      "72/72 [==============================] - 8s 113ms/step - loss: 0.0029 - val_loss: 0.0058\n",
      "Model for brinjal - superior quality saved to trained_models\\brinjal - superior quality_model.h5.\n"
     ]
    },
    {
     "name": "stderr",
     "output_type": "stream",
     "text": [
      "c:\\Program Files\\Python310\\lib\\site-packages\\keras\\src\\engine\\training.py:3079: UserWarning: You are saving your model as an HDF5 file via `model.save()`. This file format is considered legacy. We recommend using instead the native Keras format, e.g. `model.save('my_model.keras')`.\n",
      "  saving_api.save_model(\n"
     ]
    },
    {
     "name": "stdout",
     "output_type": "stream",
     "text": [
      "Epoch 1/10\n",
      "66/66 [==============================] - 13s 126ms/step - loss: 0.1397 - val_loss: 0.0094\n",
      "Epoch 2/10\n",
      "66/66 [==============================] - 7s 108ms/step - loss: 0.0228 - val_loss: 0.0078\n",
      "Epoch 3/10\n",
      "66/66 [==============================] - 7s 106ms/step - loss: 0.0105 - val_loss: 0.0072\n",
      "Epoch 4/10\n",
      "66/66 [==============================] - 7s 108ms/step - loss: 0.0071 - val_loss: 0.0070\n",
      "Epoch 5/10\n",
      "66/66 [==============================] - 7s 102ms/step - loss: 0.0058 - val_loss: 0.0070\n",
      "Epoch 6/10\n",
      "66/66 [==============================] - 7s 108ms/step - loss: 0.0051 - val_loss: 0.0071\n",
      "Epoch 7/10\n",
      "66/66 [==============================] - 7s 110ms/step - loss: 0.0042 - val_loss: 0.0070\n",
      "Epoch 8/10\n",
      "66/66 [==============================] - 7s 112ms/step - loss: 0.0041 - val_loss: 0.0070\n",
      "Epoch 9/10\n",
      "66/66 [==============================] - 7s 104ms/step - loss: 0.0039 - val_loss: 0.0069\n",
      "Epoch 10/10\n",
      "66/66 [==============================] - 7s 105ms/step - loss: 0.0039 - val_loss: 0.0073\n",
      "Model for chalcumra (water gourd) saved to trained_models\\chalcumra (water gourd)_model.h5.\n"
     ]
    },
    {
     "name": "stderr",
     "output_type": "stream",
     "text": [
      "c:\\Program Files\\Python310\\lib\\site-packages\\keras\\src\\engine\\training.py:3079: UserWarning: You are saving your model as an HDF5 file via `model.save()`. This file format is considered legacy. We recommend using instead the native Keras format, e.g. `model.save('my_model.keras')`.\n",
      "  saving_api.save_model(\n"
     ]
    },
    {
     "name": "stdout",
     "output_type": "stream",
     "text": [
      "Epoch 1/10\n",
      "66/66 [==============================] - 13s 125ms/step - loss: 0.1291 - val_loss: 0.0063\n",
      "Epoch 2/10\n",
      "66/66 [==============================] - 7s 107ms/step - loss: 0.0257 - val_loss: 0.0082\n",
      "Epoch 3/10\n",
      "66/66 [==============================] - 7s 107ms/step - loss: 0.0122 - val_loss: 0.0067\n",
      "Epoch 4/10\n",
      "66/66 [==============================] - 7s 110ms/step - loss: 0.0061 - val_loss: 0.0060\n",
      "Epoch 5/10\n",
      "66/66 [==============================] - 7s 106ms/step - loss: 0.0051 - val_loss: 0.0053\n",
      "Epoch 6/10\n",
      "66/66 [==============================] - 7s 106ms/step - loss: 0.0040 - val_loss: 0.0052\n",
      "Epoch 7/10\n",
      "66/66 [==============================] - 7s 106ms/step - loss: 0.0037 - val_loss: 0.0051\n",
      "Epoch 8/10\n",
      "66/66 [==============================] - 7s 109ms/step - loss: 0.0032 - val_loss: 0.0057\n",
      "Epoch 9/10\n",
      "66/66 [==============================] - 7s 106ms/step - loss: 0.0032 - val_loss: 0.0049\n",
      "Epoch 10/10\n",
      "66/66 [==============================] - 7s 108ms/step - loss: 0.0029 - val_loss: 0.0064\n",
      "Model for cucumber-big saved to trained_models\\cucumber-big_model.h5.\n"
     ]
    },
    {
     "name": "stderr",
     "output_type": "stream",
     "text": [
      "c:\\Program Files\\Python310\\lib\\site-packages\\keras\\src\\engine\\training.py:3079: UserWarning: You are saving your model as an HDF5 file via `model.save()`. This file format is considered legacy. We recommend using instead the native Keras format, e.g. `model.save('my_model.keras')`.\n",
      "  saving_api.save_model(\n"
     ]
    },
    {
     "name": "stdout",
     "output_type": "stream",
     "text": [
      "Epoch 1/10\n",
      "63/63 [==============================] - 13s 123ms/step - loss: 0.1574 - val_loss: 0.0832\n",
      "Epoch 2/10\n",
      "63/63 [==============================] - 7s 112ms/step - loss: 0.0362 - val_loss: 0.0739\n",
      "Epoch 3/10\n",
      "63/63 [==============================] - 7s 110ms/step - loss: 0.0284 - val_loss: 0.0636\n",
      "Epoch 4/10\n",
      "63/63 [==============================] - 7s 111ms/step - loss: 0.0253 - val_loss: 0.0597\n",
      "Epoch 5/10\n",
      "63/63 [==============================] - 7s 114ms/step - loss: 0.0245 - val_loss: 0.0542\n",
      "Epoch 6/10\n",
      "63/63 [==============================] - 7s 113ms/step - loss: 0.0237 - val_loss: 0.0534\n",
      "Epoch 7/10\n",
      "63/63 [==============================] - 7s 112ms/step - loss: 0.0234 - val_loss: 0.0504\n",
      "Epoch 8/10\n",
      "63/63 [==============================] - 7s 117ms/step - loss: 0.0232 - val_loss: 0.0508\n",
      "Epoch 9/10\n",
      "63/63 [==============================] - 7s 113ms/step - loss: 0.0231 - val_loss: 0.0514\n",
      "Epoch 10/10\n",
      "63/63 [==============================] - 7s 110ms/step - loss: 0.0226 - val_loss: 0.0495\n",
      "Model for danta saved to trained_models\\danta_model.h5.\n"
     ]
    },
    {
     "name": "stderr",
     "output_type": "stream",
     "text": [
      "c:\\Program Files\\Python310\\lib\\site-packages\\keras\\src\\engine\\training.py:3079: UserWarning: You are saving your model as an HDF5 file via `model.save()`. This file format is considered legacy. We recommend using instead the native Keras format, e.g. `model.save('my_model.keras')`.\n",
      "  saving_api.save_model(\n"
     ]
    },
    {
     "name": "stdout",
     "output_type": "stream",
     "text": [
      "Epoch 1/10\n",
      "66/66 [==============================] - 13s 118ms/step - loss: 0.2055 - val_loss: 0.0280\n",
      "Epoch 2/10\n",
      "66/66 [==============================] - 7s 104ms/step - loss: 0.0261 - val_loss: 0.0232\n",
      "Epoch 3/10\n",
      "66/66 [==============================] - 7s 107ms/step - loss: 0.0174 - val_loss: 0.0215\n",
      "Epoch 4/10\n",
      "66/66 [==============================] - 7s 106ms/step - loss: 0.0147 - val_loss: 0.0185\n",
      "Epoch 5/10\n",
      "66/66 [==============================] - 7s 106ms/step - loss: 0.0135 - val_loss: 0.0151\n",
      "Epoch 6/10\n",
      "66/66 [==============================] - 7s 103ms/step - loss: 0.0131 - val_loss: 0.0134\n",
      "Epoch 7/10\n",
      "66/66 [==============================] - 7s 102ms/step - loss: 0.0129 - val_loss: 0.0112\n",
      "Epoch 8/10\n",
      "66/66 [==============================] - 7s 103ms/step - loss: 0.0124 - val_loss: 0.0108\n",
      "Epoch 9/10\n",
      "66/66 [==============================] - 7s 102ms/step - loss: 0.0123 - val_loss: 0.0110\n",
      "Epoch 10/10\n",
      "66/66 [==============================] - 7s 103ms/step - loss: 0.0122 - val_loss: 0.0108\n",
      "Model for green banana saved to trained_models\\green banana_model.h5.\n"
     ]
    },
    {
     "name": "stderr",
     "output_type": "stream",
     "text": [
      "c:\\Program Files\\Python310\\lib\\site-packages\\keras\\src\\engine\\training.py:3079: UserWarning: You are saving your model as an HDF5 file via `model.save()`. This file format is considered legacy. We recommend using instead the native Keras format, e.g. `model.save('my_model.keras')`.\n",
      "  saving_api.save_model(\n"
     ]
    },
    {
     "name": "stdout",
     "output_type": "stream",
     "text": [
      "Epoch 1/10\n",
      "64/64 [==============================] - 13s 120ms/step - loss: 0.1400 - val_loss: 0.0861\n",
      "Epoch 2/10\n",
      "64/64 [==============================] - 7s 111ms/step - loss: 0.0376 - val_loss: 0.0845\n",
      "Epoch 3/10\n",
      "64/64 [==============================] - 7s 108ms/step - loss: 0.0314 - val_loss: 0.0709\n",
      "Epoch 4/10\n",
      "64/64 [==============================] - 7s 105ms/step - loss: 0.0288 - val_loss: 0.0588\n",
      "Epoch 5/10\n",
      "64/64 [==============================] - 7s 105ms/step - loss: 0.0281 - val_loss: 0.0565\n",
      "Epoch 6/10\n",
      "64/64 [==============================] - 7s 107ms/step - loss: 0.0270 - val_loss: 0.0563\n",
      "Epoch 7/10\n",
      "64/64 [==============================] - 7s 106ms/step - loss: 0.0268 - val_loss: 0.0579\n",
      "Epoch 8/10\n",
      "64/64 [==============================] - 7s 109ms/step - loss: 0.0265 - val_loss: 0.0532\n",
      "Epoch 9/10\n",
      "64/64 [==============================] - 7s 104ms/step - loss: 0.0262 - val_loss: 0.0513\n",
      "Epoch 10/10\n",
      "64/64 [==============================] - 7s 108ms/step - loss: 0.0261 - val_loss: 0.0557\n",
      "Model for khirai (small cucumber) saved to trained_models\\khirai (small cucumber)_model.h5.\n"
     ]
    },
    {
     "name": "stderr",
     "output_type": "stream",
     "text": [
      "c:\\Program Files\\Python310\\lib\\site-packages\\keras\\src\\engine\\training.py:3079: UserWarning: You are saving your model as an HDF5 file via `model.save()`. This file format is considered legacy. We recommend using instead the native Keras format, e.g. `model.save('my_model.keras')`.\n",
      "  saving_api.save_model(\n"
     ]
    },
    {
     "name": "stdout",
     "output_type": "stream",
     "text": [
      "Epoch 1/10\n",
      "67/67 [==============================] - 14s 131ms/step - loss: 0.1418 - val_loss: 0.2266\n",
      "Epoch 2/10\n",
      "67/67 [==============================] - 8s 114ms/step - loss: 0.0449 - val_loss: 0.2058\n",
      "Epoch 3/10\n",
      "67/67 [==============================] - 7s 110ms/step - loss: 0.0386 - val_loss: 0.1668\n",
      "Epoch 4/10\n",
      "67/67 [==============================] - 7s 108ms/step - loss: 0.0356 - val_loss: 0.1392\n",
      "Epoch 5/10\n",
      "67/67 [==============================] - 7s 106ms/step - loss: 0.0340 - val_loss: 0.1253\n",
      "Epoch 6/10\n",
      "67/67 [==============================] - 7s 105ms/step - loss: 0.0334 - val_loss: 0.1216\n",
      "Epoch 7/10\n",
      "67/67 [==============================] - 7s 107ms/step - loss: 0.0328 - val_loss: 0.1083\n",
      "Epoch 8/10\n",
      "67/67 [==============================] - 7s 106ms/step - loss: 0.0324 - val_loss: 0.1033\n",
      "Epoch 9/10\n",
      "67/67 [==============================] - 7s 107ms/step - loss: 0.0323 - val_loss: 0.0982\n",
      "Epoch 10/10\n",
      "67/67 [==============================] - 7s 108ms/step - loss: 0.0319 - val_loss: 0.0899\n",
      "Model for kochur loti (aroid succer) saved to trained_models\\kochur loti (aroid succer)_model.h5.\n"
     ]
    },
    {
     "name": "stderr",
     "output_type": "stream",
     "text": [
      "c:\\Program Files\\Python310\\lib\\site-packages\\keras\\src\\engine\\training.py:3079: UserWarning: You are saving your model as an HDF5 file via `model.save()`. This file format is considered legacy. We recommend using instead the native Keras format, e.g. `model.save('my_model.keras')`.\n",
      "  saving_api.save_model(\n"
     ]
    },
    {
     "name": "stdout",
     "output_type": "stream",
     "text": [
      "Epoch 1/10\n",
      "70/70 [==============================] - 13s 125ms/step - loss: 0.1191 - val_loss: 3.3662e-04\n",
      "Epoch 2/10\n",
      "70/70 [==============================] - 8s 113ms/step - loss: 0.0365 - val_loss: 3.4161e-04\n",
      "Epoch 3/10\n",
      "70/70 [==============================] - 7s 107ms/step - loss: 0.0310 - val_loss: 3.4374e-04\n",
      "Epoch 4/10\n",
      "70/70 [==============================] - 8s 109ms/step - loss: 0.0140 - val_loss: 3.5916e-04\n",
      "Epoch 5/10\n",
      "70/70 [==============================] - 8s 110ms/step - loss: 0.0078 - val_loss: 5.4583e-04\n",
      "Epoch 6/10\n",
      "70/70 [==============================] - 8s 109ms/step - loss: 0.0088 - val_loss: 3.8439e-04\n",
      "Epoch 7/10\n",
      "70/70 [==============================] - 8s 111ms/step - loss: 0.0056 - val_loss: 6.3163e-04\n",
      "Epoch 8/10\n",
      "70/70 [==============================] - 8s 111ms/step - loss: 0.0052 - val_loss: 0.0019\n",
      "Epoch 9/10\n",
      "70/70 [==============================] - 8s 110ms/step - loss: 0.0046 - val_loss: 4.4771e-04\n",
      "Epoch 10/10\n",
      "70/70 [==============================] - 8s 112ms/step - loss: 0.0048 - val_loss: 0.0242\n",
      "Model for lady`s finger (okra) saved to trained_models\\lady`s finger (okra)_model.h5.\n"
     ]
    },
    {
     "name": "stderr",
     "output_type": "stream",
     "text": [
      "c:\\Program Files\\Python310\\lib\\site-packages\\keras\\src\\engine\\training.py:3079: UserWarning: You are saving your model as an HDF5 file via `model.save()`. This file format is considered legacy. We recommend using instead the native Keras format, e.g. `model.save('my_model.keras')`.\n",
      "  saving_api.save_model(\n"
     ]
    },
    {
     "name": "stdout",
     "output_type": "stream",
     "text": [
      "Epoch 1/10\n",
      "67/67 [==============================] - 13s 125ms/step - loss: 0.1176 - val_loss: 0.0566\n",
      "Epoch 2/10\n",
      "67/67 [==============================] - 7s 106ms/step - loss: 0.0183 - val_loss: 0.0433\n",
      "Epoch 3/10\n",
      "67/67 [==============================] - 7s 103ms/step - loss: 0.0127 - val_loss: 0.0359\n",
      "Epoch 4/10\n",
      "67/67 [==============================] - 7s 110ms/step - loss: 0.0113 - val_loss: 0.0299\n",
      "Epoch 5/10\n",
      "67/67 [==============================] - 7s 106ms/step - loss: 0.0105 - val_loss: 0.0328\n",
      "Epoch 6/10\n",
      "67/67 [==============================] - 7s 106ms/step - loss: 0.0104 - val_loss: 0.0296\n",
      "Epoch 7/10\n",
      "67/67 [==============================] - 7s 103ms/step - loss: 0.0100 - val_loss: 0.0292\n",
      "Epoch 8/10\n",
      "67/67 [==============================] - 7s 104ms/step - loss: 0.0098 - val_loss: 0.0278\n",
      "Epoch 9/10\n",
      "67/67 [==============================] - 7s 106ms/step - loss: 0.0099 - val_loss: 0.0289\n",
      "Epoch 10/10\n",
      "67/67 [==============================] - 7s 105ms/step - loss: 0.0096 - val_loss: 0.0274\n",
      "Model for malabar spinach (puisak) saved to trained_models\\malabar spinach (puisak)_model.h5.\n"
     ]
    },
    {
     "name": "stderr",
     "output_type": "stream",
     "text": [
      "c:\\Program Files\\Python310\\lib\\site-packages\\keras\\src\\engine\\training.py:3079: UserWarning: You are saving your model as an HDF5 file via `model.save()`. This file format is considered legacy. We recommend using instead the native Keras format, e.g. `model.save('my_model.keras')`.\n",
      "  saving_api.save_model(\n"
     ]
    },
    {
     "name": "stdout",
     "output_type": "stream",
     "text": [
      "Epoch 1/10\n",
      "29/29 [==============================] - 9s 147ms/step - loss: 0.2495 - val_loss: 0.0744\n",
      "Epoch 2/10\n",
      "29/29 [==============================] - 3s 112ms/step - loss: 0.0466 - val_loss: 0.0683\n",
      "Epoch 3/10\n",
      "29/29 [==============================] - 3s 111ms/step - loss: 0.0333 - val_loss: 0.0600\n",
      "Epoch 4/10\n",
      "29/29 [==============================] - 3s 117ms/step - loss: 0.0252 - val_loss: 0.0502\n",
      "Epoch 5/10\n",
      "29/29 [==============================] - 3s 111ms/step - loss: 0.0192 - val_loss: 0.0435\n",
      "Epoch 6/10\n",
      "29/29 [==============================] - 3s 108ms/step - loss: 0.0179 - val_loss: 0.0324\n",
      "Epoch 7/10\n",
      "29/29 [==============================] - 3s 113ms/step - loss: 0.0159 - val_loss: 0.0292\n",
      "Epoch 8/10\n",
      "29/29 [==============================] - 3s 110ms/step - loss: 0.0147 - val_loss: 0.0258\n",
      "Epoch 9/10\n",
      "29/29 [==============================] - 3s 114ms/step - loss: 0.0135 - val_loss: 0.0219\n",
      "Epoch 10/10\n",
      "29/29 [==============================] - 3s 117ms/step - loss: 0.0133 - val_loss: 0.0182\n",
      "Model for motorshooti (peas) saved to trained_models\\motorshooti (peas)_model.h5.\n"
     ]
    },
    {
     "name": "stderr",
     "output_type": "stream",
     "text": [
      "c:\\Program Files\\Python310\\lib\\site-packages\\keras\\src\\engine\\training.py:3079: UserWarning: You are saving your model as an HDF5 file via `model.save()`. This file format is considered legacy. We recommend using instead the native Keras format, e.g. `model.save('my_model.keras')`.\n",
      "  saving_api.save_model(\n"
     ]
    },
    {
     "name": "stdout",
     "output_type": "stream",
     "text": [
      "Epoch 1/10\n",
      "69/69 [==============================] - 13s 123ms/step - loss: 0.1279 - val_loss: 0.0419\n",
      "Epoch 2/10\n",
      "69/69 [==============================] - 8s 116ms/step - loss: 0.0292 - val_loss: 0.0342\n",
      "Epoch 3/10\n",
      "69/69 [==============================] - 7s 99ms/step - loss: 0.0235 - val_loss: 0.0323\n",
      "Epoch 4/10\n",
      "69/69 [==============================] - 7s 94ms/step - loss: 0.0221 - val_loss: 0.0288\n",
      "Epoch 5/10\n",
      "69/69 [==============================] - 7s 97ms/step - loss: 0.0209 - val_loss: 0.0293\n",
      "Epoch 6/10\n",
      "69/69 [==============================] - 7s 96ms/step - loss: 0.0203 - val_loss: 0.0282\n",
      "Epoch 7/10\n",
      "69/69 [==============================] - 7s 100ms/step - loss: 0.0198 - val_loss: 0.0269\n",
      "Epoch 8/10\n",
      "69/69 [==============================] - 7s 98ms/step - loss: 0.0197 - val_loss: 0.0267\n",
      "Epoch 9/10\n",
      "69/69 [==============================] - 7s 98ms/step - loss: 0.0195 - val_loss: 0.0260\n",
      "Epoch 10/10\n",
      "69/69 [==============================] - 7s 98ms/step - loss: 0.0194 - val_loss: 0.0262\n",
      "Model for patal (pointed gourd) saved to trained_models\\patal (pointed gourd)_model.h5.\n"
     ]
    },
    {
     "name": "stderr",
     "output_type": "stream",
     "text": [
      "c:\\Program Files\\Python310\\lib\\site-packages\\keras\\src\\engine\\training.py:3079: UserWarning: You are saving your model as an HDF5 file via `model.save()`. This file format is considered legacy. We recommend using instead the native Keras format, e.g. `model.save('my_model.keras')`.\n",
      "  saving_api.save_model(\n"
     ]
    },
    {
     "name": "stdout",
     "output_type": "stream",
     "text": [
      "Epoch 1/10\n",
      "62/62 [==============================] - 12s 114ms/step - loss: 0.0796 - val_loss: 0.0082\n",
      "Epoch 2/10\n",
      "62/62 [==============================] - 6s 102ms/step - loss: 0.0151 - val_loss: 0.0079\n",
      "Epoch 3/10\n",
      "62/62 [==============================] - 6s 105ms/step - loss: 0.0083 - val_loss: 0.0083\n",
      "Epoch 4/10\n",
      "62/62 [==============================] - 7s 106ms/step - loss: 0.0043 - val_loss: 0.0081\n",
      "Epoch 5/10\n",
      "62/62 [==============================] - 6s 101ms/step - loss: 0.0032 - val_loss: 0.0080\n",
      "Epoch 6/10\n",
      "62/62 [==============================] - 6s 102ms/step - loss: 0.0024 - val_loss: 0.0106\n",
      "Epoch 7/10\n",
      "62/62 [==============================] - 6s 101ms/step - loss: 0.0020 - val_loss: 0.0119\n",
      "Epoch 8/10\n",
      "62/62 [==============================] - 6s 101ms/step - loss: 0.0020 - val_loss: 0.0094\n",
      "Epoch 9/10\n",
      "62/62 [==============================] - 6s 105ms/step - loss: 0.0016 - val_loss: 0.0067\n",
      "Epoch 10/10\n",
      "62/62 [==============================] - 6s 103ms/step - loss: 0.0014 - val_loss: 0.0068\n",
      "Model for potato (holland) - red (new) saved to trained_models\\potato (holland) - red (new)_model.h5.\n"
     ]
    },
    {
     "name": "stderr",
     "output_type": "stream",
     "text": [
      "c:\\Program Files\\Python310\\lib\\site-packages\\keras\\src\\engine\\training.py:3079: UserWarning: You are saving your model as an HDF5 file via `model.save()`. This file format is considered legacy. We recommend using instead the native Keras format, e.g. `model.save('my_model.keras')`.\n",
      "  saving_api.save_model(\n"
     ]
    },
    {
     "name": "stdout",
     "output_type": "stream",
     "text": [
      "Epoch 1/10\n",
      "57/57 [==============================] - 12s 123ms/step - loss: 0.1667 - val_loss: 0.2620\n",
      "Epoch 2/10\n",
      "57/57 [==============================] - 6s 108ms/step - loss: 0.0324 - val_loss: 0.2360\n",
      "Epoch 3/10\n",
      "57/57 [==============================] - 6s 107ms/step - loss: 0.0262 - val_loss: 0.2092\n",
      "Epoch 4/10\n",
      "57/57 [==============================] - 6s 108ms/step - loss: 0.0244 - val_loss: 0.2053\n",
      "Epoch 5/10\n",
      "57/57 [==============================] - 6s 107ms/step - loss: 0.0230 - val_loss: 0.1874\n",
      "Epoch 6/10\n",
      "57/57 [==============================] - 6s 108ms/step - loss: 0.0223 - val_loss: 0.1836\n",
      "Epoch 7/10\n",
      "57/57 [==============================] - 6s 105ms/step - loss: 0.0216 - val_loss: 0.1489\n",
      "Epoch 8/10\n",
      "57/57 [==============================] - 6s 107ms/step - loss: 0.0211 - val_loss: 0.1553\n",
      "Epoch 9/10\n",
      "57/57 [==============================] - 6s 105ms/step - loss: 0.0210 - val_loss: 0.1435\n",
      "Epoch 10/10\n",
      "57/57 [==============================] - 6s 105ms/step - loss: 0.0208 - val_loss: 0.1336\n",
      "Model for potato (holland) - red (old) saved to trained_models\\potato (holland) - red (old)_model.h5.\n"
     ]
    },
    {
     "name": "stderr",
     "output_type": "stream",
     "text": [
      "c:\\Program Files\\Python310\\lib\\site-packages\\keras\\src\\engine\\training.py:3079: UserWarning: You are saving your model as an HDF5 file via `model.save()`. This file format is considered legacy. We recommend using instead the native Keras format, e.g. `model.save('my_model.keras')`.\n",
      "  saving_api.save_model(\n"
     ]
    },
    {
     "name": "stdout",
     "output_type": "stream",
     "text": [
      "Epoch 1/10\n",
      "63/63 [==============================] - 13s 122ms/step - loss: 0.1262 - val_loss: 0.1059\n",
      "Epoch 2/10\n",
      "63/63 [==============================] - 7s 105ms/step - loss: 0.0247 - val_loss: 0.1101\n",
      "Epoch 3/10\n",
      "63/63 [==============================] - 6s 101ms/step - loss: 0.0175 - val_loss: 0.1046\n",
      "Epoch 4/10\n",
      "63/63 [==============================] - 6s 102ms/step - loss: 0.0155 - val_loss: 0.0936\n",
      "Epoch 5/10\n",
      "63/63 [==============================] - 6s 102ms/step - loss: 0.0138 - val_loss: 0.0929\n",
      "Epoch 6/10\n",
      "63/63 [==============================] - 6s 101ms/step - loss: 0.0133 - val_loss: 0.0792\n",
      "Epoch 7/10\n",
      "63/63 [==============================] - 6s 102ms/step - loss: 0.0129 - val_loss: 0.0860\n",
      "Epoch 8/10\n",
      "63/63 [==============================] - 6s 101ms/step - loss: 0.0125 - val_loss: 0.0743\n",
      "Epoch 9/10\n",
      "63/63 [==============================] - 6s 103ms/step - loss: 0.0122 - val_loss: 0.0737\n",
      "Epoch 10/10\n",
      "63/63 [==============================] - 7s 105ms/step - loss: 0.0124 - val_loss: 0.0706\n",
      "Model for potato (local) - new saved to trained_models\\potato (local) - new_model.h5.\n"
     ]
    },
    {
     "name": "stderr",
     "output_type": "stream",
     "text": [
      "c:\\Program Files\\Python310\\lib\\site-packages\\keras\\src\\engine\\training.py:3079: UserWarning: You are saving your model as an HDF5 file via `model.save()`. This file format is considered legacy. We recommend using instead the native Keras format, e.g. `model.save('my_model.keras')`.\n",
      "  saving_api.save_model(\n"
     ]
    },
    {
     "name": "stdout",
     "output_type": "stream",
     "text": [
      "Epoch 1/10\n",
      "63/63 [==============================] - 13s 118ms/step - loss: 0.0916 - val_loss: 0.4436\n",
      "Epoch 2/10\n",
      "63/63 [==============================] - 7s 117ms/step - loss: 0.0170 - val_loss: 0.3741\n",
      "Epoch 3/10\n",
      "63/63 [==============================] - 7s 107ms/step - loss: 0.0104 - val_loss: 0.3137\n",
      "Epoch 4/10\n",
      "63/63 [==============================] - 7s 110ms/step - loss: 0.0079 - val_loss: 0.2435\n",
      "Epoch 5/10\n",
      "63/63 [==============================] - 7s 108ms/step - loss: 0.0064 - val_loss: 0.2442\n",
      "Epoch 6/10\n",
      "63/63 [==============================] - 7s 107ms/step - loss: 0.0052 - val_loss: 0.1975\n",
      "Epoch 7/10\n",
      "63/63 [==============================] - 7s 108ms/step - loss: 0.0055 - val_loss: 0.1712\n",
      "Epoch 8/10\n",
      "63/63 [==============================] - 7s 107ms/step - loss: 0.0045 - val_loss: 0.1585\n",
      "Epoch 9/10\n",
      "63/63 [==============================] - 7s 110ms/step - loss: 0.0044 - val_loss: 0.1243\n",
      "Epoch 10/10\n",
      "63/63 [==============================] - 7s 108ms/step - loss: 0.0042 - val_loss: 0.1192\n",
      "Model for potato (local) - old saved to trained_models\\potato (local) - old_model.h5.\n"
     ]
    },
    {
     "name": "stderr",
     "output_type": "stream",
     "text": [
      "c:\\Program Files\\Python310\\lib\\site-packages\\keras\\src\\engine\\training.py:3079: UserWarning: You are saving your model as an HDF5 file via `model.save()`. This file format is considered legacy. We recommend using instead the native Keras format, e.g. `model.save('my_model.keras')`.\n",
      "  saving_api.save_model(\n"
     ]
    },
    {
     "name": "stdout",
     "output_type": "stream",
     "text": [
      "Epoch 1/10\n",
      "61/61 [==============================] - 28s 273ms/step - loss: 0.2380 - val_loss: 0.1523\n",
      "Epoch 2/10\n",
      "61/61 [==============================] - 16s 270ms/step - loss: 0.0535 - val_loss: 0.1334\n",
      "Epoch 3/10\n",
      "61/61 [==============================] - 16s 265ms/step - loss: 0.0372 - val_loss: 0.0923\n",
      "Epoch 4/10\n",
      "61/61 [==============================] - 16s 269ms/step - loss: 0.0332 - val_loss: 0.0744\n",
      "Epoch 5/10\n",
      "61/61 [==============================] - 16s 268ms/step - loss: 0.0308 - val_loss: 0.0616\n",
      "Epoch 6/10\n",
      "61/61 [==============================] - 17s 274ms/step - loss: 0.0288 - val_loss: 0.0611\n",
      "Epoch 7/10\n",
      "61/61 [==============================] - 17s 277ms/step - loss: 0.0263 - val_loss: 0.0558\n",
      "Epoch 8/10\n",
      "61/61 [==============================] - 18s 300ms/step - loss: 0.0258 - val_loss: 0.0459\n",
      "Epoch 9/10\n",
      "61/61 [==============================] - 18s 288ms/step - loss: 0.0246 - val_loss: 0.0438\n",
      "Epoch 10/10\n",
      "61/61 [==============================] - 16s 267ms/step - loss: 0.0244 - val_loss: 0.0439\n",
      "Model for radish (china) saved to trained_models\\radish (china)_model.h5.\n"
     ]
    },
    {
     "name": "stderr",
     "output_type": "stream",
     "text": [
      "c:\\Program Files\\Python310\\lib\\site-packages\\keras\\src\\engine\\training.py:3079: UserWarning: You are saving your model as an HDF5 file via `model.save()`. This file format is considered legacy. We recommend using instead the native Keras format, e.g. `model.save('my_model.keras')`.\n",
      "  saving_api.save_model(\n"
     ]
    },
    {
     "name": "stdout",
     "output_type": "stream",
     "text": [
      "Epoch 1/10\n",
      "34/34 [==============================] - 15s 291ms/step - loss: 0.1638 - val_loss: 0.1407\n",
      "Epoch 2/10\n",
      "34/34 [==============================] - 9s 258ms/step - loss: 0.0509 - val_loss: 0.1226\n",
      "Epoch 3/10\n",
      "34/34 [==============================] - 9s 253ms/step - loss: 0.0433 - val_loss: 0.1143\n",
      "Epoch 4/10\n",
      "34/34 [==============================] - 9s 256ms/step - loss: 0.0372 - val_loss: 0.1012\n",
      "Epoch 5/10\n",
      "34/34 [==============================] - 9s 258ms/step - loss: 0.0298 - val_loss: 0.0831\n",
      "Epoch 6/10\n",
      "34/34 [==============================] - 9s 255ms/step - loss: 0.0332 - val_loss: 0.1034\n",
      "Epoch 7/10\n",
      "34/34 [==============================] - 9s 255ms/step - loss: 0.0295 - val_loss: 0.0741\n",
      "Epoch 8/10\n",
      "34/34 [==============================] - 9s 255ms/step - loss: 0.0251 - val_loss: 0.0454\n",
      "Epoch 9/10\n",
      "34/34 [==============================] - 9s 256ms/step - loss: 0.0240 - val_loss: 0.0355\n",
      "Epoch 10/10\n",
      "34/34 [==============================] - 9s 258ms/step - loss: 0.0231 - val_loss: 0.0361\n",
      "Model for radish spinach (mulashak) saved to trained_models\\radish spinach (mulashak)_model.h5.\n"
     ]
    },
    {
     "name": "stderr",
     "output_type": "stream",
     "text": [
      "c:\\Program Files\\Python310\\lib\\site-packages\\keras\\src\\engine\\training.py:3079: UserWarning: You are saving your model as an HDF5 file via `model.save()`. This file format is considered legacy. We recommend using instead the native Keras format, e.g. `model.save('my_model.keras')`.\n",
      "  saving_api.save_model(\n"
     ]
    },
    {
     "name": "stdout",
     "output_type": "stream",
     "text": [
      "Epoch 1/10\n",
      "43/43 [==============================] - 17s 282ms/step - loss: 0.2036 - val_loss: 0.0152\n",
      "Epoch 2/10\n",
      "43/43 [==============================] - 11s 258ms/step - loss: 0.0528 - val_loss: 0.0136\n",
      "Epoch 3/10\n",
      "43/43 [==============================] - 11s 250ms/step - loss: 0.0406 - val_loss: 0.0122\n",
      "Epoch 4/10\n",
      "43/43 [==============================] - 11s 254ms/step - loss: 0.0363 - val_loss: 0.0111\n",
      "Epoch 5/10\n",
      "43/43 [==============================] - 11s 249ms/step - loss: 0.0344 - val_loss: 0.0106\n",
      "Epoch 6/10\n",
      "43/43 [==============================] - 11s 249ms/step - loss: 0.0329 - val_loss: 0.0107\n",
      "Epoch 7/10\n",
      "43/43 [==============================] - 11s 253ms/step - loss: 0.0321 - val_loss: 0.0108\n",
      "Epoch 8/10\n",
      "43/43 [==============================] - 11s 249ms/step - loss: 0.0316 - val_loss: 0.0107\n",
      "Epoch 9/10\n",
      "43/43 [==============================] - 11s 251ms/step - loss: 0.0317 - val_loss: 0.0110\n",
      "Epoch 10/10\n",
      "43/43 [==============================] - 11s 251ms/step - loss: 0.0316 - val_loss: 0.0108\n",
      "Model for tomato green saved to trained_models\\tomato green_model.h5.\n"
     ]
    },
    {
     "name": "stderr",
     "output_type": "stream",
     "text": [
      "c:\\Program Files\\Python310\\lib\\site-packages\\keras\\src\\engine\\training.py:3079: UserWarning: You are saving your model as an HDF5 file via `model.save()`. This file format is considered legacy. We recommend using instead the native Keras format, e.g. `model.save('my_model.keras')`.\n",
      "  saving_api.save_model(\n"
     ]
    },
    {
     "name": "stdout",
     "output_type": "stream",
     "text": [
      "Epoch 1/10\n",
      "28/28 [==============================] - 14s 325ms/step - loss: 0.4741 - val_loss: 0.0680\n",
      "Epoch 2/10\n",
      "28/28 [==============================] - 8s 296ms/step - loss: 0.0955 - val_loss: 0.0632\n",
      "Epoch 3/10\n",
      "28/28 [==============================] - 7s 258ms/step - loss: 0.0460 - val_loss: 0.0629\n",
      "Epoch 4/10\n",
      "28/28 [==============================] - 7s 255ms/step - loss: 0.0360 - val_loss: 0.0607\n",
      "Epoch 5/10\n",
      "28/28 [==============================] - 7s 255ms/step - loss: 0.0256 - val_loss: 0.0580\n",
      "Epoch 6/10\n",
      "28/28 [==============================] - 7s 252ms/step - loss: 0.0225 - val_loss: 0.0551\n",
      "Epoch 7/10\n",
      "28/28 [==============================] - 7s 265ms/step - loss: 0.0192 - val_loss: 0.0543\n",
      "Epoch 8/10\n",
      "28/28 [==============================] - 7s 255ms/step - loss: 0.0189 - val_loss: 0.0525\n",
      "Epoch 9/10\n",
      "28/28 [==============================] - 7s 255ms/step - loss: 0.0176 - val_loss: 0.0513\n",
      "Epoch 10/10\n",
      "28/28 [==============================] - 7s 255ms/step - loss: 0.0166 - val_loss: 0.0532\n",
      "Model for turnip saved to trained_models\\turnip_model.h5.\n"
     ]
    },
    {
     "name": "stderr",
     "output_type": "stream",
     "text": [
      "c:\\Program Files\\Python310\\lib\\site-packages\\keras\\src\\engine\\training.py:3079: UserWarning: You are saving your model as an HDF5 file via `model.save()`. This file format is considered legacy. We recommend using instead the native Keras format, e.g. `model.save('my_model.keras')`.\n",
      "  saving_api.save_model(\n"
     ]
    },
    {
     "name": "stdout",
     "output_type": "stream",
     "text": [
      "Epoch 1/10\n",
      "65/65 [==============================] - 22s 264ms/step - loss: 0.1470 - val_loss: 0.0122\n",
      "Epoch 2/10\n",
      "65/65 [==============================] - 16s 248ms/step - loss: 0.0230 - val_loss: 0.0100\n",
      "Epoch 3/10\n",
      "65/65 [==============================] - 16s 240ms/step - loss: 0.0113 - val_loss: 0.0067\n",
      "Epoch 4/10\n",
      "65/65 [==============================] - 16s 245ms/step - loss: 0.0080 - val_loss: 0.0052\n",
      "Epoch 5/10\n",
      "65/65 [==============================] - 16s 243ms/step - loss: 0.0065 - val_loss: 0.0051\n",
      "Epoch 6/10\n",
      "65/65 [==============================] - 17s 260ms/step - loss: 0.0051 - val_loss: 0.0043\n",
      "Epoch 7/10\n",
      "65/65 [==============================] - 16s 243ms/step - loss: 0.0047 - val_loss: 0.0040\n",
      "Epoch 8/10\n",
      "65/65 [==============================] - 16s 242ms/step - loss: 0.0045 - val_loss: 0.0039\n",
      "Epoch 9/10\n",
      "65/65 [==============================] - 16s 244ms/step - loss: 0.0042 - val_loss: 0.0037\n",
      "Epoch 10/10\n",
      "65/65 [==============================] - 16s 243ms/step - loss: 0.0041 - val_loss: 0.0035\n",
      "Model for uchehhe (bitter gourd) saved to trained_models\\uchehhe (bitter gourd)_model.h5.\n"
     ]
    },
    {
     "name": "stderr",
     "output_type": "stream",
     "text": [
      "c:\\Program Files\\Python310\\lib\\site-packages\\keras\\src\\engine\\training.py:3079: UserWarning: You are saving your model as an HDF5 file via `model.save()`. This file format is considered legacy. We recommend using instead the native Keras format, e.g. `model.save('my_model.keras')`.\n",
      "  saving_api.save_model(\n"
     ]
    },
    {
     "name": "stdout",
     "output_type": "stream",
     "text": [
      "Epoch 1/10\n",
      "48/48 [==============================] - 17s 264ms/step - loss: 0.1141 - val_loss: 0.0843\n",
      "Epoch 2/10\n",
      "48/48 [==============================] - 12s 253ms/step - loss: 0.0287 - val_loss: 0.0764\n",
      "Epoch 3/10\n",
      "48/48 [==============================] - 12s 241ms/step - loss: 0.0164 - val_loss: 0.0694\n",
      "Epoch 4/10\n",
      "48/48 [==============================] - 12s 241ms/step - loss: 0.0126 - val_loss: 0.0591\n",
      "Epoch 5/10\n",
      "48/48 [==============================] - 12s 240ms/step - loss: 0.0113 - val_loss: 0.0562\n",
      "Epoch 6/10\n",
      "48/48 [==============================] - 12s 241ms/step - loss: 0.0106 - val_loss: 0.0458\n",
      "Epoch 7/10\n",
      "48/48 [==============================] - 12s 241ms/step - loss: 0.0150 - val_loss: 0.0419\n",
      "Epoch 8/10\n",
      "48/48 [==============================] - 11s 238ms/step - loss: 0.0107 - val_loss: 0.0476\n",
      "Epoch 9/10\n",
      "48/48 [==============================] - 11s 239ms/step - loss: 0.0098 - val_loss: 0.0406\n",
      "Epoch 10/10\n",
      "48/48 [==============================] - 12s 243ms/step - loss: 0.0093 - val_loss: 0.0410\n",
      "Model for water aroid (pani cachhue) saved to trained_models\\water aroid (pani cachhue)_model.h5.\n"
     ]
    },
    {
     "name": "stderr",
     "output_type": "stream",
     "text": [
      "c:\\Program Files\\Python310\\lib\\site-packages\\keras\\src\\engine\\training.py:3079: UserWarning: You are saving your model as an HDF5 file via `model.save()`. This file format is considered legacy. We recommend using instead the native Keras format, e.g. `model.save('my_model.keras')`.\n",
      "  saving_api.save_model(\n"
     ]
    },
    {
     "name": "stdout",
     "output_type": "stream",
     "text": [
      "Epoch 1/10\n",
      "40/40 [==============================] - 15s 266ms/step - loss: 0.3158 - val_loss: 0.1358\n",
      "Epoch 2/10\n",
      "40/40 [==============================] - 10s 241ms/step - loss: 0.0618 - val_loss: 0.1184\n",
      "Epoch 3/10\n",
      "40/40 [==============================] - 9s 234ms/step - loss: 0.0365 - val_loss: 0.1064\n",
      "Epoch 4/10\n",
      "40/40 [==============================] - 10s 238ms/step - loss: 0.0278 - val_loss: 0.0648\n",
      "Epoch 5/10\n",
      "40/40 [==============================] - 10s 238ms/step - loss: 0.0229 - val_loss: 0.0571\n",
      "Epoch 6/10\n",
      "40/40 [==============================] - 9s 236ms/step - loss: 0.0214 - val_loss: 0.0467\n",
      "Epoch 7/10\n",
      "40/40 [==============================] - 9s 234ms/step - loss: 0.0186 - val_loss: 0.0310\n",
      "Epoch 8/10\n",
      "40/40 [==============================] - 9s 237ms/step - loss: 0.0192 - val_loss: 0.0387\n",
      "Epoch 9/10\n",
      "40/40 [==============================] - 10s 252ms/step - loss: 0.0183 - val_loss: 0.0222\n",
      "Epoch 10/10\n",
      "40/40 [==============================] - 10s 240ms/step - loss: 0.0165 - val_loss: 0.0321\n",
      "Model for sweet potato saved to trained_models\\sweet potato_model.h5.\n"
     ]
    },
    {
     "name": "stderr",
     "output_type": "stream",
     "text": [
      "c:\\Program Files\\Python310\\lib\\site-packages\\keras\\src\\engine\\training.py:3079: UserWarning: You are saving your model as an HDF5 file via `model.save()`. This file format is considered legacy. We recommend using instead the native Keras format, e.g. `model.save('my_model.keras')`.\n",
      "  saving_api.save_model(\n"
     ]
    },
    {
     "name": "stdout",
     "output_type": "stream",
     "text": [
      "Epoch 1/10\n",
      "68/68 [==============================] - 22s 252ms/step - loss: 0.0375 - val_loss: 0.0274\n",
      "Epoch 2/10\n",
      "68/68 [==============================] - 16s 241ms/step - loss: 0.0051 - val_loss: 0.0247\n",
      "Epoch 3/10\n",
      "68/68 [==============================] - 16s 240ms/step - loss: 0.0026 - val_loss: 0.0230\n",
      "Epoch 4/10\n",
      "68/68 [==============================] - 16s 238ms/step - loss: 0.0015 - val_loss: 0.0224\n",
      "Epoch 5/10\n",
      "68/68 [==============================] - 16s 239ms/step - loss: 0.0010 - val_loss: 0.0223\n",
      "Epoch 6/10\n",
      "68/68 [==============================] - 16s 241ms/step - loss: 9.1133e-04 - val_loss: 0.0224\n",
      "Epoch 7/10\n",
      "68/68 [==============================] - 16s 240ms/step - loss: 7.4020e-04 - val_loss: 0.0213\n",
      "Epoch 8/10\n",
      "68/68 [==============================] - 16s 240ms/step - loss: 8.1568e-04 - val_loss: 0.0264\n",
      "Epoch 9/10\n",
      "68/68 [==============================] - 16s 240ms/step - loss: 6.9012e-04 - val_loss: 0.0234\n",
      "Epoch 10/10\n",
      "68/68 [==============================] - 17s 247ms/step - loss: 5.7390e-04 - val_loss: 0.0162\n",
      "Model for chichinga (snakegourd) saved to trained_models\\chichinga (snakegourd)_model.h5.\n"
     ]
    },
    {
     "name": "stderr",
     "output_type": "stream",
     "text": [
      "c:\\Program Files\\Python310\\lib\\site-packages\\keras\\src\\engine\\training.py:3079: UserWarning: You are saving your model as an HDF5 file via `model.save()`. This file format is considered legacy. We recommend using instead the native Keras format, e.g. `model.save('my_model.keras')`.\n",
      "  saving_api.save_model(\n"
     ]
    },
    {
     "name": "stdout",
     "output_type": "stream",
     "text": [
      "Epoch 1/10\n",
      "64/64 [==============================] - 21s 256ms/step - loss: 0.1346 - val_loss: 0.1199\n",
      "Epoch 2/10\n",
      "64/64 [==============================] - 15s 242ms/step - loss: 0.0427 - val_loss: 0.1147\n",
      "Epoch 3/10\n",
      "64/64 [==============================] - 15s 238ms/step - loss: 0.0367 - val_loss: 0.1088\n",
      "Epoch 4/10\n",
      "64/64 [==============================] - 15s 238ms/step - loss: 0.0354 - val_loss: 0.0960\n",
      "Epoch 5/10\n",
      "64/64 [==============================] - 15s 239ms/step - loss: 0.0343 - val_loss: 0.0926\n",
      "Epoch 6/10\n",
      "64/64 [==============================] - 15s 238ms/step - loss: 0.0339 - val_loss: 0.0888\n",
      "Epoch 7/10\n",
      "64/64 [==============================] - 15s 237ms/step - loss: 0.0334 - val_loss: 0.0854\n",
      "Epoch 8/10\n",
      "64/64 [==============================] - 15s 240ms/step - loss: 0.0333 - val_loss: 0.0854\n",
      "Epoch 9/10\n",
      "64/64 [==============================] - 15s 240ms/step - loss: 0.0331 - val_loss: 0.0822\n",
      "Epoch 10/10\n",
      "64/64 [==============================] - 15s 239ms/step - loss: 0.0328 - val_loss: 0.0820\n",
      "Model for jhinga (tasle gourd) saved to trained_models\\jhinga (tasle gourd)_model.h5.\n"
     ]
    },
    {
     "name": "stderr",
     "output_type": "stream",
     "text": [
      "c:\\Program Files\\Python310\\lib\\site-packages\\keras\\src\\engine\\training.py:3079: UserWarning: You are saving your model as an HDF5 file via `model.save()`. This file format is considered legacy. We recommend using instead the native Keras format, e.g. `model.save('my_model.keras')`.\n",
      "  saving_api.save_model(\n"
     ]
    },
    {
     "name": "stdout",
     "output_type": "stream",
     "text": [
      "Epoch 1/10\n",
      "52/52 [==============================] - 18s 261ms/step - loss: 0.0897 - val_loss: 0.0038\n",
      "Epoch 2/10\n",
      "52/52 [==============================] - 12s 232ms/step - loss: 0.0253 - val_loss: 0.0043\n",
      "Epoch 3/10\n",
      "52/52 [==============================] - 12s 229ms/step - loss: 0.0071 - val_loss: 0.0040\n",
      "Epoch 4/10\n",
      "52/52 [==============================] - 12s 240ms/step - loss: 0.0039 - val_loss: 0.0042\n",
      "Epoch 5/10\n",
      "52/52 [==============================] - 12s 233ms/step - loss: 0.0036 - val_loss: 0.0041\n",
      "Epoch 6/10\n",
      "52/52 [==============================] - 12s 234ms/step - loss: 0.0024 - val_loss: 0.0044\n",
      "Epoch 7/10\n",
      "52/52 [==============================] - 12s 235ms/step - loss: 0.0017 - val_loss: 0.0040\n",
      "Epoch 8/10\n",
      "52/52 [==============================] - 12s 235ms/step - loss: 0.0015 - val_loss: 0.0039\n",
      "Epoch 9/10\n",
      "52/52 [==============================] - 12s 233ms/step - loss: 0.0014 - val_loss: 0.0040\n",
      "Epoch 10/10\n",
      "52/52 [==============================] - 12s 235ms/step - loss: 0.0013 - val_loss: 0.0037\n",
      "Model for kakroll saved to trained_models\\kakroll_model.h5.\n"
     ]
    },
    {
     "name": "stderr",
     "output_type": "stream",
     "text": [
      "c:\\Program Files\\Python310\\lib\\site-packages\\keras\\src\\engine\\training.py:3079: UserWarning: You are saving your model as an HDF5 file via `model.save()`. This file format is considered legacy. We recommend using instead the native Keras format, e.g. `model.save('my_model.keras')`.\n",
      "  saving_api.save_model(\n"
     ]
    },
    {
     "name": "stdout",
     "output_type": "stream",
     "text": [
      "Epoch 1/10\n",
      "61/61 [==============================] - 20s 246ms/step - loss: 0.1928 - val_loss: 0.2114\n",
      "Epoch 2/10\n",
      "61/61 [==============================] - 14s 233ms/step - loss: 0.0600 - val_loss: 0.2135\n",
      "Epoch 3/10\n",
      "61/61 [==============================] - 14s 224ms/step - loss: 0.0523 - val_loss: 0.1980\n",
      "Epoch 4/10\n",
      "61/61 [==============================] - 14s 227ms/step - loss: 0.0489 - val_loss: 0.1797\n",
      "Epoch 5/10\n",
      "61/61 [==============================] - 14s 233ms/step - loss: 0.0474 - val_loss: 0.1656\n",
      "Epoch 6/10\n",
      "61/61 [==============================] - 14s 234ms/step - loss: 0.0464 - val_loss: 0.1452\n",
      "Epoch 7/10\n",
      "61/61 [==============================] - 14s 228ms/step - loss: 0.0458 - val_loss: 0.1451\n",
      "Epoch 8/10\n",
      "61/61 [==============================] - 14s 232ms/step - loss: 0.0454 - val_loss: 0.1289\n",
      "Epoch 9/10\n",
      "61/61 [==============================] - 14s 226ms/step - loss: 0.0453 - val_loss: 0.1325\n",
      "Epoch 10/10\n",
      "61/61 [==============================] - 15s 249ms/step - loss: 0.0449 - val_loss: 0.1253\n",
      "Model for dhundol saved to trained_models\\dhundol_model.h5.\n"
     ]
    },
    {
     "name": "stderr",
     "output_type": "stream",
     "text": [
      "c:\\Program Files\\Python310\\lib\\site-packages\\keras\\src\\engine\\training.py:3079: UserWarning: You are saving your model as an HDF5 file via `model.save()`. This file format is considered legacy. We recommend using instead the native Keras format, e.g. `model.save('my_model.keras')`.\n",
      "  saving_api.save_model(\n"
     ]
    },
    {
     "name": "stdout",
     "output_type": "stream",
     "text": [
      "Epoch 1/10\n",
      "62/62 [==============================] - 19s 235ms/step - loss: 0.1312 - val_loss: 0.1110\n",
      "Epoch 2/10\n",
      "62/62 [==============================] - 14s 230ms/step - loss: 0.0143 - val_loss: 0.0946\n",
      "Epoch 3/10\n",
      "62/62 [==============================] - 14s 231ms/step - loss: 0.0074 - val_loss: 0.0820\n",
      "Epoch 4/10\n",
      "62/62 [==============================] - 14s 230ms/step - loss: 0.0055 - val_loss: 0.0697\n",
      "Epoch 5/10\n",
      "62/62 [==============================] - 14s 230ms/step - loss: 0.0051 - val_loss: 0.0745\n",
      "Epoch 6/10\n",
      "62/62 [==============================] - 14s 232ms/step - loss: 0.0043 - val_loss: 0.0684\n",
      "Epoch 7/10\n",
      "62/62 [==============================] - 14s 232ms/step - loss: 0.0038 - val_loss: 0.0602\n",
      "Epoch 8/10\n",
      "62/62 [==============================] - 15s 242ms/step - loss: 0.0037 - val_loss: 0.0475\n",
      "Epoch 9/10\n",
      "62/62 [==============================] - 14s 233ms/step - loss: 0.0037 - val_loss: 0.0423\n",
      "Epoch 10/10\n",
      "62/62 [==============================] - 14s 233ms/step - loss: 0.0035 - val_loss: 0.0280\n",
      "Model for mukhi cachue (aroid) saved to trained_models\\mukhi cachue (aroid)_model.h5.\n"
     ]
    },
    {
     "name": "stderr",
     "output_type": "stream",
     "text": [
      "c:\\Program Files\\Python310\\lib\\site-packages\\keras\\src\\engine\\training.py:3079: UserWarning: You are saving your model as an HDF5 file via `model.save()`. This file format is considered legacy. We recommend using instead the native Keras format, e.g. `model.save('my_model.keras')`.\n",
      "  saving_api.save_model(\n"
     ]
    },
    {
     "name": "stdout",
     "output_type": "stream",
     "text": [
      "Epoch 1/10\n",
      "26/26 [==============================] - 12s 276ms/step - loss: 0.3529 - val_loss: 0.2594\n",
      "Epoch 2/10\n",
      "26/26 [==============================] - 6s 231ms/step - loss: 0.0966 - val_loss: 0.2316\n",
      "Epoch 3/10\n",
      "26/26 [==============================] - 6s 232ms/step - loss: 0.0641 - val_loss: 0.2282\n",
      "Epoch 4/10\n",
      "26/26 [==============================] - 6s 228ms/step - loss: 0.0435 - val_loss: 0.2026\n",
      "Epoch 5/10\n",
      "26/26 [==============================] - 6s 243ms/step - loss: 0.0358 - val_loss: 0.1845\n",
      "Epoch 6/10\n",
      "26/26 [==============================] - 6s 231ms/step - loss: 0.0311 - val_loss: 0.1690\n",
      "Epoch 7/10\n",
      "26/26 [==============================] - 6s 228ms/step - loss: 0.0273 - val_loss: 0.1507\n",
      "Epoch 8/10\n",
      "26/26 [==============================] - 6s 229ms/step - loss: 0.0252 - val_loss: 0.1167\n",
      "Epoch 9/10\n",
      "26/26 [==============================] - 6s 234ms/step - loss: 0.0246 - val_loss: 0.1042\n",
      "Epoch 10/10\n",
      "26/26 [==============================] - 6s 228ms/step - loss: 0.0212 - val_loss: 0.0795\n",
      "Model for pancha mukhi (aroid) saved to trained_models\\pancha mukhi (aroid)_model.h5.\n"
     ]
    },
    {
     "name": "stderr",
     "output_type": "stream",
     "text": [
      "c:\\Program Files\\Python310\\lib\\site-packages\\keras\\src\\engine\\training.py:3079: UserWarning: You are saving your model as an HDF5 file via `model.save()`. This file format is considered legacy. We recommend using instead the native Keras format, e.g. `model.save('my_model.keras')`.\n",
      "  saving_api.save_model(\n"
     ]
    },
    {
     "name": "stdout",
     "output_type": "stream",
     "text": [
      "Epoch 1/10\n",
      "30/30 [==============================] - 13s 256ms/step - loss: 0.2209 - val_loss: 0.0447\n",
      "Epoch 2/10\n",
      "30/30 [==============================] - 7s 225ms/step - loss: 0.0575 - val_loss: 0.0469\n",
      "Epoch 3/10\n",
      "30/30 [==============================] - 7s 222ms/step - loss: 0.0440 - val_loss: 0.0421\n",
      "Epoch 4/10\n",
      "30/30 [==============================] - 7s 217ms/step - loss: 0.0406 - val_loss: 0.0389\n",
      "Epoch 5/10\n",
      "30/30 [==============================] - 6s 217ms/step - loss: 0.0352 - val_loss: 0.0386\n",
      "Epoch 6/10\n",
      "30/30 [==============================] - 7s 218ms/step - loss: 0.0349 - val_loss: 0.0384\n",
      "Epoch 7/10\n",
      "30/30 [==============================] - 7s 218ms/step - loss: 0.0339 - val_loss: 0.0351\n",
      "Epoch 8/10\n",
      "30/30 [==============================] - 7s 218ms/step - loss: 0.0308 - val_loss: 0.0379\n",
      "Epoch 9/10\n",
      "30/30 [==============================] - 6s 211ms/step - loss: 0.0316 - val_loss: 0.0374\n",
      "Epoch 10/10\n",
      "30/30 [==============================] - 7s 233ms/step - loss: 0.0310 - val_loss: 0.0365\n",
      "Model for tomato (imported) saved to trained_models\\tomato (imported)_model.h5.\n"
     ]
    },
    {
     "name": "stderr",
     "output_type": "stream",
     "text": [
      "c:\\Program Files\\Python310\\lib\\site-packages\\keras\\src\\engine\\training.py:3079: UserWarning: You are saving your model as an HDF5 file via `model.save()`. This file format is considered legacy. We recommend using instead the native Keras format, e.g. `model.save('my_model.keras')`.\n",
      "  saving_api.save_model(\n"
     ]
    },
    {
     "name": "stdout",
     "output_type": "stream",
     "text": [
      "Epoch 1/10\n",
      "1/1 [==============================] - 6s 6s/step - loss: 1.1857 - val_loss: 0.0376\n",
      "Epoch 2/10\n",
      "1/1 [==============================] - 0s 120ms/step - loss: 0.8549 - val_loss: 0.0368\n",
      "Epoch 3/10\n",
      "1/1 [==============================] - 0s 100ms/step - loss: 1.1808 - val_loss: 0.0351\n",
      "Epoch 4/10\n",
      "1/1 [==============================] - 0s 88ms/step - loss: 0.4165 - val_loss: 0.0348\n",
      "Epoch 5/10\n",
      "1/1 [==============================] - 0s 130ms/step - loss: 0.2123 - val_loss: 0.0349\n",
      "Epoch 6/10\n",
      "1/1 [==============================] - 0s 104ms/step - loss: 0.2537 - val_loss: 0.0359\n",
      "Epoch 7/10\n",
      "1/1 [==============================] - 0s 94ms/step - loss: 0.3054 - val_loss: 0.0365\n",
      "Epoch 8/10\n",
      "1/1 [==============================] - 0s 100ms/step - loss: 0.3200 - val_loss: 0.0366\n",
      "Epoch 9/10\n",
      "1/1 [==============================] - 0s 101ms/step - loss: 0.2164 - val_loss: 0.0363\n",
      "Epoch 10/10\n",
      "1/1 [==============================] - 0s 100ms/step - loss: 0.2821 - val_loss: 0.0362\n",
      "Model for water pumpkin saved to trained_models\\water pumpkin_model.h5.\n"
     ]
    },
    {
     "name": "stderr",
     "output_type": "stream",
     "text": [
      "c:\\Program Files\\Python310\\lib\\site-packages\\keras\\src\\engine\\training.py:3079: UserWarning: You are saving your model as an HDF5 file via `model.save()`. This file format is considered legacy. We recommend using instead the native Keras format, e.g. `model.save('my_model.keras')`.\n",
      "  saving_api.save_model(\n"
     ]
    }
   ],
   "source": [
    "import os\n",
    "from model import preprocess_and_reshape, filter_columns, create_sequences, preprocess_for_lstm, build_complex_lstm_model, train_and_save_models\n",
    "for filename in os.listdir('../dash_app/data/merged_category_wise_data'):\n",
    "    data_path = f'../dash_app/data/merged_category_wise_data/{filename}'\n",
    "    models_path = 'trained_models'\n",
    "    \n",
    "    try:\n",
    "        train_and_save_models(data_path, models_path)\n",
    "    except:\n",
    "        print('could not make')"
   ]
  },
  {
   "cell_type": "code",
   "execution_count": null,
   "metadata": {},
   "outputs": [],
   "source": []
  }
 ],
 "metadata": {
  "kernelspec": {
   "display_name": "Python 3",
   "language": "python",
   "name": "python3"
  },
  "language_info": {
   "codemirror_mode": {
    "name": "ipython",
    "version": 3
   },
   "file_extension": ".py",
   "mimetype": "text/x-python",
   "name": "python",
   "nbconvert_exporter": "python",
   "pygments_lexer": "ipython3",
   "version": "3.10.7"
  }
 },
 "nbformat": 4,
 "nbformat_minor": 2
}
